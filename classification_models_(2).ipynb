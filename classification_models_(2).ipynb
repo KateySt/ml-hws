{
  "cells": [
    {
      "cell_type": "code",
      "execution_count": 1,
      "metadata": {
        "id": "DNVJ9YGnI7lO"
      },
      "outputs": [],
      "source": [
        "%pip install albumentations datasets > /dev/null"
      ]
    },
    {
      "cell_type": "code",
      "execution_count": 2,
      "metadata": {
        "id": "Ab30W1ZFI_YA"
      },
      "outputs": [],
      "source": [
        "# Import necessary libraries\n",
        "import os\n",
        "import sys\n",
        "import gzip\n",
        "import struct\n",
        "from typing import List\n",
        "\n",
        "import albumentations as albu  # Library for image augmentation\n",
        "import cv2  # OpenCV library for image processing\n",
        "import numpy as np\n",
        "from tqdm import tqdm  # Library for progress bars\n",
        "\n",
        "import torch\n",
        "import torch.nn as nn\n",
        "import torch.optim as optim\n",
        "import torch.nn.functional as F\n",
        "from torch.utils.data import Dataset, DataLoader  # PyTorch utilities for data handling\n",
        "import torchvision.models as models  # Pre-trained models provided by PyTorch\n",
        "\n",
        "from datasets import load_dataset  # Custom function to load dataset\n",
        "\n",
        "import matplotlib.pyplot as plt  # Library for plotting graphs and images"
      ]
    },
    {
      "cell_type": "code",
      "execution_count": 3,
      "metadata": {
        "colab": {
          "base_uri": "https://localhost:8080/"
        },
        "id": "9uCbayyaiQMU",
        "outputId": "40de14c2-5d6e-4475-912d-76b3523d208b"
      },
      "outputs": [
        {
          "output_type": "execute_result",
          "data": {
            "text/plain": [
              "<torch._C.Generator at 0x7eb5ef1bc390>"
            ]
          },
          "metadata": {},
          "execution_count": 3
        }
      ],
      "source": [
        "torch.manual_seed(42)  # Set random seed for reproducibility"
      ]
    },
    {
      "cell_type": "markdown",
      "metadata": {
        "id": "fJuh10DLKzL-"
      },
      "source": [
        "## Dataset - [Tiny ImageNet](https://huggingface.co/datasets/zh-plus/tiny-imagenet)\n"
      ]
    },
    {
      "cell_type": "code",
      "execution_count": 4,
      "metadata": {
        "colab": {
          "base_uri": "https://localhost:8080/",
          "height": 507,
          "referenced_widgets": [
            "c7d141376c8f41a890a76383b53cdaf7",
            "21cd7bb9e49e4af38fc6129492e49cd7",
            "529c4152c47d4623903f0b9d50a05b58",
            "906c4de5b49c43ac961ee4551333d070",
            "2fa1ce76e9ba4a3d97cab38253975ad7",
            "bca5c2ccc6ce4cc390b34f9b1590849b",
            "8e6cdc7a5807449cad9af51f341b88b2",
            "ad27b3f08bfb4aaaa6d6acc6bc58e80a",
            "62858a61544f42b0affc9bf5eed2e59b",
            "3d13912852bf432a8b88a118a30c7203",
            "beb514604c6f49b38c77372da1694a82",
            "26fa302dd7744aadab196017060e972c",
            "47c06b1073454482949a85c0b02c675e",
            "d8b834ec35d442e8bd82b9c0e31812e0",
            "a410ead930bd440ba6c718c613d8936d",
            "9c7b26fec9764464a1a9d0ddd59a3733",
            "c595f2ac7e2e479ea71e2e6c081008bf",
            "801257ed72864789b6b1aad395326447",
            "27497009e34644bd91c5fdc75e78e73a",
            "e712ecd62b894a12bb46529d1feb1f17",
            "a345b678daf24f19891a642cb24c4a7a",
            "51a61fe5156e4ae490ba697ce4b848cf",
            "55fa7ea351be4e2098aea9fa596f215f",
            "9005f8335843467fa06310b9663f01ca",
            "652585f300e14d119311ed03c2c5f6ff",
            "3bd4e93a8494417f9354defeb14a3e8c",
            "d95e7054e1964ef08fc75829f5001b16",
            "47463234f13f4a70b1d5f237531e56d3",
            "5aafc3bbd7854af1ae32a9b0e969f0e4",
            "0f592d03b7bd40dc854e13dd4688430f",
            "b2d1ead0d91144d798591ce73f3c4d1c",
            "17269a34efd44d2ba5af4f9aed51f00f",
            "560651f357e543b59583f11d4095893a",
            "bed29faef7a64ee9a0f1d19282c31f67",
            "87c3822c2ef64649afc802a64821cbc5",
            "0c1669859fcb408483cc46ea324060ea",
            "b211f1676f224fefa32419bea2f7624b",
            "8b9a29fde50d44f59e637349ab151300",
            "3bd87abd3a574ca88e8a74bfd8904d3d",
            "f0f8b4141798429b8f199391ea175212",
            "00dc5a7d89634a09944d74c95d6632c1",
            "8c98251376224dad82b567566ab329d8",
            "45d763f058b64cd396d4ab5f5f80836f",
            "3af9d0d913b34c71baff00e6df4bb575",
            "0d71156c89d94d51a9eb9119e3b51c18",
            "14919add977047d4913232d9eafcd523",
            "341e412bd0fd4c45b0479aaf4b9ba5fd",
            "a6404bfec79344c49c95b9b275084444",
            "cb576ef8045f402b84cf7d59de8f17d0",
            "3edf4df3e3e0427fa2f90cbc5963b43e",
            "70d993efbd1448e9a31f2bd7d9a787c0",
            "d051e94363c546808f6e7fe3d86a1667",
            "6570f11f242c42d98a1b3b209de97896",
            "25cb89bbe5da4714aff888d1b4835d13",
            "10a26e9737f94587800227e743bce280",
            "164441c411bc4d658b807436698129b1",
            "da242218e2c646819f8d73bd5ae797e0",
            "f2b0f0d71c2f40d2852a2bcd50504baa",
            "5cfc98c1b34547ebb45e08fd70d078bf",
            "2a98936e95e747a3bdc95f2dc2167437",
            "63c18b47251d4b79a7702de438b82ee5",
            "203d1bbbd95f4236b26f227a5de31574",
            "f23ee07ef9e24aa2acefe8504344da41",
            "2ab83bf09ea7449d8eae1f16e6bae555",
            "eda7f28e1c29494ab7a90a9f7112cead",
            "3f87ecf61a284f11aafc389605133dff"
          ]
        },
        "id": "irVDw1j_JdEU",
        "outputId": "1da5db82-a4dd-4262-812f-9944e7e7173e"
      },
      "outputs": [
        {
          "output_type": "stream",
          "name": "stderr",
          "text": [
            "/usr/local/lib/python3.11/dist-packages/huggingface_hub/utils/_auth.py:94: UserWarning: \n",
            "The secret `HF_TOKEN` does not exist in your Colab secrets.\n",
            "To authenticate with the Hugging Face Hub, create a token in your settings tab (https://huggingface.co/settings/tokens), set it as secret in your Google Colab and restart your session.\n",
            "You will be able to reuse this secret in all of your notebooks.\n",
            "Please note that authentication is recommended but still optional to access public models or datasets.\n",
            "  warnings.warn(\n"
          ]
        },
        {
          "output_type": "display_data",
          "data": {
            "text/plain": [
              "README.md:   0%|          | 0.00/4.63k [00:00<?, ?B/s]"
            ],
            "application/vnd.jupyter.widget-view+json": {
              "version_major": 2,
              "version_minor": 0,
              "model_id": "c7d141376c8f41a890a76383b53cdaf7"
            }
          },
          "metadata": {}
        },
        {
          "output_type": "display_data",
          "data": {
            "text/plain": [
              "imagenette.py:   0%|          | 0.00/5.31k [00:00<?, ?B/s]"
            ],
            "application/vnd.jupyter.widget-view+json": {
              "version_major": 2,
              "version_minor": 0,
              "model_id": "26fa302dd7744aadab196017060e972c"
            }
          },
          "metadata": {}
        },
        {
          "output_type": "display_data",
          "data": {
            "text/plain": [
              "0000.parquet:   0%|          | 0.00/246M [00:00<?, ?B/s]"
            ],
            "application/vnd.jupyter.widget-view+json": {
              "version_major": 2,
              "version_minor": 0,
              "model_id": "55fa7ea351be4e2098aea9fa596f215f"
            }
          },
          "metadata": {}
        },
        {
          "output_type": "display_data",
          "data": {
            "text/plain": [
              "0000.parquet:   0%|          | 0.00/103M [00:00<?, ?B/s]"
            ],
            "application/vnd.jupyter.widget-view+json": {
              "version_major": 2,
              "version_minor": 0,
              "model_id": "bed29faef7a64ee9a0f1d19282c31f67"
            }
          },
          "metadata": {}
        },
        {
          "output_type": "display_data",
          "data": {
            "text/plain": [
              "Generating train split:   0%|          | 0/9469 [00:00<?, ? examples/s]"
            ],
            "application/vnd.jupyter.widget-view+json": {
              "version_major": 2,
              "version_minor": 0,
              "model_id": "0d71156c89d94d51a9eb9119e3b51c18"
            }
          },
          "metadata": {}
        },
        {
          "output_type": "display_data",
          "data": {
            "text/plain": [
              "Generating validation split:   0%|          | 0/3925 [00:00<?, ? examples/s]"
            ],
            "application/vnd.jupyter.widget-view+json": {
              "version_major": 2,
              "version_minor": 0,
              "model_id": "164441c411bc4d658b807436698129b1"
            }
          },
          "metadata": {}
        },
        {
          "output_type": "execute_result",
          "data": {
            "text/plain": [
              "DatasetDict({\n",
              "    train: Dataset({\n",
              "        features: ['image', 'label'],\n",
              "        num_rows: 9469\n",
              "    })\n",
              "    validation: Dataset({\n",
              "        features: ['image', 'label'],\n",
              "        num_rows: 3925\n",
              "    })\n",
              "})"
            ]
          },
          "metadata": {},
          "execution_count": 4
        }
      ],
      "source": [
        "# Load the dataset using the load_dataset function with parameters \"frgfm/imagenette\" and \"320px\".\n",
        "# The \"frgfm/imagenette\" dataset is being loaded with images resized to 320 pixels.\n",
        "dataset = load_dataset(\"frgfm/imagenette\", \"320px\")\n",
        "\n",
        "# Define the number of labels in the dataset.\n",
        "num_labels = 10\n",
        "\n",
        "# Print the dataset object.\n",
        "dataset"
      ]
    },
    {
      "cell_type": "code",
      "execution_count": 5,
      "metadata": {
        "id": "_7Bi6CddXNsp"
      },
      "outputs": [],
      "source": [
        "# Access the training split of the dataset using the key \"train\".\n",
        "# Then, access the 124th sample (indexing is 0-based) within the training split.\n",
        "# Retrieve the image data associated with the sample.\n",
        "image_data = dataset[\"train\"][123][\"image\"]"
      ]
    },
    {
      "cell_type": "code",
      "execution_count": 6,
      "metadata": {
        "id": "BVElCdhCKcLG"
      },
      "outputs": [],
      "source": [
        "class HuggingFaceDataset(Dataset):\n",
        "    \"\"\"\n",
        "    Define a custom dataset class named HuggingFaceDataset inheriting from the PyTorch Dataset class.\n",
        "    \"\"\"\n",
        "    def __init__(self, dataset: Dataset, augmentations: albu.Compose) -> None:\n",
        "        # Constructor method to initialize the dataset and augmentation transformations.\n",
        "        self.dataset = dataset  # Store the input dataset\n",
        "        self.augs = augmentations  # Store the augmentation transformations\n",
        "\n",
        "    def __len__(self) -> int:\n",
        "        # Override the len method to return the length of the dataset.\n",
        "        return len(self.dataset)\n",
        "\n",
        "    def __getitem__(self, index) -> tuple:\n",
        "        # Override the getitem method to retrieve a sample from the dataset.\n",
        "        sample = self.dataset[index]  # Get the sample at the specified index from the dataset\n",
        "\n",
        "        # Convert the image to RGB format if it's not already in that format\n",
        "        image = sample[\"image\"].convert(\"RGB\")\n",
        "\n",
        "        # Apply the specified augmentations to the image\n",
        "        image = self.augs(image=np.array(image))[\"image\"]\n",
        "\n",
        "        # Convert the augmented image to a PyTorch tensor and permute its dimensions\n",
        "        image = torch.from_numpy(image).permute(2, 0, 1)\n",
        "\n",
        "        # Convert the label to a PyTorch LongTensor\n",
        "        label = torch.LongTensor([sample[\"label\"]])\n",
        "\n",
        "        # Return the augmented image and its corresponding label as a tuple\n",
        "        return image, label\n"
      ]
    },
    {
      "cell_type": "code",
      "execution_count": 7,
      "metadata": {
        "id": "YTy_vk1RiQMX"
      },
      "outputs": [],
      "source": [
        "# Set the batch size for training\n",
        "batch_size = 32\n",
        "\n",
        "# Define the input shape for the images (height, width).\n",
        "# NOTE: To speed up training, you can decrease the input shape, but it may affect the final performance.\n",
        "input_shape = (224, 224)\n",
        "\n",
        "# Set the number of workers for data loading to be the number of available CPU cores\n",
        "workers = os.cpu_count()\n",
        "\n",
        "# Define the augmentation transformations for training images\n",
        "# TODO: optional, play with augmentations\n",
        "train_augs = albu.Compose([\n",
        "    albu.Resize(input_shape[0], input_shape[1]),\n",
        "    albu.HorizontalFlip(p=0.5),\n",
        "    albu.RandomBrightnessContrast(p=0.2),\n",
        "    albu.Normalize(mean=(0.485, 0.456, 0.406), std=(0.229, 0.224, 0.225)),\n",
        "])\n",
        "\n",
        "# Create a DataLoader for training data using the defined augmentations\n",
        "train_loader = DataLoader(\n",
        "    HuggingFaceDataset(dataset['train'], train_augs),\n",
        "    batch_size=batch_size,\n",
        "    shuffle=True,\n",
        "    num_workers=workers\n",
        ")\n",
        "\n",
        "# Define the augmentation transformations for validation images\n",
        "valid_augs = albu.Compose([\n",
        "    albu.Resize(input_shape[0], input_shape[1]),\n",
        "    albu.Normalize(mean=(0.485, 0.456, 0.406), std=(0.229, 0.224, 0.225)),\n",
        "])\n",
        "\n",
        "# Create a DataLoader for validation data using the defined augmentations\n",
        "valid_loader = DataLoader(\n",
        "    HuggingFaceDataset(dataset['validation'], valid_augs),\n",
        "    batch_size=batch_size,\n",
        "    shuffle=False,\n",
        "    num_workers=workers\n",
        ")\n"
      ]
    },
    {
      "cell_type": "code",
      "execution_count": 8,
      "metadata": {
        "id": "mP5jw3qSiQMX"
      },
      "outputs": [],
      "source": [
        "def train_one_epoch(\n",
        "    model: nn.Module,\n",
        "    loader: DataLoader,\n",
        "    criterion: nn.Module,\n",
        "    optimizer: optim.Optimizer,\n",
        "    device: str = \"cpu\",\n",
        "    verbose: bool = True,\n",
        ") -> dict:\n",
        "    \"\"\"\n",
        "    Function to train the model for one epoch.\n",
        "\n",
        "    Args:\n",
        "    - model: The neural network model to be trained.\n",
        "    - loader: DataLoader object for loading the training data.\n",
        "    - criterion: Loss function criterion.\n",
        "    - optimizer: Optimizer for updating model parameters.\n",
        "    - device: Device to run the model on (default is \"cpu\").\n",
        "    - verbose: If True, print progress during training.\n",
        "\n",
        "    Returns:\n",
        "    - logs: Dictionary containing training statistics.\n",
        "    \"\"\"\n",
        "    # TODO: complete training function\n",
        "    model.train()\n",
        "    running_loss = 0.0\n",
        "    correct = 0\n",
        "    total = 0\n",
        "\n",
        "    for images, labels in tqdm(loader, desc=\"Training\", leave=False):\n",
        "        images, labels = images.to(device), labels.to(device).squeeze()\n",
        "\n",
        "        optimizer.zero_grad()\n",
        "        outputs = model(images)\n",
        "        loss = criterion(outputs, labels)\n",
        "        loss.backward()\n",
        "        optimizer.step()\n",
        "\n",
        "        running_loss += loss.item()\n",
        "        _, predicted = outputs.max(1)\n",
        "        total += labels.size(0)\n",
        "        correct += predicted.eq(labels).sum().item()\n",
        "\n",
        "    logs = {\n",
        "        \"loss\": running_loss / len(loader),\n",
        "        \"accuracy\": correct / total,\n",
        "    }\n",
        "    if verbose:\n",
        "        print(f\"Train Loss: {logs['loss']:.4f}, Train Accuracy: {logs['accuracy']:.4f}\")\n",
        "    return logs"
      ]
    },
    {
      "cell_type": "code",
      "execution_count": 9,
      "metadata": {
        "id": "WL3aSDswiQMY"
      },
      "outputs": [],
      "source": [
        "@torch.inference_mode()\n",
        "def evaluate(\n",
        "    model: nn.Module,\n",
        "    loader: DataLoader,\n",
        "    criterion: nn.Module,\n",
        "    device: str = \"cpu\",\n",
        "    verbose: bool = True,\n",
        ") -> dict:\n",
        "    \"\"\"\n",
        "    Function to evaluate the model on the validation or test set.\n",
        "\n",
        "    Args:\n",
        "    - model: The neural network model to be evaluated.\n",
        "    - loader: DataLoader object for loading the validation or test data.\n",
        "    - criterion: Loss function criterion.\n",
        "    - device: Device to run the model on (default is \"cpu\").\n",
        "    - verbose: If True, print evaluation results.\n",
        "\n",
        "    Returns:\n",
        "    - logs: Dictionary containing evaluation statistics.\n",
        "    \"\"\"\n",
        "    # TODO: complete evaluation function\n",
        "    model.eval()\n",
        "    running_loss = 0.0\n",
        "    correct = 0\n",
        "    total = 0\n",
        "\n",
        "    with torch.no_grad():\n",
        "        for images, labels in tqdm(loader, desc=\"Evaluating\", leave=False):\n",
        "            images, labels = images.to(device), labels.to(device).squeeze()\n",
        "\n",
        "            outputs = model(images)\n",
        "            loss = criterion(outputs, labels)\n",
        "\n",
        "            running_loss += loss.item()\n",
        "            _, predicted = outputs.max(1)\n",
        "            total += labels.size(0)\n",
        "            correct += predicted.eq(labels).sum().item()\n",
        "\n",
        "    logs = {\n",
        "        \"eval_loss\": running_loss / len(loader),\n",
        "        \"accuracy\": correct / total,\n",
        "    }\n",
        "    if verbose:\n",
        "        print(f\"Validation Loss: {logs['eval_loss']:.4f}, Validation Accuracy: {logs['accuracy']:.4f}\")\n",
        "    return logs"
      ]
    },
    {
      "cell_type": "code",
      "source": [
        "device = \"cuda\" if torch.cuda.is_available() else \"cpu\"\n",
        "\n",
        "models_to_try = [\n",
        "    (models.resnet18(weights=models.ResNet18_Weights.IMAGENET1K_V1), \"ResNet18\"),\n",
        "    (models.resnet34(weights=models.ResNet34_Weights.IMAGENET1K_V1), \"ResNet34\"),\n",
        "    (models.efficientnet_b0(weights=models.EfficientNet_B0_Weights.IMAGENET1K_V1), \"EfficientNet_b0\")\n",
        "]\n",
        "\n",
        "results = {}\n",
        "\n",
        "for model, name in models_to_try:\n",
        "    if isinstance(model, models.EfficientNet):\n",
        "        model.classifier[-1] = nn.Linear(model.classifier[-1].in_features, num_labels)\n",
        "    else:\n",
        "        model.fc = nn.Linear(model.fc.in_features, num_labels)\n",
        "    model = model.to(device)\n",
        "    optimizer = optim.Adam(model.parameters(), lr=1e-3)\n",
        "    loss_fn = nn.CrossEntropyLoss()\n",
        "\n",
        "    n_epochs = 20\n",
        "    train_losses, train_accuracies = [], []\n",
        "    valid_losses, valid_accuracies = [], []\n",
        "\n",
        "    best_acc = 0.0\n",
        "    for ep in range(n_epochs):\n",
        "        print(f\"\\nEpoch {ep + 1:2d}/{n_epochs:2d}\")\n",
        "        train_logs = train_one_epoch(model, train_loader, loss_fn, optimizer, device)\n",
        "        train_losses.append(train_logs[\"loss\"])\n",
        "        train_accuracies.append(train_logs[\"accuracy\"])\n",
        "        print(\"      Train loss:\", train_losses[-1])\n",
        "        print(\"  Train accuracy:\", train_accuracies[-1])\n",
        "\n",
        "        valid_logs = evaluate(model, valid_loader, loss_fn, device)\n",
        "        valid_losses.append(valid_logs[\"eval_loss\"])\n",
        "        valid_accuracies.append(valid_logs[\"accuracy\"])\n",
        "        print(\"Validation loss:\", valid_losses[-1])\n",
        "        print(\"Validation accuracy:\", valid_accuracies[-1])\n",
        "\n",
        "        if valid_logs[\"accuracy\"] > best_acc:\n",
        "            best_acc = valid_logs[\"accuracy\"]\n",
        "\n",
        "    results[name] = best_acc\n",
        "\n",
        "    # Візуалізація\n",
        "    fig, axes = plt.subplots(ncols=2, figsize=(15, 4))\n",
        "    axes[0].plot(np.arange(len(train_losses)), train_losses, \".-\")\n",
        "    axes[0].plot(np.arange(len(valid_losses)), valid_losses, \".-\")\n",
        "    axes[0].legend([\"train\", \"validation\"])\n",
        "    axes[0].set_title(f\"{name} Loss\")\n",
        "    axes[0].grid()\n",
        "\n",
        "    axes[1].plot(np.arange(len(train_accuracies)), train_accuracies, \".-\")\n",
        "    axes[1].plot(np.arange(len(valid_accuracies)), valid_accuracies, \".-\")\n",
        "    axes[1].legend([\"train\", \"validation\"])\n",
        "    axes[1].set_title(f\"{name} Accuracy\")\n",
        "    axes[1].grid()\n",
        "    plt.show()"
      ],
      "metadata": {
        "id": "ogXpIoRD_jPV",
        "colab": {
          "base_uri": "https://localhost:8080/",
          "height": 1000
        },
        "outputId": "107c58ce-66b0-42e8-9add-8ce56fdc7c20"
      },
      "execution_count": 10,
      "outputs": [
        {
          "output_type": "stream",
          "name": "stderr",
          "text": [
            "Downloading: \"https://download.pytorch.org/models/resnet18-f37072fd.pth\" to /root/.cache/torch/hub/checkpoints/resnet18-f37072fd.pth\n",
            "100%|██████████| 44.7M/44.7M [00:00<00:00, 179MB/s]\n",
            "Downloading: \"https://download.pytorch.org/models/resnet34-b627a593.pth\" to /root/.cache/torch/hub/checkpoints/resnet34-b627a593.pth\n",
            "100%|██████████| 83.3M/83.3M [00:00<00:00, 168MB/s]\n",
            "Downloading: \"https://download.pytorch.org/models/efficientnet_b0_rwightman-7f5810bc.pth\" to /root/.cache/torch/hub/checkpoints/efficientnet_b0_rwightman-7f5810bc.pth\n",
            "100%|██████████| 20.5M/20.5M [00:00<00:00, 168MB/s]\n"
          ]
        },
        {
          "output_type": "stream",
          "name": "stdout",
          "text": [
            "\n",
            "Epoch  1/20\n"
          ]
        },
        {
          "output_type": "stream",
          "name": "stderr",
          "text": []
        },
        {
          "output_type": "stream",
          "name": "stdout",
          "text": [
            "Train Loss: 0.6220, Train Accuracy: 0.8104\n",
            "      Train loss: 0.6220164001491424\n",
            "  Train accuracy: 0.8104340479459288\n"
          ]
        },
        {
          "output_type": "stream",
          "name": "stderr",
          "text": []
        },
        {
          "output_type": "stream",
          "name": "stdout",
          "text": [
            "Validation Loss: 0.7332, Validation Accuracy: 0.7623\n",
            "Validation loss: 0.7332494567125672\n",
            "Validation accuracy: 0.7622929936305732\n",
            "\n",
            "Epoch  2/20\n"
          ]
        },
        {
          "output_type": "stream",
          "name": "stderr",
          "text": []
        },
        {
          "output_type": "stream",
          "name": "stdout",
          "text": [
            "Train Loss: 0.4174, Train Accuracy: 0.8718\n",
            "      Train loss: 0.41742671812204896\n",
            "  Train accuracy: 0.8717921639032633\n"
          ]
        },
        {
          "output_type": "stream",
          "name": "stderr",
          "text": []
        },
        {
          "output_type": "stream",
          "name": "stdout",
          "text": [
            "Validation Loss: 0.4866, Validation Accuracy: 0.8527\n",
            "Validation loss: 0.48663485185546057\n",
            "Validation accuracy: 0.8527388535031847\n",
            "\n",
            "Epoch  3/20\n"
          ]
        },
        {
          "output_type": "stream",
          "name": "stderr",
          "text": []
        },
        {
          "output_type": "stream",
          "name": "stdout",
          "text": [
            "Train Loss: 0.3463, Train Accuracy: 0.8909\n",
            "      Train loss: 0.34633349362332877\n",
            "  Train accuracy: 0.8909071707677685\n"
          ]
        },
        {
          "output_type": "stream",
          "name": "stderr",
          "text": []
        },
        {
          "output_type": "stream",
          "name": "stdout",
          "text": [
            "Validation Loss: 0.6432, Validation Accuracy: 0.7990\n",
            "Validation loss: 0.643227845157792\n",
            "Validation accuracy: 0.7989808917197452\n",
            "\n",
            "Epoch  4/20\n"
          ]
        },
        {
          "output_type": "stream",
          "name": "stderr",
          "text": []
        },
        {
          "output_type": "stream",
          "name": "stdout",
          "text": [
            "Train Loss: 0.2720, Train Accuracy: 0.9149\n",
            "      Train loss: 0.2720264174182572\n",
            "  Train accuracy: 0.9148801351779491\n"
          ]
        },
        {
          "output_type": "stream",
          "name": "stderr",
          "text": []
        },
        {
          "output_type": "stream",
          "name": "stdout",
          "text": [
            "Validation Loss: 0.4295, Validation Accuracy: 0.8741\n",
            "Validation loss: 0.42954341799013196\n",
            "Validation accuracy: 0.8741401273885351\n",
            "\n",
            "Epoch  5/20\n"
          ]
        },
        {
          "output_type": "stream",
          "name": "stderr",
          "text": []
        },
        {
          "output_type": "stream",
          "name": "stdout",
          "text": [
            "Train Loss: 0.2450, Train Accuracy: 0.9220\n",
            "      Train loss: 0.2449823196952206\n",
            "  Train accuracy: 0.921955855950998\n"
          ]
        },
        {
          "output_type": "stream",
          "name": "stderr",
          "text": []
        },
        {
          "output_type": "stream",
          "name": "stdout",
          "text": [
            "Validation Loss: 0.4155, Validation Accuracy: 0.8744\n",
            "Validation loss: 0.41553710841354197\n",
            "Validation accuracy: 0.8743949044585987\n",
            "\n",
            "Epoch  6/20\n"
          ]
        },
        {
          "output_type": "stream",
          "name": "stderr",
          "text": []
        },
        {
          "output_type": "stream",
          "name": "stdout",
          "text": [
            "Train Loss: 0.1834, Train Accuracy: 0.9445\n",
            "      Train loss: 0.18339305109898182\n",
            "  Train accuracy: 0.9444503115429296\n"
          ]
        },
        {
          "output_type": "stream",
          "name": "stderr",
          "text": []
        },
        {
          "output_type": "stream",
          "name": "stdout",
          "text": [
            "Validation Loss: 0.4218, Validation Accuracy: 0.8739\n",
            "Validation loss: 0.42175966665542464\n",
            "Validation accuracy: 0.8738853503184714\n",
            "\n",
            "Epoch  7/20\n"
          ]
        },
        {
          "output_type": "stream",
          "name": "stderr",
          "text": []
        },
        {
          "output_type": "stream",
          "name": "stdout",
          "text": [
            "Train Loss: 0.2088, Train Accuracy: 0.9335\n",
            "      Train loss: 0.20876948709750698\n",
            "  Train accuracy: 0.933467103178794\n"
          ]
        },
        {
          "output_type": "stream",
          "name": "stderr",
          "text": []
        },
        {
          "output_type": "stream",
          "name": "stdout",
          "text": [
            "Validation Loss: 0.3933, Validation Accuracy: 0.8780\n",
            "Validation loss: 0.39333964819164297\n",
            "Validation accuracy: 0.8779617834394905\n",
            "\n",
            "Epoch  8/20\n"
          ]
        },
        {
          "output_type": "stream",
          "name": "stderr",
          "text": []
        },
        {
          "output_type": "stream",
          "name": "stdout",
          "text": [
            "Train Loss: 0.1262, Train Accuracy: 0.9603\n",
            "      Train loss: 0.12623720822975393\n",
            "  Train accuracy: 0.9602914774527406\n"
          ]
        },
        {
          "output_type": "stream",
          "name": "stderr",
          "text": []
        },
        {
          "output_type": "stream",
          "name": "stdout",
          "text": [
            "Validation Loss: 0.4010, Validation Accuracy: 0.8915\n",
            "Validation loss: 0.4010239023624397\n",
            "Validation accuracy: 0.8914649681528662\n",
            "\n",
            "Epoch  9/20\n"
          ]
        },
        {
          "output_type": "stream",
          "name": "stderr",
          "text": []
        },
        {
          "output_type": "stream",
          "name": "stdout",
          "text": [
            "Train Loss: 0.1338, Train Accuracy: 0.9565\n",
            "      Train loss: 0.13382888759165448\n",
            "  Train accuracy: 0.9564895976343859\n"
          ]
        },
        {
          "output_type": "stream",
          "name": "stderr",
          "text": []
        },
        {
          "output_type": "stream",
          "name": "stdout",
          "text": [
            "Validation Loss: 0.4904, Validation Accuracy: 0.8734\n",
            "Validation loss: 0.4904043262377684\n",
            "Validation accuracy: 0.8733757961783439\n",
            "\n",
            "Epoch 10/20\n"
          ]
        },
        {
          "output_type": "stream",
          "name": "stderr",
          "text": []
        },
        {
          "output_type": "stream",
          "name": "stdout",
          "text": [
            "Train Loss: 0.1548, Train Accuracy: 0.9511\n",
            "      Train loss: 0.1547949205316301\n",
            "  Train accuracy: 0.9511036012250501\n"
          ]
        },
        {
          "output_type": "stream",
          "name": "stderr",
          "text": []
        },
        {
          "output_type": "stream",
          "name": "stdout",
          "text": [
            "Validation Loss: 0.4635, Validation Accuracy: 0.8792\n",
            "Validation loss: 0.4634527724195552\n",
            "Validation accuracy: 0.879235668789809\n",
            "\n",
            "Epoch 11/20\n"
          ]
        },
        {
          "output_type": "stream",
          "name": "stderr",
          "text": []
        },
        {
          "output_type": "stream",
          "name": "stdout",
          "text": [
            "Train Loss: 0.1068, Train Accuracy: 0.9641\n",
            "      Train loss: 0.10675304069740672\n",
            "  Train accuracy: 0.9640933572710951\n"
          ]
        },
        {
          "output_type": "stream",
          "name": "stderr",
          "text": []
        },
        {
          "output_type": "stream",
          "name": "stdout",
          "text": [
            "Validation Loss: 0.4517, Validation Accuracy: 0.8831\n",
            "Validation loss: 0.45172669067746973\n",
            "Validation accuracy: 0.8830573248407644\n",
            "\n",
            "Epoch 12/20\n"
          ]
        },
        {
          "output_type": "stream",
          "name": "stderr",
          "text": []
        },
        {
          "output_type": "stream",
          "name": "stdout",
          "text": [
            "Train Loss: 0.1117, Train Accuracy: 0.9664\n",
            "      Train loss: 0.11172192890709895\n",
            "  Train accuracy: 0.9664167282712007\n"
          ]
        },
        {
          "output_type": "stream",
          "name": "stderr",
          "text": []
        },
        {
          "output_type": "stream",
          "name": "stdout",
          "text": [
            "Validation Loss: 0.4629, Validation Accuracy: 0.8823\n",
            "Validation loss: 0.462881298593413\n",
            "Validation accuracy: 0.8822929936305732\n",
            "\n",
            "Epoch 13/20\n"
          ]
        },
        {
          "output_type": "stream",
          "name": "stderr",
          "text": []
        },
        {
          "output_type": "stream",
          "name": "stdout",
          "text": [
            "Train Loss: 0.1000, Train Accuracy: 0.9685\n",
            "      Train loss: 0.09996990821476888\n",
            "  Train accuracy: 0.9685288837258422\n"
          ]
        },
        {
          "output_type": "stream",
          "name": "stderr",
          "text": []
        },
        {
          "output_type": "stream",
          "name": "stdout",
          "text": [
            "Validation Loss: 0.5011, Validation Accuracy: 0.8693\n",
            "Validation loss: 0.501079620369445\n",
            "Validation accuracy: 0.8692993630573248\n",
            "\n",
            "Epoch 14/20\n"
          ]
        },
        {
          "output_type": "stream",
          "name": "stderr",
          "text": []
        },
        {
          "output_type": "stream",
          "name": "stdout",
          "text": [
            "Train Loss: 0.0992, Train Accuracy: 0.9686\n",
            "      Train loss: 0.09923368897658735\n",
            "  Train accuracy: 0.9686344914985743\n"
          ]
        },
        {
          "output_type": "stream",
          "name": "stderr",
          "text": []
        },
        {
          "output_type": "stream",
          "name": "stdout",
          "text": [
            "Validation Loss: 0.5787, Validation Accuracy: 0.8655\n",
            "Validation loss: 0.578711701405369\n",
            "Validation accuracy: 0.8654777070063694\n",
            "\n",
            "Epoch 15/20\n"
          ]
        },
        {
          "output_type": "stream",
          "name": "stderr",
          "text": []
        },
        {
          "output_type": "stream",
          "name": "stdout",
          "text": [
            "Train Loss: 0.0829, Train Accuracy: 0.9744\n",
            "      Train loss: 0.08289650452757455\n",
            "  Train accuracy: 0.9744429189988383\n"
          ]
        },
        {
          "output_type": "stream",
          "name": "stderr",
          "text": []
        },
        {
          "output_type": "stream",
          "name": "stdout",
          "text": [
            "Validation Loss: 0.4915, Validation Accuracy: 0.8757\n",
            "Validation loss: 0.49148312369179326\n",
            "Validation accuracy: 0.8756687898089172\n",
            "\n",
            "Epoch 16/20\n"
          ]
        },
        {
          "output_type": "stream",
          "name": "stderr",
          "text": []
        },
        {
          "output_type": "stream",
          "name": "stdout",
          "text": [
            "Train Loss: 0.1075, Train Accuracy: 0.9655\n",
            "      Train loss: 0.10746971383589364\n",
            "  Train accuracy: 0.9654662583166121\n"
          ]
        },
        {
          "output_type": "stream",
          "name": "stderr",
          "text": []
        },
        {
          "output_type": "stream",
          "name": "stdout",
          "text": [
            "Validation Loss: 0.4425, Validation Accuracy: 0.8876\n",
            "Validation loss: 0.4424712337421942\n",
            "Validation accuracy: 0.8876433121019108\n",
            "\n",
            "Epoch 17/20\n"
          ]
        },
        {
          "output_type": "stream",
          "name": "stderr",
          "text": []
        },
        {
          "output_type": "stream",
          "name": "stdout",
          "text": [
            "Train Loss: 0.0703, Train Accuracy: 0.9770\n",
            "      Train loss: 0.070292271909853\n",
            "  Train accuracy: 0.9769775055444081\n"
          ]
        },
        {
          "output_type": "stream",
          "name": "stderr",
          "text": []
        },
        {
          "output_type": "stream",
          "name": "stdout",
          "text": [
            "Validation Loss: 0.4032, Validation Accuracy: 0.9004\n",
            "Validation loss: 0.4032080280187547\n",
            "Validation accuracy: 0.9003821656050955\n",
            "\n",
            "Epoch 18/20\n"
          ]
        },
        {
          "output_type": "stream",
          "name": "stderr",
          "text": []
        },
        {
          "output_type": "stream",
          "name": "stdout",
          "text": [
            "Train Loss: 0.0477, Train Accuracy: 0.9846\n",
            "      Train loss: 0.04765525244589741\n",
            "  Train accuracy: 0.9845812651811173\n"
          ]
        },
        {
          "output_type": "stream",
          "name": "stderr",
          "text": []
        },
        {
          "output_type": "stream",
          "name": "stdout",
          "text": [
            "Validation Loss: 0.4063, Validation Accuracy: 0.9055\n",
            "Validation loss: 0.4062945637717082\n",
            "Validation accuracy: 0.9054777070063694\n",
            "\n",
            "Epoch 19/20\n"
          ]
        },
        {
          "output_type": "stream",
          "name": "stderr",
          "text": []
        },
        {
          "output_type": "stream",
          "name": "stdout",
          "text": [
            "Train Loss: 0.0977, Train Accuracy: 0.9699\n",
            "      Train loss: 0.09771764510028211\n",
            "  Train accuracy: 0.9699017847713591\n"
          ]
        },
        {
          "output_type": "stream",
          "name": "stderr",
          "text": []
        },
        {
          "output_type": "stream",
          "name": "stdout",
          "text": [
            "Validation Loss: 0.6236, Validation Accuracy: 0.8673\n",
            "Validation loss: 0.6235955015650185\n",
            "Validation accuracy: 0.8672611464968153\n",
            "\n",
            "Epoch 20/20\n"
          ]
        },
        {
          "output_type": "stream",
          "name": "stderr",
          "text": []
        },
        {
          "output_type": "stream",
          "name": "stdout",
          "text": [
            "Train Loss: 0.0781, Train Accuracy: 0.9743\n",
            "      Train loss: 0.07808230796512657\n",
            "  Train accuracy: 0.9743373112261062\n"
          ]
        },
        {
          "output_type": "stream",
          "name": "stderr",
          "text": []
        },
        {
          "output_type": "stream",
          "name": "stdout",
          "text": [
            "Validation Loss: 0.4079, Validation Accuracy: 0.8938\n",
            "Validation loss: 0.40793011629408815\n",
            "Validation accuracy: 0.8937579617834395\n"
          ]
        },
        {
          "output_type": "display_data",
          "data": {
            "text/plain": [
              "<Figure size 1500x400 with 2 Axes>"
            ],
            "image/png": "[encoded data removed]"
          },
          "metadata": {}
        },
        {
          "output_type": "stream",
          "name": "stdout",
          "text": [
            "\n",
            "Epoch  1/20\n"
          ]
        },
        {
          "output_type": "stream",
          "name": "stderr",
          "text": []
        },
        {
          "output_type": "stream",
          "name": "stdout",
          "text": [
            "Train Loss: 0.7810, Train Accuracy: 0.7582\n",
            "      Train loss: 0.7810105928597418\n",
            "  Train accuracy: 0.7581582004435526\n"
          ]
        },
        {
          "output_type": "stream",
          "name": "stderr",
          "text": []
        },
        {
          "output_type": "stream",
          "name": "stdout",
          "text": [
            "Validation Loss: 0.9966, Validation Accuracy: 0.7121\n",
            "Validation loss: 0.9966063065363503\n",
            "Validation accuracy: 0.7121019108280254\n",
            "\n",
            "Epoch  2/20\n"
          ]
        },
        {
          "output_type": "stream",
          "name": "stderr",
          "text": []
        },
        {
          "output_type": "stream",
          "name": "stdout",
          "text": [
            "Train Loss: 0.4969, Train Accuracy: 0.8438\n",
            "      Train loss: 0.4969296881526306\n",
            "  Train accuracy: 0.8438061041292639\n"
          ]
        },
        {
          "output_type": "stream",
          "name": "stderr",
          "text": []
        },
        {
          "output_type": "stream",
          "name": "stdout",
          "text": [
            "Validation Loss: 0.5111, Validation Accuracy: 0.8405\n",
            "Validation loss: 0.5111161933197239\n",
            "Validation accuracy: 0.8405095541401274\n",
            "\n",
            "Epoch  3/20\n"
          ]
        },
        {
          "output_type": "stream",
          "name": "stderr",
          "text": []
        },
        {
          "output_type": "stream",
          "name": "stdout",
          "text": [
            "Train Loss: 0.3902, Train Accuracy: 0.8784\n",
            "      Train loss: 0.3901624242598946\n",
            "  Train accuracy: 0.8784454535853838\n"
          ]
        },
        {
          "output_type": "stream",
          "name": "stderr",
          "text": []
        },
        {
          "output_type": "stream",
          "name": "stdout",
          "text": [
            "Validation Loss: 0.5079, Validation Accuracy: 0.8428\n",
            "Validation loss: 0.5078956076678464\n",
            "Validation accuracy: 0.8428025477707006\n",
            "\n",
            "Epoch  4/20\n"
          ]
        },
        {
          "output_type": "stream",
          "name": "stderr",
          "text": []
        },
        {
          "output_type": "stream",
          "name": "stdout",
          "text": [
            "Train Loss: 0.3069, Train Accuracy: 0.9062\n",
            "      Train loss: 0.30690021822984154\n",
            "  Train accuracy: 0.9062202978139191\n"
          ]
        },
        {
          "output_type": "stream",
          "name": "stderr",
          "text": []
        },
        {
          "output_type": "stream",
          "name": "stdout",
          "text": [
            "Validation Loss: 0.4192, Validation Accuracy: 0.8680\n",
            "Validation loss: 0.419156061561127\n",
            "Validation accuracy: 0.8680254777070063\n",
            "\n",
            "Epoch  5/20\n"
          ]
        },
        {
          "output_type": "stream",
          "name": "stderr",
          "text": []
        },
        {
          "output_type": "stream",
          "name": "stdout",
          "text": [
            "Train Loss: 0.2991, Train Accuracy: 0.9048\n",
            "      Train loss: 0.2991300726724738\n",
            "  Train accuracy: 0.9048473967684022\n"
          ]
        },
        {
          "output_type": "stream",
          "name": "stderr",
          "text": []
        },
        {
          "output_type": "stream",
          "name": "stdout",
          "text": [
            "Validation Loss: 0.4792, Validation Accuracy: 0.8571\n",
            "Validation loss: 0.4791882211584749\n",
            "Validation accuracy: 0.8570700636942675\n",
            "\n",
            "Epoch  6/20\n"
          ]
        },
        {
          "output_type": "stream",
          "name": "stderr",
          "text": []
        },
        {
          "output_type": "stream",
          "name": "stdout",
          "text": [
            "Train Loss: 0.2213, Train Accuracy: 0.9310\n",
            "      Train loss: 0.22129055955195548\n",
            "  Train accuracy: 0.9310381244059562\n"
          ]
        },
        {
          "output_type": "stream",
          "name": "stderr",
          "text": []
        },
        {
          "output_type": "stream",
          "name": "stdout",
          "text": [
            "Validation Loss: 0.3412, Validation Accuracy: 0.8945\n",
            "Validation loss: 0.3412391450710413\n",
            "Validation accuracy: 0.8945222929936306\n",
            "\n",
            "Epoch  7/20\n"
          ]
        },
        {
          "output_type": "stream",
          "name": "stderr",
          "text": []
        },
        {
          "output_type": "stream",
          "name": "stdout",
          "text": [
            "Train Loss: 0.2008, Train Accuracy: 0.9361\n",
            "      Train loss: 0.20075110672513727\n",
            "  Train accuracy: 0.9361072974970958\n"
          ]
        },
        {
          "output_type": "stream",
          "name": "stderr",
          "text": []
        },
        {
          "output_type": "stream",
          "name": "stdout",
          "text": [
            "Validation Loss: 0.4283, Validation Accuracy: 0.8813\n",
            "Validation loss: 0.4283277549921929\n",
            "Validation accuracy: 0.8812738853503185\n",
            "\n",
            "Epoch  8/20\n"
          ]
        },
        {
          "output_type": "stream",
          "name": "stderr",
          "text": []
        },
        {
          "output_type": "stream",
          "name": "stdout",
          "text": [
            "Train Loss: 0.1740, Train Accuracy: 0.9449\n",
            "      Train loss: 0.17402248917701277\n",
            "  Train accuracy: 0.9448727426338579\n"
          ]
        },
        {
          "output_type": "stream",
          "name": "stderr",
          "text": []
        },
        {
          "output_type": "stream",
          "name": "stdout",
          "text": [
            "Validation Loss: 0.3997, Validation Accuracy: 0.8876\n",
            "Validation loss: 0.39968211512740065\n",
            "Validation accuracy: 0.8876433121019108\n",
            "\n",
            "Epoch  9/20\n"
          ]
        },
        {
          "output_type": "stream",
          "name": "stderr",
          "text": []
        },
        {
          "output_type": "stream",
          "name": "stdout",
          "text": [
            "Train Loss: 0.1610, Train Accuracy: 0.9471\n",
            "      Train loss: 0.16103297042521975\n",
            "  Train accuracy: 0.9470905058612313\n"
          ]
        },
        {
          "output_type": "stream",
          "name": "stderr",
          "text": []
        },
        {
          "output_type": "stream",
          "name": "stdout",
          "text": [
            "Validation Loss: 0.3313, Validation Accuracy: 0.8989\n",
            "Validation loss: 0.33125353204767877\n",
            "Validation accuracy: 0.8988535031847134\n",
            "\n",
            "Epoch 10/20\n"
          ]
        },
        {
          "output_type": "stream",
          "name": "stderr",
          "text": []
        },
        {
          "output_type": "stream",
          "name": "stdout",
          "text": [
            "Train Loss: 0.1456, Train Accuracy: 0.9498\n",
            "      Train loss: 0.14556186340711508\n",
            "  Train accuracy: 0.9498363079522653\n"
          ]
        },
        {
          "output_type": "stream",
          "name": "stderr",
          "text": []
        },
        {
          "output_type": "stream",
          "name": "stdout",
          "text": [
            "Validation Loss: 0.4761, Validation Accuracy: 0.8711\n",
            "Validation loss: 0.47608285922041527\n",
            "Validation accuracy: 0.8710828025477707\n",
            "\n",
            "Epoch 11/20\n"
          ]
        },
        {
          "output_type": "stream",
          "name": "stderr",
          "text": []
        },
        {
          "output_type": "stream",
          "name": "stdout",
          "text": [
            "Train Loss: 0.1397, Train Accuracy: 0.9546\n",
            "      Train loss: 0.139696843544575\n",
            "  Train accuracy: 0.9545886577252086\n"
          ]
        },
        {
          "output_type": "stream",
          "name": "stderr",
          "text": []
        },
        {
          "output_type": "stream",
          "name": "stdout",
          "text": [
            "Validation Loss: 0.3790, Validation Accuracy: 0.8882\n",
            "Validation loss: 0.37904261208586093\n",
            "Validation accuracy: 0.8881528662420383\n",
            "\n",
            "Epoch 12/20\n"
          ]
        },
        {
          "output_type": "stream",
          "name": "stderr",
          "text": []
        },
        {
          "output_type": "stream",
          "name": "stdout",
          "text": [
            "Train Loss: 0.1094, Train Accuracy: 0.9646\n",
            "      Train loss: 0.10939090430887567\n",
            "  Train accuracy: 0.9646213961347555\n"
          ]
        },
        {
          "output_type": "stream",
          "name": "stderr",
          "text": []
        },
        {
          "output_type": "stream",
          "name": "stdout",
          "text": [
            "Validation Loss: 0.4773, Validation Accuracy: 0.8790\n",
            "Validation loss: 0.47731410385286593\n",
            "Validation accuracy: 0.8789808917197452\n",
            "\n",
            "Epoch 13/20\n"
          ]
        },
        {
          "output_type": "stream",
          "name": "stderr",
          "text": []
        },
        {
          "output_type": "stream",
          "name": "stdout",
          "text": [
            "Train Loss: 0.1071, Train Accuracy: 0.9653\n",
            "      Train loss: 0.10709736695571337\n",
            "  Train accuracy: 0.9652550427711479\n"
          ]
        },
        {
          "output_type": "stream",
          "name": "stderr",
          "text": []
        },
        {
          "output_type": "stream",
          "name": "stdout",
          "text": [
            "Validation Loss: 0.4810, Validation Accuracy: 0.8754\n",
            "Validation loss: 0.48101737384298227\n",
            "Validation accuracy: 0.8754140127388536\n",
            "\n",
            "Epoch 14/20\n"
          ]
        },
        {
          "output_type": "stream",
          "name": "stderr",
          "text": []
        },
        {
          "output_type": "stream",
          "name": "stdout",
          "text": [
            "Train Loss: 0.1024, Train Accuracy: 0.9695\n",
            "      Train loss: 0.10241045770424141\n",
            "  Train accuracy: 0.9694793536804309\n"
          ]
        },
        {
          "output_type": "stream",
          "name": "stderr",
          "text": []
        },
        {
          "output_type": "stream",
          "name": "stdout",
          "text": [
            "Validation Loss: 0.3837, Validation Accuracy: 0.8884\n",
            "Validation loss: 0.3837240847221356\n",
            "Validation accuracy: 0.8884076433121019\n",
            "\n",
            "Epoch 15/20\n"
          ]
        },
        {
          "output_type": "stream",
          "name": "stderr",
          "text": []
        },
        {
          "output_type": "stream",
          "name": "stdout",
          "text": [
            "Train Loss: 0.0769, Train Accuracy: 0.9775\n",
            "      Train loss: 0.07694578701754122\n",
            "  Train accuracy: 0.9775055444080685\n"
          ]
        },
        {
          "output_type": "stream",
          "name": "stderr",
          "text": []
        },
        {
          "output_type": "stream",
          "name": "stdout",
          "text": [
            "Validation Loss: 0.4456, Validation Accuracy: 0.8797\n",
            "Validation loss: 0.4455996361027313\n",
            "Validation accuracy: 0.8797452229299363\n",
            "\n",
            "Epoch 16/20\n"
          ]
        },
        {
          "output_type": "stream",
          "name": "stderr",
          "text": []
        },
        {
          "output_type": "stream",
          "name": "stdout",
          "text": [
            "Train Loss: 0.1013, Train Accuracy: 0.9661\n",
            "      Train loss: 0.10133048282020625\n",
            "  Train accuracy: 0.9660999049530046\n"
          ]
        },
        {
          "output_type": "stream",
          "name": "stderr",
          "text": []
        },
        {
          "output_type": "stream",
          "name": "stdout",
          "text": [
            "Validation Loss: 0.4993, Validation Accuracy: 0.8657\n",
            "Validation loss: 0.49929463796741597\n",
            "Validation accuracy: 0.8657324840764331\n",
            "\n",
            "Epoch 17/20\n"
          ]
        },
        {
          "output_type": "stream",
          "name": "stderr",
          "text": []
        },
        {
          "output_type": "stream",
          "name": "stdout",
          "text": [
            "Train Loss: 0.0781, Train Accuracy: 0.9747\n",
            "      Train loss: 0.07813718268103863\n",
            "  Train accuracy: 0.9746541345443025\n"
          ]
        },
        {
          "output_type": "stream",
          "name": "stderr",
          "text": []
        },
        {
          "output_type": "stream",
          "name": "stdout",
          "text": [
            "Validation Loss: 0.4239, Validation Accuracy: 0.8915\n",
            "Validation loss: 0.42392707626691195\n",
            "Validation accuracy: 0.8914649681528662\n",
            "\n",
            "Epoch 18/20\n"
          ]
        },
        {
          "output_type": "stream",
          "name": "stderr",
          "text": []
        },
        {
          "output_type": "stream",
          "name": "stdout",
          "text": [
            "Train Loss: 0.0680, Train Accuracy: 0.9768\n",
            "      Train loss: 0.068026322419354\n",
            "  Train accuracy: 0.9767662899989439\n"
          ]
        },
        {
          "output_type": "stream",
          "name": "stderr",
          "text": []
        },
        {
          "output_type": "stream",
          "name": "stdout",
          "text": [
            "Validation Loss: 0.5075, Validation Accuracy: 0.8767\n",
            "Validation loss: 0.5075248012970376\n",
            "Validation accuracy: 0.876687898089172\n",
            "\n",
            "Epoch 19/20\n"
          ]
        },
        {
          "output_type": "stream",
          "name": "stderr",
          "text": []
        },
        {
          "output_type": "stream",
          "name": "stdout",
          "text": [
            "Train Loss: 0.0797, Train Accuracy: 0.9764\n",
            "      Train loss: 0.07970830627537735\n",
            "  Train accuracy: 0.9764494666807477\n"
          ]
        },
        {
          "output_type": "stream",
          "name": "stderr",
          "text": []
        },
        {
          "output_type": "stream",
          "name": "stdout",
          "text": [
            "Validation Loss: 0.5229, Validation Accuracy: 0.8611\n",
            "Validation loss: 0.5228561518971271\n",
            "Validation accuracy: 0.8611464968152867\n",
            "\n",
            "Epoch 20/20\n"
          ]
        },
        {
          "output_type": "stream",
          "name": "stderr",
          "text": []
        },
        {
          "output_type": "stream",
          "name": "stdout",
          "text": [
            "Train Loss: 0.0688, Train Accuracy: 0.9775\n",
            "      Train loss: 0.06877105779720885\n",
            "  Train accuracy: 0.9775055444080685\n"
          ]
        },
        {
          "output_type": "stream",
          "name": "stderr",
          "text": []
        },
        {
          "output_type": "stream",
          "name": "stdout",
          "text": [
            "Validation Loss: 0.6015, Validation Accuracy: 0.8639\n",
            "Validation loss: 0.6015164790146442\n",
            "Validation accuracy: 0.8639490445859873\n"
          ]
        },
        {
          "output_type": "display_data",
          "data": {
            "text/plain": [
              "<Figure size 1500x400 with 2 Axes>"
            ],
            "image/png": "[encoded data removed]"
          },
          "metadata": {}
        },
        {
          "output_type": "stream",
          "name": "stdout",
          "text": [
            "\n",
            "Epoch  1/20\n"
          ]
        },
        {
          "output_type": "stream",
          "name": "stderr",
          "text": []
        },
        {
          "output_type": "stream",
          "name": "stdout",
          "text": [
            "Train Loss: 0.3605, Train Accuracy: 0.8994\n",
            "      Train loss: 0.36048056010307894\n",
            "  Train accuracy: 0.8993557925863344\n"
          ]
        },
        {
          "output_type": "stream",
          "name": "stderr",
          "text": []
        },
        {
          "output_type": "stream",
          "name": "stdout",
          "text": [
            "Validation Loss: 0.1791, Validation Accuracy: 0.9488\n",
            "Validation loss: 0.17913191660388508\n",
            "Validation accuracy: 0.9487898089171974\n",
            "\n",
            "Epoch  2/20\n"
          ]
        },
        {
          "output_type": "stream",
          "name": "stderr",
          "text": []
        },
        {
          "output_type": "stream",
          "name": "stdout",
          "text": [
            "Train Loss: 0.1934, Train Accuracy: 0.9429\n",
            "      Train loss: 0.19335646325458042\n",
            "  Train accuracy: 0.9428661949519485\n"
          ]
        },
        {
          "output_type": "stream",
          "name": "stderr",
          "text": []
        },
        {
          "output_type": "stream",
          "name": "stdout",
          "text": [
            "Validation Loss: 0.3097, Validation Accuracy: 0.8973\n",
            "Validation loss: 0.30968760942512125\n",
            "Validation accuracy: 0.8973248407643312\n",
            "\n",
            "Epoch  3/20\n"
          ]
        },
        {
          "output_type": "stream",
          "name": "stderr",
          "text": []
        },
        {
          "output_type": "stream",
          "name": "stdout",
          "text": [
            "Train Loss: 0.1407, Train Accuracy: 0.9559\n",
            "      Train loss: 0.1406756788539398\n",
            "  Train accuracy: 0.9558559509979935\n"
          ]
        },
        {
          "output_type": "stream",
          "name": "stderr",
          "text": []
        },
        {
          "output_type": "stream",
          "name": "stdout",
          "text": [
            "Validation Loss: 0.1490, Validation Accuracy: 0.9513\n",
            "Validation loss: 0.14898173734962153\n",
            "Validation accuracy: 0.9513375796178344\n",
            "\n",
            "Epoch  4/20\n"
          ]
        },
        {
          "output_type": "stream",
          "name": "stderr",
          "text": []
        },
        {
          "output_type": "stream",
          "name": "stdout",
          "text": [
            "Train Loss: 0.1277, Train Accuracy: 0.9613\n",
            "      Train loss: 0.12768017373604676\n",
            "  Train accuracy: 0.9613475551800612\n"
          ]
        },
        {
          "output_type": "stream",
          "name": "stderr",
          "text": []
        },
        {
          "output_type": "stream",
          "name": "stdout",
          "text": [
            "Validation Loss: 0.1787, Validation Accuracy: 0.9429\n",
            "Validation loss: 0.1787068157908043\n",
            "Validation accuracy: 0.9429299363057325\n",
            "\n",
            "Epoch  5/20\n"
          ]
        },
        {
          "output_type": "stream",
          "name": "stderr",
          "text": []
        },
        {
          "output_type": "stream",
          "name": "stdout",
          "text": [
            "Train Loss: 0.1131, Train Accuracy: 0.9634\n",
            "      Train loss: 0.11305037114613475\n",
            "  Train accuracy: 0.9633541028619707\n"
          ]
        },
        {
          "output_type": "stream",
          "name": "stderr",
          "text": []
        },
        {
          "output_type": "stream",
          "name": "stdout",
          "text": [
            "Validation Loss: 0.2669, Validation Accuracy: 0.9297\n",
            "Validation loss: 0.2669094392989333\n",
            "Validation accuracy: 0.9296815286624204\n",
            "\n",
            "Epoch  6/20\n"
          ]
        },
        {
          "output_type": "stream",
          "name": "stderr",
          "text": []
        },
        {
          "output_type": "stream",
          "name": "stdout",
          "text": [
            "Train Loss: 0.0881, Train Accuracy: 0.9742\n",
            "      Train loss: 0.0881099370500935\n",
            "  Train accuracy: 0.9742317034533742\n"
          ]
        },
        {
          "output_type": "stream",
          "name": "stderr",
          "text": []
        },
        {
          "output_type": "stream",
          "name": "stdout",
          "text": [
            "Validation Loss: 0.2472, Validation Accuracy: 0.9350\n",
            "Validation loss: 0.2472020748754721\n",
            "Validation accuracy: 0.935031847133758\n",
            "\n",
            "Epoch  7/20\n"
          ]
        },
        {
          "output_type": "stream",
          "name": "stderr",
          "text": []
        },
        {
          "output_type": "stream",
          "name": "stdout",
          "text": [
            "Train Loss: 0.0919, Train Accuracy: 0.9696\n",
            "      Train loss: 0.09194958383552541\n",
            "  Train accuracy: 0.969584961453163\n"
          ]
        },
        {
          "output_type": "stream",
          "name": "stderr",
          "text": []
        },
        {
          "output_type": "stream",
          "name": "stdout",
          "text": [
            "Validation Loss: 0.2144, Validation Accuracy: 0.9394\n",
            "Validation loss: 0.2143724620310548\n",
            "Validation accuracy: 0.9393630573248407\n",
            "\n",
            "Epoch  8/20\n"
          ]
        },
        {
          "output_type": "stream",
          "name": "stderr",
          "text": []
        },
        {
          "output_type": "stream",
          "name": "stdout",
          "text": [
            "Train Loss: 0.0887, Train Accuracy: 0.9714\n",
            "      Train loss: 0.08870476689244734\n",
            "  Train accuracy: 0.9713802935896082\n"
          ]
        },
        {
          "output_type": "stream",
          "name": "stderr",
          "text": []
        },
        {
          "output_type": "stream",
          "name": "stdout",
          "text": [
            "Validation Loss: 0.2065, Validation Accuracy: 0.9406\n",
            "Validation loss: 0.20650735936130712\n",
            "Validation accuracy: 0.9406369426751592\n",
            "\n",
            "Epoch  9/20\n"
          ]
        },
        {
          "output_type": "stream",
          "name": "stderr",
          "text": []
        },
        {
          "output_type": "stream",
          "name": "stdout",
          "text": [
            "Train Loss: 0.0804, Train Accuracy: 0.9740\n",
            "      Train loss: 0.08036947474387046\n",
            "  Train accuracy: 0.9740204879079101\n"
          ]
        },
        {
          "output_type": "stream",
          "name": "stderr",
          "text": []
        },
        {
          "output_type": "stream",
          "name": "stdout",
          "text": [
            "Validation Loss: 0.2040, Validation Accuracy: 0.9437\n",
            "Validation loss: 0.20401943045241447\n",
            "Validation accuracy: 0.9436942675159236\n",
            "\n",
            "Epoch 10/20\n"
          ]
        },
        {
          "output_type": "stream",
          "name": "stderr",
          "text": []
        },
        {
          "output_type": "stream",
          "name": "stdout",
          "text": [
            "Train Loss: 0.0634, Train Accuracy: 0.9798\n",
            "      Train loss: 0.06336939482423838\n",
            "  Train accuracy: 0.9798289154081741\n"
          ]
        },
        {
          "output_type": "stream",
          "name": "stderr",
          "text": []
        },
        {
          "output_type": "stream",
          "name": "stdout",
          "text": [
            "Validation Loss: 0.1729, Validation Accuracy: 0.9534\n",
            "Validation loss: 0.17292436586506565\n",
            "Validation accuracy: 0.953375796178344\n",
            "\n",
            "Epoch 11/20\n"
          ]
        },
        {
          "output_type": "stream",
          "name": "stderr",
          "text": []
        },
        {
          "output_type": "stream",
          "name": "stdout",
          "text": [
            "Train Loss: 0.0571, Train Accuracy: 0.9818\n",
            "      Train loss: 0.05710253349128391\n",
            "  Train accuracy: 0.9818354630900834\n"
          ]
        },
        {
          "output_type": "stream",
          "name": "stderr",
          "text": []
        },
        {
          "output_type": "stream",
          "name": "stdout",
          "text": [
            "Validation Loss: 0.2420, Validation Accuracy: 0.9378\n",
            "Validation loss: 0.2419899621057905\n",
            "Validation accuracy: 0.9378343949044586\n",
            "\n",
            "Epoch 12/20\n"
          ]
        },
        {
          "output_type": "stream",
          "name": "stderr",
          "text": []
        },
        {
          "output_type": "stream",
          "name": "stdout",
          "text": [
            "Train Loss: 0.0634, Train Accuracy: 0.9790\n",
            "      Train loss: 0.06343300283274525\n",
            "  Train accuracy: 0.9789840532263174\n"
          ]
        },
        {
          "output_type": "stream",
          "name": "stderr",
          "text": []
        },
        {
          "output_type": "stream",
          "name": "stdout",
          "text": [
            "Validation Loss: 0.1919, Validation Accuracy: 0.9478\n",
            "Validation loss: 0.1918727029059057\n",
            "Validation accuracy: 0.9477707006369427\n",
            "\n",
            "Epoch 13/20\n"
          ]
        },
        {
          "output_type": "stream",
          "name": "stderr",
          "text": []
        },
        {
          "output_type": "stream",
          "name": "stdout",
          "text": [
            "Train Loss: 0.0535, Train Accuracy: 0.9843\n",
            "      Train loss: 0.05354162876952811\n",
            "  Train accuracy: 0.9842644418629211\n"
          ]
        },
        {
          "output_type": "stream",
          "name": "stderr",
          "text": []
        },
        {
          "output_type": "stream",
          "name": "stdout",
          "text": [
            "Validation Loss: 0.2322, Validation Accuracy: 0.9404\n",
            "Validation loss: 0.23220562405206477\n",
            "Validation accuracy: 0.9403821656050956\n",
            "\n",
            "Epoch 14/20\n"
          ]
        },
        {
          "output_type": "stream",
          "name": "stderr",
          "text": []
        },
        {
          "output_type": "stream",
          "name": "stdout",
          "text": [
            "Train Loss: 0.0644, Train Accuracy: 0.9799\n",
            "      Train loss: 0.06439367949831255\n",
            "  Train accuracy: 0.9799345231809061\n"
          ]
        },
        {
          "output_type": "stream",
          "name": "stderr",
          "text": []
        },
        {
          "output_type": "stream",
          "name": "stdout",
          "text": [
            "Validation Loss: 0.1748, Validation Accuracy: 0.9516\n",
            "Validation loss: 0.17478138046448943\n",
            "Validation accuracy: 0.9515923566878981\n",
            "\n",
            "Epoch 15/20\n"
          ]
        },
        {
          "output_type": "stream",
          "name": "stderr",
          "text": []
        },
        {
          "output_type": "stream",
          "name": "stdout",
          "text": [
            "Train Loss: 0.0520, Train Accuracy: 0.9850\n",
            "      Train loss: 0.05200540428169818\n",
            "  Train accuracy: 0.9850036962720456\n"
          ]
        },
        {
          "output_type": "stream",
          "name": "stderr",
          "text": []
        },
        {
          "output_type": "stream",
          "name": "stdout",
          "text": [
            "Validation Loss: 0.2088, Validation Accuracy: 0.9457\n",
            "Validation loss: 0.20883062138149605\n",
            "Validation accuracy: 0.9457324840764331\n",
            "\n",
            "Epoch 16/20\n"
          ]
        },
        {
          "output_type": "stream",
          "name": "stderr",
          "text": []
        },
        {
          "output_type": "stream",
          "name": "stdout",
          "text": [
            "Train Loss: 0.0530, Train Accuracy: 0.9815\n",
            "      Train loss: 0.053003468311421664\n",
            "  Train accuracy: 0.9815186397718872\n"
          ]
        },
        {
          "output_type": "stream",
          "name": "stderr",
          "text": []
        },
        {
          "output_type": "stream",
          "name": "stdout",
          "text": [
            "Validation Loss: 0.2221, Validation Accuracy: 0.9447\n",
            "Validation loss: 0.22209329241560888\n",
            "Validation accuracy: 0.9447133757961783\n",
            "\n",
            "Epoch 17/20\n"
          ]
        },
        {
          "output_type": "stream",
          "name": "stderr",
          "text": []
        },
        {
          "output_type": "stream",
          "name": "stdout",
          "text": [
            "Train Loss: 0.0715, Train Accuracy: 0.9767\n",
            "      Train loss: 0.07147136016420838\n",
            "  Train accuracy: 0.9766606822262118\n"
          ]
        },
        {
          "output_type": "stream",
          "name": "stderr",
          "text": []
        },
        {
          "output_type": "stream",
          "name": "stdout",
          "text": [
            "Validation Loss: 0.2184, Validation Accuracy: 0.9455\n",
            "Validation loss: 0.2183864998740511\n",
            "Validation accuracy: 0.9454777070063695\n",
            "\n",
            "Epoch 18/20\n"
          ]
        },
        {
          "output_type": "stream",
          "name": "stderr",
          "text": []
        },
        {
          "output_type": "stream",
          "name": "stdout",
          "text": [
            "Train Loss: 0.0396, Train Accuracy: 0.9881\n",
            "      Train loss: 0.03963599933834032\n",
            "  Train accuracy: 0.9880663216812757\n"
          ]
        },
        {
          "output_type": "stream",
          "name": "stderr",
          "text": []
        },
        {
          "output_type": "stream",
          "name": "stdout",
          "text": [
            "Validation Loss: 0.2217, Validation Accuracy: 0.9376\n",
            "Validation loss: 0.22169816775070147\n",
            "Validation accuracy: 0.9375796178343949\n",
            "\n",
            "Epoch 19/20\n"
          ]
        },
        {
          "output_type": "stream",
          "name": "stderr",
          "text": []
        },
        {
          "output_type": "stream",
          "name": "stdout",
          "text": [
            "Train Loss: 0.0586, Train Accuracy: 0.9817\n",
            "      Train loss: 0.05855263998244088\n",
            "  Train accuracy: 0.9817298553173514\n"
          ]
        },
        {
          "output_type": "stream",
          "name": "stderr",
          "text": []
        },
        {
          "output_type": "stream",
          "name": "stdout",
          "text": [
            "Validation Loss: 0.2174, Validation Accuracy: 0.9422\n",
            "Validation loss: 0.21741423855426192\n",
            "Validation accuracy: 0.9421656050955414\n",
            "\n",
            "Epoch 20/20\n"
          ]
        },
        {
          "output_type": "stream",
          "name": "stderr",
          "text": []
        },
        {
          "output_type": "stream",
          "name": "stdout",
          "text": [
            "Train Loss: 0.0450, Train Accuracy: 0.9861\n",
            "      Train loss: 0.04501049323187397\n",
            "  Train accuracy: 0.9860597739993664\n"
          ]
        },
        {
          "output_type": "stream",
          "name": "stderr",
          "text": []
        },
        {
          "output_type": "stream",
          "name": "stdout",
          "text": [
            "Validation Loss: 0.2025, Validation Accuracy: 0.9457\n",
            "Validation loss: 0.20247245623362303\n",
            "Validation accuracy: 0.9457324840764331\n"
          ]
        },
        {
          "output_type": "display_data",
          "data": {
            "text/plain": [
              "<Figure size 1500x400 with 2 Axes>"
            ],
            "image/png": "[encoded data removed]"
          },
          "metadata": {}
        }
      ]
    },
    {
      "cell_type": "code",
      "source": [
        "for model_name, acc in results.items():\n",
        "    print(f\"{model_name}: {acc:.4f}\")\n",
        "print(\"The best model:\", max(results, key=results.get))"
      ],
      "metadata": {
        "id": "_yqDkFg0_jTE",
        "colab": {
          "base_uri": "https://localhost:8080/"
        },
        "outputId": "01bc3439-11d6-490d-c155-f77a0e76720f"
      },
      "execution_count": 12,
      "outputs": [
        {
          "output_type": "stream",
          "name": "stdout",
          "text": [
            "ResNet18: 0.9055\n",
            "ResNet34: 0.8989\n",
            "EfficientNet_b0: 0.9534\n",
            "The best model: EfficientNet_b0\n"
          ]
        }
      ]
    },
    {
      "cell_type": "code",
      "source": [],
      "metadata": {
        "id": "ZIX3A2cw_jWW"
      },
      "execution_count": null,
      "outputs": []
    },
    {
      "cell_type": "code",
      "source": [],
      "metadata": {
        "id": "c1qGJiKC_jZH"
      },
      "execution_count": null,
      "outputs": []
    }
  ],
  "metadata": {
    "accelerator": "GPU",
    "colab": {
      "gpuType": "T4",
      "provenance": []
    },
    "kernelspec": {
      "display_name": "Python 3 (ipykernel)",
      "language": "python",
      "name": "python3"
    },
    "language_info": {
      "codemirror_mode": {
        "name": "ipython",
        "version": 3
      },
      "file_extension": ".py",
      "mimetype": "text/x-python",
      "name": "python",
      "nbconvert_exporter": "python",
      "pygments_lexer": "ipython3",
      "version": "3.8.10"
    },
    "widgets": {
      "application/vnd.jupyter.widget-state+json": {
        "c7d141376c8f41a890a76383b53cdaf7": {
          "model_module": "@jupyter-widgets/controls",
          "model_name": "HBoxModel",
          "model_module_version": "1.5.0",
          "state": {
            "_dom_classes": [],
            "_model_module": "@jupyter-widgets/controls",
            "_model_module_version": "1.5.0",
            "_model_name": "HBoxModel",
            "_view_count": null,
            "_view_module": "@jupyter-widgets/controls",
            "_view_module_version": "1.5.0",
            "_view_name": "HBoxView",
            "box_style": "",
            "children": [
              "IPY_MODEL_21cd7bb9e49e4af38fc6129492e49cd7",
              "IPY_MODEL_529c4152c47d4623903f0b9d50a05b58",
              "IPY_MODEL_906c4de5b49c43ac961ee4551333d070"
            ],
            "layout": "IPY_MODEL_2fa1ce76e9ba4a3d97cab38253975ad7"
          }
        },
        "21cd7bb9e49e4af38fc6129492e49cd7": {
          "model_module": "@jupyter-widgets/controls",
          "model_name": "HTMLModel",
          "model_module_version": "1.5.0",
          "state": {
            "_dom_classes": [],
            "_model_module": "@jupyter-widgets/controls",
            "_model_module_version": "1.5.0",
            "_model_name": "HTMLModel",
            "_view_count": null,
            "_view_module": "@jupyter-widgets/controls",
            "_view_module_version": "1.5.0",
            "_view_name": "HTMLView",
            "description": "",
            "description_tooltip": null,
            "layout": "IPY_MODEL_bca5c2ccc6ce4cc390b34f9b1590849b",
            "placeholder": "​",
            "style": "IPY_MODEL_8e6cdc7a5807449cad9af51f341b88b2",
            "value": "README.md: 100%"
          }
        },
        "529c4152c47d4623903f0b9d50a05b58": {
          "model_module": "@jupyter-widgets/controls",
          "model_name": "FloatProgressModel",
          "model_module_version": "1.5.0",
          "state": {
            "_dom_classes": [],
            "_model_module": "@jupyter-widgets/controls",
            "_model_module_version": "1.5.0",
            "_model_name": "FloatProgressModel",
            "_view_count": null,
            "_view_module": "@jupyter-widgets/controls",
            "_view_module_version": "1.5.0",
            "_view_name": "ProgressView",
            "bar_style": "success",
            "description": "",
            "description_tooltip": null,
            "layout": "IPY_MODEL_ad27b3f08bfb4aaaa6d6acc6bc58e80a",
            "max": 4626,
            "min": 0,
            "orientation": "horizontal",
            "style": "IPY_MODEL_62858a61544f42b0affc9bf5eed2e59b",
            "value": 4626
          }
        },
        "906c4de5b49c43ac961ee4551333d070": {
          "model_module": "@jupyter-widgets/controls",
          "model_name": "HTMLModel",
          "model_module_version": "1.5.0",
          "state": {
            "_dom_classes": [],
            "_model_module": "@jupyter-widgets/controls",
            "_model_module_version": "1.5.0",
            "_model_name": "HTMLModel",
            "_view_count": null,
            "_view_module": "@jupyter-widgets/controls",
            "_view_module_version": "1.5.0",
            "_view_name": "HTMLView",
            "description": "",
            "description_tooltip": null,
            "layout": "IPY_MODEL_3d13912852bf432a8b88a118a30c7203",
            "placeholder": "​",
            "style": "IPY_MODEL_beb514604c6f49b38c77372da1694a82",
            "value": " 4.63k/4.63k [00:00&lt;00:00, 341kB/s]"
          }
        },
        "2fa1ce76e9ba4a3d97cab38253975ad7": {
          "model_module": "@jupyter-widgets/base",
          "model_name": "LayoutModel",
          "model_module_version": "1.2.0",
          "state": {
            "_model_module": "@jupyter-widgets/base",
            "_model_module_version": "1.2.0",
            "_model_name": "LayoutModel",
            "_view_count": null,
            "_view_module": "@jupyter-widgets/base",
            "_view_module_version": "1.2.0",
            "_view_name": "LayoutView",
            "align_content": null,
            "align_items": null,
            "align_self": null,
            "border": null,
            "bottom": null,
            "display": null,
            "flex": null,
            "flex_flow": null,
            "grid_area": null,
            "grid_auto_columns": null,
            "grid_auto_flow": null,
            "grid_auto_rows": null,
            "grid_column": null,
            "grid_gap": null,
            "grid_row": null,
            "grid_template_areas": null,
            "grid_template_columns": null,
            "grid_template_rows": null,
            "height": null,
            "justify_content": null,
            "justify_items": null,
            "left": null,
            "margin": null,
            "max_height": null,
            "max_width": null,
            "min_height": null,
            "min_width": null,
            "object_fit": null,
            "object_position": null,
            "order": null,
            "overflow": null,
            "overflow_x": null,
            "overflow_y": null,
            "padding": null,
            "right": null,
            "top": null,
            "visibility": null,
            "width": null
          }
        },
        "bca5c2ccc6ce4cc390b34f9b1590849b": {
          "model_module": "@jupyter-widgets/base",
          "model_name": "LayoutModel",
          "model_module_version": "1.2.0",
          "state": {
            "_model_module": "@jupyter-widgets/base",
            "_model_module_version": "1.2.0",
            "_model_name": "LayoutModel",
            "_view_count": null,
            "_view_module": "@jupyter-widgets/base",
            "_view_module_version": "1.2.0",
            "_view_name": "LayoutView",
            "align_content": null,
            "align_items": null,
            "align_self": null,
            "border": null,
            "bottom": null,
            "display": null,
            "flex": null,
            "flex_flow": null,
            "grid_area": null,
            "grid_auto_columns": null,
            "grid_auto_flow": null,
            "grid_auto_rows": null,
            "grid_column": null,
            "grid_gap": null,
            "grid_row": null,
            "grid_template_areas": null,
            "grid_template_columns": null,
            "grid_template_rows": null,
            "height": null,
            "justify_content": null,
            "justify_items": null,
            "left": null,
            "margin": null,
            "max_height": null,
            "max_width": null,
            "min_height": null,
            "min_width": null,
            "object_fit": null,
            "object_position": null,
            "order": null,
            "overflow": null,
            "overflow_x": null,
            "overflow_y": null,
            "padding": null,
            "right": null,
            "top": null,
            "visibility": null,
            "width": null
          }
        },
        "8e6cdc7a5807449cad9af51f341b88b2": {
          "model_module": "@jupyter-widgets/controls",
          "model_name": "DescriptionStyleModel",
          "model_module_version": "1.5.0",
          "state": {
            "_model_module": "@jupyter-widgets/controls",
            "_model_module_version": "1.5.0",
            "_model_name": "DescriptionStyleModel",
            "_view_count": null,
            "_view_module": "@jupyter-widgets/base",
            "_view_module_version": "1.2.0",
            "_view_name": "StyleView",
            "description_width": ""
          }
        },
        "ad27b3f08bfb4aaaa6d6acc6bc58e80a": {
          "model_module": "@jupyter-widgets/base",
          "model_name": "LayoutModel",
          "model_module_version": "1.2.0",
          "state": {
            "_model_module": "@jupyter-widgets/base",
            "_model_module_version": "1.2.0",
            "_model_name": "LayoutModel",
            "_view_count": null,
            "_view_module": "@jupyter-widgets/base",
            "_view_module_version": "1.2.0",
            "_view_name": "LayoutView",
            "align_content": null,
            "align_items": null,
            "align_self": null,
            "border": null,
            "bottom": null,
            "display": null,
            "flex": null,
            "flex_flow": null,
            "grid_area": null,
            "grid_auto_columns": null,
            "grid_auto_flow": null,
            "grid_auto_rows": null,
            "grid_column": null,
            "grid_gap": null,
            "grid_row": null,
            "grid_template_areas": null,
            "grid_template_columns": null,
            "grid_template_rows": null,
            "height": null,
            "justify_content": null,
            "justify_items": null,
            "left": null,
            "margin": null,
            "max_height": null,
            "max_width": null,
            "min_height": null,
            "min_width": null,
            "object_fit": null,
            "object_position": null,
            "order": null,
            "overflow": null,
            "overflow_x": null,
            "overflow_y": null,
            "padding": null,
            "right": null,
            "top": null,
            "visibility": null,
            "width": null
          }
        },
        "62858a61544f42b0affc9bf5eed2e59b": {
          "model_module": "@jupyter-widgets/controls",
          "model_name": "ProgressStyleModel",
          "model_module_version": "1.5.0",
          "state": {
            "_model_module": "@jupyter-widgets/controls",
            "_model_module_version": "1.5.0",
            "_model_name": "ProgressStyleModel",
            "_view_count": null,
            "_view_module": "@jupyter-widgets/base",
            "_view_module_version": "1.2.0",
            "_view_name": "StyleView",
            "bar_color": null,
            "description_width": ""
          }
        },
        "3d13912852bf432a8b88a118a30c7203": {
          "model_module": "@jupyter-widgets/base",
          "model_name": "LayoutModel",
          "model_module_version": "1.2.0",
          "state": {
            "_model_module": "@jupyter-widgets/base",
            "_model_module_version": "1.2.0",
            "_model_name": "LayoutModel",
            "_view_count": null,
            "_view_module": "@jupyter-widgets/base",
            "_view_module_version": "1.2.0",
            "_view_name": "LayoutView",
            "align_content": null,
            "align_items": null,
            "align_self": null,
            "border": null,
            "bottom": null,
            "display": null,
            "flex": null,
            "flex_flow": null,
            "grid_area": null,
            "grid_auto_columns": null,
            "grid_auto_flow": null,
            "grid_auto_rows": null,
            "grid_column": null,
            "grid_gap": null,
            "grid_row": null,
            "grid_template_areas": null,
            "grid_template_columns": null,
            "grid_template_rows": null,
            "height": null,
            "justify_content": null,
            "justify_items": null,
            "left": null,
            "margin": null,
            "max_height": null,
            "max_width": null,
            "min_height": null,
            "min_width": null,
            "object_fit": null,
            "object_position": null,
            "order": null,
            "overflow": null,
            "overflow_x": null,
            "overflow_y": null,
            "padding": null,
            "right": null,
            "top": null,
            "visibility": null,
            "width": null
          }
        },
        "beb514604c6f49b38c77372da1694a82": {
          "model_module": "@jupyter-widgets/controls",
          "model_name": "DescriptionStyleModel",
          "model_module_version": "1.5.0",
          "state": {
            "_model_module": "@jupyter-widgets/controls",
            "_model_module_version": "1.5.0",
            "_model_name": "DescriptionStyleModel",
            "_view_count": null,
            "_view_module": "@jupyter-widgets/base",
            "_view_module_version": "1.2.0",
            "_view_name": "StyleView",
            "description_width": ""
          }
        },
        "26fa302dd7744aadab196017060e972c": {
          "model_module": "@jupyter-widgets/controls",
          "model_name": "HBoxModel",
          "model_module_version": "1.5.0",
          "state": {
            "_dom_classes": [],
            "_model_module": "@jupyter-widgets/controls",
            "_model_module_version": "1.5.0",
            "_model_name": "HBoxModel",
            "_view_count": null,
            "_view_module": "@jupyter-widgets/controls",
            "_view_module_version": "1.5.0",
            "_view_name": "HBoxView",
            "box_style": "",
            "children": [
              "IPY_MODEL_47c06b1073454482949a85c0b02c675e",
              "IPY_MODEL_d8b834ec35d442e8bd82b9c0e31812e0",
              "IPY_MODEL_a410ead930bd440ba6c718c613d8936d"
            ],
            "layout": "IPY_MODEL_9c7b26fec9764464a1a9d0ddd59a3733"
          }
        },
        "47c06b1073454482949a85c0b02c675e": {
          "model_module": "@jupyter-widgets/controls",
          "model_name": "HTMLModel",
          "model_module_version": "1.5.0",
          "state": {
            "_dom_classes": [],
            "_model_module": "@jupyter-widgets/controls",
            "_model_module_version": "1.5.0",
            "_model_name": "HTMLModel",
            "_view_count": null,
            "_view_module": "@jupyter-widgets/controls",
            "_view_module_version": "1.5.0",
            "_view_name": "HTMLView",
            "description": "",
            "description_tooltip": null,
            "layout": "IPY_MODEL_c595f2ac7e2e479ea71e2e6c081008bf",
            "placeholder": "​",
            "style": "IPY_MODEL_801257ed72864789b6b1aad395326447",
            "value": "imagenette.py: 100%"
          }
        },
        "d8b834ec35d442e8bd82b9c0e31812e0": {
          "model_module": "@jupyter-widgets/controls",
          "model_name": "FloatProgressModel",
          "model_module_version": "1.5.0",
          "state": {
            "_dom_classes": [],
            "_model_module": "@jupyter-widgets/controls",
            "_model_module_version": "1.5.0",
            "_model_name": "FloatProgressModel",
            "_view_count": null,
            "_view_module": "@jupyter-widgets/controls",
            "_view_module_version": "1.5.0",
            "_view_name": "ProgressView",
            "bar_style": "success",
            "description": "",
            "description_tooltip": null,
            "layout": "IPY_MODEL_27497009e34644bd91c5fdc75e78e73a",
            "max": 5310,
            "min": 0,
            "orientation": "horizontal",
            "style": "IPY_MODEL_e712ecd62b894a12bb46529d1feb1f17",
            "value": 5310
          }
        },
        "a410ead930bd440ba6c718c613d8936d": {
          "model_module": "@jupyter-widgets/controls",
          "model_name": "HTMLModel",
          "model_module_version": "1.5.0",
          "state": {
            "_dom_classes": [],
            "_model_module": "@jupyter-widgets/controls",
            "_model_module_version": "1.5.0",
            "_model_name": "HTMLModel",
            "_view_count": null,
            "_view_module": "@jupyter-widgets/controls",
            "_view_module_version": "1.5.0",
            "_view_name": "HTMLView",
            "description": "",
            "description_tooltip": null,
            "layout": "IPY_MODEL_a345b678daf24f19891a642cb24c4a7a",
            "placeholder": "​",
            "style": "IPY_MODEL_51a61fe5156e4ae490ba697ce4b848cf",
            "value": " 5.31k/5.31k [00:00&lt;00:00, 295kB/s]"
          }
        },
        "9c7b26fec9764464a1a9d0ddd59a3733": {
          "model_module": "@jupyter-widgets/base",
          "model_name": "LayoutModel",
          "model_module_version": "1.2.0",
          "state": {
            "_model_module": "@jupyter-widgets/base",
            "_model_module_version": "1.2.0",
            "_model_name": "LayoutModel",
            "_view_count": null,
            "_view_module": "@jupyter-widgets/base",
            "_view_module_version": "1.2.0",
            "_view_name": "LayoutView",
            "align_content": null,
            "align_items": null,
            "align_self": null,
            "border": null,
            "bottom": null,
            "display": null,
            "flex": null,
            "flex_flow": null,
            "grid_area": null,
            "grid_auto_columns": null,
            "grid_auto_flow": null,
            "grid_auto_rows": null,
            "grid_column": null,
            "grid_gap": null,
            "grid_row": null,
            "grid_template_areas": null,
            "grid_template_columns": null,
            "grid_template_rows": null,
            "height": null,
            "justify_content": null,
            "justify_items": null,
            "left": null,
            "margin": null,
            "max_height": null,
            "max_width": null,
            "min_height": null,
            "min_width": null,
            "object_fit": null,
            "object_position": null,
            "order": null,
            "overflow": null,
            "overflow_x": null,
            "overflow_y": null,
            "padding": null,
            "right": null,
            "top": null,
            "visibility": null,
            "width": null
          }
        },
        "c595f2ac7e2e479ea71e2e6c081008bf": {
          "model_module": "@jupyter-widgets/base",
          "model_name": "LayoutModel",
          "model_module_version": "1.2.0",
          "state": {
            "_model_module": "@jupyter-widgets/base",
            "_model_module_version": "1.2.0",
            "_model_name": "LayoutModel",
            "_view_count": null,
            "_view_module": "@jupyter-widgets/base",
            "_view_module_version": "1.2.0",
            "_view_name": "LayoutView",
            "align_content": null,
            "align_items": null,
            "align_self": null,
            "border": null,
            "bottom": null,
            "display": null,
            "flex": null,
            "flex_flow": null,
            "grid_area": null,
            "grid_auto_columns": null,
            "grid_auto_flow": null,
            "grid_auto_rows": null,
            "grid_column": null,
            "grid_gap": null,
            "grid_row": null,
            "grid_template_areas": null,
            "grid_template_columns": null,
            "grid_template_rows": null,
            "height": null,
            "justify_content": null,
            "justify_items": null,
            "left": null,
            "margin": null,
            "max_height": null,
            "max_width": null,
            "min_height": null,
            "min_width": null,
            "object_fit": null,
            "object_position": null,
            "order": null,
            "overflow": null,
            "overflow_x": null,
            "overflow_y": null,
            "padding": null,
            "right": null,
            "top": null,
            "visibility": null,
            "width": null
          }
        },
        "801257ed72864789b6b1aad395326447": {
          "model_module": "@jupyter-widgets/controls",
          "model_name": "DescriptionStyleModel",
          "model_module_version": "1.5.0",
          "state": {
            "_model_module": "@jupyter-widgets/controls",
            "_model_module_version": "1.5.0",
            "_model_name": "DescriptionStyleModel",
            "_view_count": null,
            "_view_module": "@jupyter-widgets/base",
            "_view_module_version": "1.2.0",
            "_view_name": "StyleView",
            "description_width": ""
          }
        },
        "27497009e34644bd91c5fdc75e78e73a": {
          "model_module": "@jupyter-widgets/base",
          "model_name": "LayoutModel",
          "model_module_version": "1.2.0",
          "state": {
            "_model_module": "@jupyter-widgets/base",
            "_model_module_version": "1.2.0",
            "_model_name": "LayoutModel",
            "_view_count": null,
            "_view_module": "@jupyter-widgets/base",
            "_view_module_version": "1.2.0",
            "_view_name": "LayoutView",
            "align_content": null,
            "align_items": null,
            "align_self": null,
            "border": null,
            "bottom": null,
            "display": null,
            "flex": null,
            "flex_flow": null,
            "grid_area": null,
            "grid_auto_columns": null,
            "grid_auto_flow": null,
            "grid_auto_rows": null,
            "grid_column": null,
            "grid_gap": null,
            "grid_row": null,
            "grid_template_areas": null,
            "grid_template_columns": null,
            "grid_template_rows": null,
            "height": null,
            "justify_content": null,
            "justify_items": null,
            "left": null,
            "margin": null,
            "max_height": null,
            "max_width": null,
            "min_height": null,
            "min_width": null,
            "object_fit": null,
            "object_position": null,
            "order": null,
            "overflow": null,
            "overflow_x": null,
            "overflow_y": null,
            "padding": null,
            "right": null,
            "top": null,
            "visibility": null,
            "width": null
          }
        },
        "e712ecd62b894a12bb46529d1feb1f17": {
          "model_module": "@jupyter-widgets/controls",
          "model_name": "ProgressStyleModel",
          "model_module_version": "1.5.0",
          "state": {
            "_model_module": "@jupyter-widgets/controls",
            "_model_module_version": "1.5.0",
            "_model_name": "ProgressStyleModel",
            "_view_count": null,
            "_view_module": "@jupyter-widgets/base",
            "_view_module_version": "1.2.0",
            "_view_name": "StyleView",
            "bar_color": null,
            "description_width": ""
          }
        },
        "a345b678daf24f19891a642cb24c4a7a": {
          "model_module": "@jupyter-widgets/base",
          "model_name": "LayoutModel",
          "model_module_version": "1.2.0",
          "state": {
            "_model_module": "@jupyter-widgets/base",
            "_model_module_version": "1.2.0",
            "_model_name": "LayoutModel",
            "_view_count": null,
            "_view_module": "@jupyter-widgets/base",
            "_view_module_version": "1.2.0",
            "_view_name": "LayoutView",
            "align_content": null,
            "align_items": null,
            "align_self": null,
            "border": null,
            "bottom": null,
            "display": null,
            "flex": null,
            "flex_flow": null,
            "grid_area": null,
            "grid_auto_columns": null,
            "grid_auto_flow": null,
            "grid_auto_rows": null,
            "grid_column": null,
            "grid_gap": null,
            "grid_row": null,
            "grid_template_areas": null,
            "grid_template_columns": null,
            "grid_template_rows": null,
            "height": null,
            "justify_content": null,
            "justify_items": null,
            "left": null,
            "margin": null,
            "max_height": null,
            "max_width": null,
            "min_height": null,
            "min_width": null,
            "object_fit": null,
            "object_position": null,
            "order": null,
            "overflow": null,
            "overflow_x": null,
            "overflow_y": null,
            "padding": null,
            "right": null,
            "top": null,
            "visibility": null,
            "width": null
          }
        },
        "51a61fe5156e4ae490ba697ce4b848cf": {
          "model_module": "@jupyter-widgets/controls",
          "model_name": "DescriptionStyleModel",
          "model_module_version": "1.5.0",
          "state": {
            "_model_module": "@jupyter-widgets/controls",
            "_model_module_version": "1.5.0",
            "_model_name": "DescriptionStyleModel",
            "_view_count": null,
            "_view_module": "@jupyter-widgets/base",
            "_view_module_version": "1.2.0",
            "_view_name": "StyleView",
            "description_width": ""
          }
        },
        "55fa7ea351be4e2098aea9fa596f215f": {
          "model_module": "@jupyter-widgets/controls",
          "model_name": "HBoxModel",
          "model_module_version": "1.5.0",
          "state": {
            "_dom_classes": [],
            "_model_module": "@jupyter-widgets/controls",
            "_model_module_version": "1.5.0",
            "_model_name": "HBoxModel",
            "_view_count": null,
            "_view_module": "@jupyter-widgets/controls",
            "_view_module_version": "1.5.0",
            "_view_name": "HBoxView",
            "box_style": "",
            "children": [
              "IPY_MODEL_9005f8335843467fa06310b9663f01ca",
              "IPY_MODEL_652585f300e14d119311ed03c2c5f6ff",
              "IPY_MODEL_3bd4e93a8494417f9354defeb14a3e8c"
            ],
            "layout": "IPY_MODEL_d95e7054e1964ef08fc75829f5001b16"
          }
        },
        "9005f8335843467fa06310b9663f01ca": {
          "model_module": "@jupyter-widgets/controls",
          "model_name": "HTMLModel",
          "model_module_version": "1.5.0",
          "state": {
            "_dom_classes": [],
            "_model_module": "@jupyter-widgets/controls",
            "_model_module_version": "1.5.0",
            "_model_name": "HTMLModel",
            "_view_count": null,
            "_view_module": "@jupyter-widgets/controls",
            "_view_module_version": "1.5.0",
            "_view_name": "HTMLView",
            "description": "",
            "description_tooltip": null,
            "layout": "IPY_MODEL_47463234f13f4a70b1d5f237531e56d3",
            "placeholder": "​",
            "style": "IPY_MODEL_5aafc3bbd7854af1ae32a9b0e969f0e4",
            "value": "0000.parquet: 100%"
          }
        },
        "652585f300e14d119311ed03c2c5f6ff": {
          "model_module": "@jupyter-widgets/controls",
          "model_name": "FloatProgressModel",
          "model_module_version": "1.5.0",
          "state": {
            "_dom_classes": [],
            "_model_module": "@jupyter-widgets/controls",
            "_model_module_version": "1.5.0",
            "_model_name": "FloatProgressModel",
            "_view_count": null,
            "_view_module": "@jupyter-widgets/controls",
            "_view_module_version": "1.5.0",
            "_view_name": "ProgressView",
            "bar_style": "success",
            "description": "",
            "description_tooltip": null,
            "layout": "IPY_MODEL_0f592d03b7bd40dc854e13dd4688430f",
            "max": 245768836,
            "min": 0,
            "orientation": "horizontal",
            "style": "IPY_MODEL_b2d1ead0d91144d798591ce73f3c4d1c",
            "value": 245768836
          }
        },
        "3bd4e93a8494417f9354defeb14a3e8c": {
          "model_module": "@jupyter-widgets/controls",
          "model_name": "HTMLModel",
          "model_module_version": "1.5.0",
          "state": {
            "_dom_classes": [],
            "_model_module": "@jupyter-widgets/controls",
            "_model_module_version": "1.5.0",
            "_model_name": "HTMLModel",
            "_view_count": null,
            "_view_module": "@jupyter-widgets/controls",
            "_view_module_version": "1.5.0",
            "_view_name": "HTMLView",
            "description": "",
            "description_tooltip": null,
            "layout": "IPY_MODEL_17269a34efd44d2ba5af4f9aed51f00f",
            "placeholder": "​",
            "style": "IPY_MODEL_560651f357e543b59583f11d4095893a",
            "value": " 246M/246M [00:09&lt;00:00, 25.2MB/s]"
          }
        },
        "d95e7054e1964ef08fc75829f5001b16": {
          "model_module": "@jupyter-widgets/base",
          "model_name": "LayoutModel",
          "model_module_version": "1.2.0",
          "state": {
            "_model_module": "@jupyter-widgets/base",
            "_model_module_version": "1.2.0",
            "_model_name": "LayoutModel",
            "_view_count": null,
            "_view_module": "@jupyter-widgets/base",
            "_view_module_version": "1.2.0",
            "_view_name": "LayoutView",
            "align_content": null,
            "align_items": null,
            "align_self": null,
            "border": null,
            "bottom": null,
            "display": null,
            "flex": null,
            "flex_flow": null,
            "grid_area": null,
            "grid_auto_columns": null,
            "grid_auto_flow": null,
            "grid_auto_rows": null,
            "grid_column": null,
            "grid_gap": null,
            "grid_row": null,
            "grid_template_areas": null,
            "grid_template_columns": null,
            "grid_template_rows": null,
            "height": null,
            "justify_content": null,
            "justify_items": null,
            "left": null,
            "margin": null,
            "max_height": null,
            "max_width": null,
            "min_height": null,
            "min_width": null,
            "object_fit": null,
            "object_position": null,
            "order": null,
            "overflow": null,
            "overflow_x": null,
            "overflow_y": null,
            "padding": null,
            "right": null,
            "top": null,
            "visibility": null,
            "width": null
          }
        },
        "47463234f13f4a70b1d5f237531e56d3": {
          "model_module": "@jupyter-widgets/base",
          "model_name": "LayoutModel",
          "model_module_version": "1.2.0",
          "state": {
            "_model_module": "@jupyter-widgets/base",
            "_model_module_version": "1.2.0",
            "_model_name": "LayoutModel",
            "_view_count": null,
            "_view_module": "@jupyter-widgets/base",
            "_view_module_version": "1.2.0",
            "_view_name": "LayoutView",
            "align_content": null,
            "align_items": null,
            "align_self": null,
            "border": null,
            "bottom": null,
            "display": null,
            "flex": null,
            "flex_flow": null,
            "grid_area": null,
            "grid_auto_columns": null,
            "grid_auto_flow": null,
            "grid_auto_rows": null,
            "grid_column": null,
            "grid_gap": null,
            "grid_row": null,
            "grid_template_areas": null,
            "grid_template_columns": null,
            "grid_template_rows": null,
            "height": null,
            "justify_content": null,
            "justify_items": null,
            "left": null,
            "margin": null,
            "max_height": null,
            "max_width": null,
            "min_height": null,
            "min_width": null,
            "object_fit": null,
            "object_position": null,
            "order": null,
            "overflow": null,
            "overflow_x": null,
            "overflow_y": null,
            "padding": null,
            "right": null,
            "top": null,
            "visibility": null,
            "width": null
          }
        },
        "5aafc3bbd7854af1ae32a9b0e969f0e4": {
          "model_module": "@jupyter-widgets/controls",
          "model_name": "DescriptionStyleModel",
          "model_module_version": "1.5.0",
          "state": {
            "_model_module": "@jupyter-widgets/controls",
            "_model_module_version": "1.5.0",
            "_model_name": "DescriptionStyleModel",
            "_view_count": null,
            "_view_module": "@jupyter-widgets/base",
            "_view_module_version": "1.2.0",
            "_view_name": "StyleView",
            "description_width": ""
          }
        },
        "0f592d03b7bd40dc854e13dd4688430f": {
          "model_module": "@jupyter-widgets/base",
          "model_name": "LayoutModel",
          "model_module_version": "1.2.0",
          "state": {
            "_model_module": "@jupyter-widgets/base",
            "_model_module_version": "1.2.0",
            "_model_name": "LayoutModel",
            "_view_count": null,
            "_view_module": "@jupyter-widgets/base",
            "_view_module_version": "1.2.0",
            "_view_name": "LayoutView",
            "align_content": null,
            "align_items": null,
            "align_self": null,
            "border": null,
            "bottom": null,
            "display": null,
            "flex": null,
            "flex_flow": null,
            "grid_area": null,
            "grid_auto_columns": null,
            "grid_auto_flow": null,
            "grid_auto_rows": null,
            "grid_column": null,
            "grid_gap": null,
            "grid_row": null,
            "grid_template_areas": null,
            "grid_template_columns": null,
            "grid_template_rows": null,
            "height": null,
            "justify_content": null,
            "justify_items": null,
            "left": null,
            "margin": null,
            "max_height": null,
            "max_width": null,
            "min_height": null,
            "min_width": null,
            "object_fit": null,
            "object_position": null,
            "order": null,
            "overflow": null,
            "overflow_x": null,
            "overflow_y": null,
            "padding": null,
            "right": null,
            "top": null,
            "visibility": null,
            "width": null
          }
        },
        "b2d1ead0d91144d798591ce73f3c4d1c": {
          "model_module": "@jupyter-widgets/controls",
          "model_name": "ProgressStyleModel",
          "model_module_version": "1.5.0",
          "state": {
            "_model_module": "@jupyter-widgets/controls",
            "_model_module_version": "1.5.0",
            "_model_name": "ProgressStyleModel",
            "_view_count": null,
            "_view_module": "@jupyter-widgets/base",
            "_view_module_version": "1.2.0",
            "_view_name": "StyleView",
            "bar_color": null,
            "description_width": ""
          }
        },
        "17269a34efd44d2ba5af4f9aed51f00f": {
          "model_module": "@jupyter-widgets/base",
          "model_name": "LayoutModel",
          "model_module_version": "1.2.0",
          "state": {
            "_model_module": "@jupyter-widgets/base",
            "_model_module_version": "1.2.0",
            "_model_name": "LayoutModel",
            "_view_count": null,
            "_view_module": "@jupyter-widgets/base",
            "_view_module_version": "1.2.0",
            "_view_name": "LayoutView",
            "align_content": null,
            "align_items": null,
            "align_self": null,
            "border": null,
            "bottom": null,
            "display": null,
            "flex": null,
            "flex_flow": null,
            "grid_area": null,
            "grid_auto_columns": null,
            "grid_auto_flow": null,
            "grid_auto_rows": null,
            "grid_column": null,
            "grid_gap": null,
            "grid_row": null,
            "grid_template_areas": null,
            "grid_template_columns": null,
            "grid_template_rows": null,
            "height": null,
            "justify_content": null,
            "justify_items": null,
            "left": null,
            "margin": null,
            "max_height": null,
            "max_width": null,
            "min_height": null,
            "min_width": null,
            "object_fit": null,
            "object_position": null,
            "order": null,
            "overflow": null,
            "overflow_x": null,
            "overflow_y": null,
            "padding": null,
            "right": null,
            "top": null,
            "visibility": null,
            "width": null
          }
        },
        "560651f357e543b59583f11d4095893a": {
          "model_module": "@jupyter-widgets/controls",
          "model_name": "DescriptionStyleModel",
          "model_module_version": "1.5.0",
          "state": {
            "_model_module": "@jupyter-widgets/controls",
            "_model_module_version": "1.5.0",
            "_model_name": "DescriptionStyleModel",
            "_view_count": null,
            "_view_module": "@jupyter-widgets/base",
            "_view_module_version": "1.2.0",
            "_view_name": "StyleView",
            "description_width": ""
          }
        },
        "bed29faef7a64ee9a0f1d19282c31f67": {
          "model_module": "@jupyter-widgets/controls",
          "model_name": "HBoxModel",
          "model_module_version": "1.5.0",
          "state": {
            "_dom_classes": [],
            "_model_module": "@jupyter-widgets/controls",
            "_model_module_version": "1.5.0",
            "_model_name": "HBoxModel",
            "_view_count": null,
            "_view_module": "@jupyter-widgets/controls",
            "_view_module_version": "1.5.0",
            "_view_name": "HBoxView",
            "box_style": "",
            "children": [
              "IPY_MODEL_87c3822c2ef64649afc802a64821cbc5",
              "IPY_MODEL_0c1669859fcb408483cc46ea324060ea",
              "IPY_MODEL_b211f1676f224fefa32419bea2f7624b"
            ],
            "layout": "IPY_MODEL_8b9a29fde50d44f59e637349ab151300"
          }
        },
        "87c3822c2ef64649afc802a64821cbc5": {
          "model_module": "@jupyter-widgets/controls",
          "model_name": "HTMLModel",
          "model_module_version": "1.5.0",
          "state": {
            "_dom_classes": [],
            "_model_module": "@jupyter-widgets/controls",
            "_model_module_version": "1.5.0",
            "_model_name": "HTMLModel",
            "_view_count": null,
            "_view_module": "@jupyter-widgets/controls",
            "_view_module_version": "1.5.0",
            "_view_name": "HTMLView",
            "description": "",
            "description_tooltip": null,
            "layout": "IPY_MODEL_3bd87abd3a574ca88e8a74bfd8904d3d",
            "placeholder": "​",
            "style": "IPY_MODEL_f0f8b4141798429b8f199391ea175212",
            "value": "0000.parquet: 100%"
          }
        },
        "0c1669859fcb408483cc46ea324060ea": {
          "model_module": "@jupyter-widgets/controls",
          "model_name": "FloatProgressModel",
          "model_module_version": "1.5.0",
          "state": {
            "_dom_classes": [],
            "_model_module": "@jupyter-widgets/controls",
            "_model_module_version": "1.5.0",
            "_model_name": "FloatProgressModel",
            "_view_count": null,
            "_view_module": "@jupyter-widgets/controls",
            "_view_module_version": "1.5.0",
            "_view_name": "ProgressView",
            "bar_style": "success",
            "description": "",
            "description_tooltip": null,
            "layout": "IPY_MODEL_00dc5a7d89634a09944d74c95d6632c1",
            "max": 102566691,
            "min": 0,
            "orientation": "horizontal",
            "style": "IPY_MODEL_8c98251376224dad82b567566ab329d8",
            "value": 102566691
          }
        },
        "b211f1676f224fefa32419bea2f7624b": {
          "model_module": "@jupyter-widgets/controls",
          "model_name": "HTMLModel",
          "model_module_version": "1.5.0",
          "state": {
            "_dom_classes": [],
            "_model_module": "@jupyter-widgets/controls",
            "_model_module_version": "1.5.0",
            "_model_name": "HTMLModel",
            "_view_count": null,
            "_view_module": "@jupyter-widgets/controls",
            "_view_module_version": "1.5.0",
            "_view_name": "HTMLView",
            "description": "",
            "description_tooltip": null,
            "layout": "IPY_MODEL_45d763f058b64cd396d4ab5f5f80836f",
            "placeholder": "​",
            "style": "IPY_MODEL_3af9d0d913b34c71baff00e6df4bb575",
            "value": " 103M/103M [00:04&lt;00:00, 26.4MB/s]"
          }
        },
        "8b9a29fde50d44f59e637349ab151300": {
          "model_module": "@jupyter-widgets/base",
          "model_name": "LayoutModel",
          "model_module_version": "1.2.0",
          "state": {
            "_model_module": "@jupyter-widgets/base",
            "_model_module_version": "1.2.0",
            "_model_name": "LayoutModel",
            "_view_count": null,
            "_view_module": "@jupyter-widgets/base",
            "_view_module_version": "1.2.0",
            "_view_name": "LayoutView",
            "align_content": null,
            "align_items": null,
            "align_self": null,
            "border": null,
            "bottom": null,
            "display": null,
            "flex": null,
            "flex_flow": null,
            "grid_area": null,
            "grid_auto_columns": null,
            "grid_auto_flow": null,
            "grid_auto_rows": null,
            "grid_column": null,
            "grid_gap": null,
            "grid_row": null,
            "grid_template_areas": null,
            "grid_template_columns": null,
            "grid_template_rows": null,
            "height": null,
            "justify_content": null,
            "justify_items": null,
            "left": null,
            "margin": null,
            "max_height": null,
            "max_width": null,
            "min_height": null,
            "min_width": null,
            "object_fit": null,
            "object_position": null,
            "order": null,
            "overflow": null,
            "overflow_x": null,
            "overflow_y": null,
            "padding": null,
            "right": null,
            "top": null,
            "visibility": null,
            "width": null
          }
        },
        "3bd87abd3a574ca88e8a74bfd8904d3d": {
          "model_module": "@jupyter-widgets/base",
          "model_name": "LayoutModel",
          "model_module_version": "1.2.0",
          "state": {
            "_model_module": "@jupyter-widgets/base",
            "_model_module_version": "1.2.0",
            "_model_name": "LayoutModel",
            "_view_count": null,
            "_view_module": "@jupyter-widgets/base",
            "_view_module_version": "1.2.0",
            "_view_name": "LayoutView",
            "align_content": null,
            "align_items": null,
            "align_self": null,
            "border": null,
            "bottom": null,
            "display": null,
            "flex": null,
            "flex_flow": null,
            "grid_area": null,
            "grid_auto_columns": null,
            "grid_auto_flow": null,
            "grid_auto_rows": null,
            "grid_column": null,
            "grid_gap": null,
            "grid_row": null,
            "grid_template_areas": null,
            "grid_template_columns": null,
            "grid_template_rows": null,
            "height": null,
            "justify_content": null,
            "justify_items": null,
            "left": null,
            "margin": null,
            "max_height": null,
            "max_width": null,
            "min_height": null,
            "min_width": null,
            "object_fit": null,
            "object_position": null,
            "order": null,
            "overflow": null,
            "overflow_x": null,
            "overflow_y": null,
            "padding": null,
            "right": null,
            "top": null,
            "visibility": null,
            "width": null
          }
        },
        "f0f8b4141798429b8f199391ea175212": {
          "model_module": "@jupyter-widgets/controls",
          "model_name": "DescriptionStyleModel",
          "model_module_version": "1.5.0",
          "state": {
            "_model_module": "@jupyter-widgets/controls",
            "_model_module_version": "1.5.0",
            "_model_name": "DescriptionStyleModel",
            "_view_count": null,
            "_view_module": "@jupyter-widgets/base",
            "_view_module_version": "1.2.0",
            "_view_name": "StyleView",
            "description_width": ""
          }
        },
        "00dc5a7d89634a09944d74c95d6632c1": {
          "model_module": "@jupyter-widgets/base",
          "model_name": "LayoutModel",
          "model_module_version": "1.2.0",
          "state": {
            "_model_module": "@jupyter-widgets/base",
            "_model_module_version": "1.2.0",
            "_model_name": "LayoutModel",
            "_view_count": null,
            "_view_module": "@jupyter-widgets/base",
            "_view_module_version": "1.2.0",
            "_view_name": "LayoutView",
            "align_content": null,
            "align_items": null,
            "align_self": null,
            "border": null,
            "bottom": null,
            "display": null,
            "flex": null,
            "flex_flow": null,
            "grid_area": null,
            "grid_auto_columns": null,
            "grid_auto_flow": null,
            "grid_auto_rows": null,
            "grid_column": null,
            "grid_gap": null,
            "grid_row": null,
            "grid_template_areas": null,
            "grid_template_columns": null,
            "grid_template_rows": null,
            "height": null,
            "justify_content": null,
            "justify_items": null,
            "left": null,
            "margin": null,
            "max_height": null,
            "max_width": null,
            "min_height": null,
            "min_width": null,
            "object_fit": null,
            "object_position": null,
            "order": null,
            "overflow": null,
            "overflow_x": null,
            "overflow_y": null,
            "padding": null,
            "right": null,
            "top": null,
            "visibility": null,
            "width": null
          }
        },
        "8c98251376224dad82b567566ab329d8": {
          "model_module": "@jupyter-widgets/controls",
          "model_name": "ProgressStyleModel",
          "model_module_version": "1.5.0",
          "state": {
            "_model_module": "@jupyter-widgets/controls",
            "_model_module_version": "1.5.0",
            "_model_name": "ProgressStyleModel",
            "_view_count": null,
            "_view_module": "@jupyter-widgets/base",
            "_view_module_version": "1.2.0",
            "_view_name": "StyleView",
            "bar_color": null,
            "description_width": ""
          }
        },
        "45d763f058b64cd396d4ab5f5f80836f": {
          "model_module": "@jupyter-widgets/base",
          "model_name": "LayoutModel",
          "model_module_version": "1.2.0",
          "state": {
            "_model_module": "@jupyter-widgets/base",
            "_model_module_version": "1.2.0",
            "_model_name": "LayoutModel",
            "_view_count": null,
            "_view_module": "@jupyter-widgets/base",
            "_view_module_version": "1.2.0",
            "_view_name": "LayoutView",
            "align_content": null,
            "align_items": null,
            "align_self": null,
            "border": null,
            "bottom": null,
            "display": null,
            "flex": null,
            "flex_flow": null,
            "grid_area": null,
            "grid_auto_columns": null,
            "grid_auto_flow": null,
            "grid_auto_rows": null,
            "grid_column": null,
            "grid_gap": null,
            "grid_row": null,
            "grid_template_areas": null,
            "grid_template_columns": null,
            "grid_template_rows": null,
            "height": null,
            "justify_content": null,
            "justify_items": null,
            "left": null,
            "margin": null,
            "max_height": null,
            "max_width": null,
            "min_height": null,
            "min_width": null,
            "object_fit": null,
            "object_position": null,
            "order": null,
            "overflow": null,
            "overflow_x": null,
            "overflow_y": null,
            "padding": null,
            "right": null,
            "top": null,
            "visibility": null,
            "width": null
          }
        },
        "3af9d0d913b34c71baff00e6df4bb575": {
          "model_module": "@jupyter-widgets/controls",
          "model_name": "DescriptionStyleModel",
          "model_module_version": "1.5.0",
          "state": {
            "_model_module": "@jupyter-widgets/controls",
            "_model_module_version": "1.5.0",
            "_model_name": "DescriptionStyleModel",
            "_view_count": null,
            "_view_module": "@jupyter-widgets/base",
            "_view_module_version": "1.2.0",
            "_view_name": "StyleView",
            "description_width": ""
          }
        },
        "0d71156c89d94d51a9eb9119e3b51c18": {
          "model_module": "@jupyter-widgets/controls",
          "model_name": "HBoxModel",
          "model_module_version": "1.5.0",
          "state": {
            "_dom_classes": [],
            "_model_module": "@jupyter-widgets/controls",
            "_model_module_version": "1.5.0",
            "_model_name": "HBoxModel",
            "_view_count": null,
            "_view_module": "@jupyter-widgets/controls",
            "_view_module_version": "1.5.0",
            "_view_name": "HBoxView",
            "box_style": "",
            "children": [
              "IPY_MODEL_14919add977047d4913232d9eafcd523",
              "IPY_MODEL_341e412bd0fd4c45b0479aaf4b9ba5fd",
              "IPY_MODEL_a6404bfec79344c49c95b9b275084444"
            ],
            "layout": "IPY_MODEL_cb576ef8045f402b84cf7d59de8f17d0"
          }
        },
        "14919add977047d4913232d9eafcd523": {
          "model_module": "@jupyter-widgets/controls",
          "model_name": "HTMLModel",
          "model_module_version": "1.5.0",
          "state": {
            "_dom_classes": [],
            "_model_module": "@jupyter-widgets/controls",
            "_model_module_version": "1.5.0",
            "_model_name": "HTMLModel",
            "_view_count": null,
            "_view_module": "@jupyter-widgets/controls",
            "_view_module_version": "1.5.0",
            "_view_name": "HTMLView",
            "description": "",
            "description_tooltip": null,
            "layout": "IPY_MODEL_3edf4df3e3e0427fa2f90cbc5963b43e",
            "placeholder": "​",
            "style": "IPY_MODEL_70d993efbd1448e9a31f2bd7d9a787c0",
            "value": "Generating train split: 100%"
          }
        },
        "341e412bd0fd4c45b0479aaf4b9ba5fd": {
          "model_module": "@jupyter-widgets/controls",
          "model_name": "FloatProgressModel",
          "model_module_version": "1.5.0",
          "state": {
            "_dom_classes": [],
            "_model_module": "@jupyter-widgets/controls",
            "_model_module_version": "1.5.0",
            "_model_name": "FloatProgressModel",
            "_view_count": null,
            "_view_module": "@jupyter-widgets/controls",
            "_view_module_version": "1.5.0",
            "_view_name": "ProgressView",
            "bar_style": "success",
            "description": "",
            "description_tooltip": null,
            "layout": "IPY_MODEL_d051e94363c546808f6e7fe3d86a1667",
            "max": 9469,
            "min": 0,
            "orientation": "horizontal",
            "style": "IPY_MODEL_6570f11f242c42d98a1b3b209de97896",
            "value": 9469
          }
        },
        "a6404bfec79344c49c95b9b275084444": {
          "model_module": "@jupyter-widgets/controls",
          "model_name": "HTMLModel",
          "model_module_version": "1.5.0",
          "state": {
            "_dom_classes": [],
            "_model_module": "@jupyter-widgets/controls",
            "_model_module_version": "1.5.0",
            "_model_name": "HTMLModel",
            "_view_count": null,
            "_view_module": "@jupyter-widgets/controls",
            "_view_module_version": "1.5.0",
            "_view_name": "HTMLView",
            "description": "",
            "description_tooltip": null,
            "layout": "IPY_MODEL_25cb89bbe5da4714aff888d1b4835d13",
            "placeholder": "​",
            "style": "IPY_MODEL_10a26e9737f94587800227e743bce280",
            "value": " 9469/9469 [00:00&lt;00:00, 12476.95 examples/s]"
          }
        },
        "cb576ef8045f402b84cf7d59de8f17d0": {
          "model_module": "@jupyter-widgets/base",
          "model_name": "LayoutModel",
          "model_module_version": "1.2.0",
          "state": {
            "_model_module": "@jupyter-widgets/base",
            "_model_module_version": "1.2.0",
            "_model_name": "LayoutModel",
            "_view_count": null,
            "_view_module": "@jupyter-widgets/base",
            "_view_module_version": "1.2.0",
            "_view_name": "LayoutView",
            "align_content": null,
            "align_items": null,
            "align_self": null,
            "border": null,
            "bottom": null,
            "display": null,
            "flex": null,
            "flex_flow": null,
            "grid_area": null,
            "grid_auto_columns": null,
            "grid_auto_flow": null,
            "grid_auto_rows": null,
            "grid_column": null,
            "grid_gap": null,
            "grid_row": null,
            "grid_template_areas": null,
            "grid_template_columns": null,
            "grid_template_rows": null,
            "height": null,
            "justify_content": null,
            "justify_items": null,
            "left": null,
            "margin": null,
            "max_height": null,
            "max_width": null,
            "min_height": null,
            "min_width": null,
            "object_fit": null,
            "object_position": null,
            "order": null,
            "overflow": null,
            "overflow_x": null,
            "overflow_y": null,
            "padding": null,
            "right": null,
            "top": null,
            "visibility": null,
            "width": null
          }
        },
        "3edf4df3e3e0427fa2f90cbc5963b43e": {
          "model_module": "@jupyter-widgets/base",
          "model_name": "LayoutModel",
          "model_module_version": "1.2.0",
          "state": {
            "_model_module": "@jupyter-widgets/base",
            "_model_module_version": "1.2.0",
            "_model_name": "LayoutModel",
            "_view_count": null,
            "_view_module": "@jupyter-widgets/base",
            "_view_module_version": "1.2.0",
            "_view_name": "LayoutView",
            "align_content": null,
            "align_items": null,
            "align_self": null,
            "border": null,
            "bottom": null,
            "display": null,
            "flex": null,
            "flex_flow": null,
            "grid_area": null,
            "grid_auto_columns": null,
            "grid_auto_flow": null,
            "grid_auto_rows": null,
            "grid_column": null,
            "grid_gap": null,
            "grid_row": null,
            "grid_template_areas": null,
            "grid_template_columns": null,
            "grid_template_rows": null,
            "height": null,
            "justify_content": null,
            "justify_items": null,
            "left": null,
            "margin": null,
            "max_height": null,
            "max_width": null,
            "min_height": null,
            "min_width": null,
            "object_fit": null,
            "object_position": null,
            "order": null,
            "overflow": null,
            "overflow_x": null,
            "overflow_y": null,
            "padding": null,
            "right": null,
            "top": null,
            "visibility": null,
            "width": null
          }
        },
        "70d993efbd1448e9a31f2bd7d9a787c0": {
          "model_module": "@jupyter-widgets/controls",
          "model_name": "DescriptionStyleModel",
          "model_module_version": "1.5.0",
          "state": {
            "_model_module": "@jupyter-widgets/controls",
            "_model_module_version": "1.5.0",
            "_model_name": "DescriptionStyleModel",
            "_view_count": null,
            "_view_module": "@jupyter-widgets/base",
            "_view_module_version": "1.2.0",
            "_view_name": "StyleView",
            "description_width": ""
          }
        },
        "d051e94363c546808f6e7fe3d86a1667": {
          "model_module": "@jupyter-widgets/base",
          "model_name": "LayoutModel",
          "model_module_version": "1.2.0",
          "state": {
            "_model_module": "@jupyter-widgets/base",
            "_model_module_version": "1.2.0",
            "_model_name": "LayoutModel",
            "_view_count": null,
            "_view_module": "@jupyter-widgets/base",
            "_view_module_version": "1.2.0",
            "_view_name": "LayoutView",
            "align_content": null,
            "align_items": null,
            "align_self": null,
            "border": null,
            "bottom": null,
            "display": null,
            "flex": null,
            "flex_flow": null,
            "grid_area": null,
            "grid_auto_columns": null,
            "grid_auto_flow": null,
            "grid_auto_rows": null,
            "grid_column": null,
            "grid_gap": null,
            "grid_row": null,
            "grid_template_areas": null,
            "grid_template_columns": null,
            "grid_template_rows": null,
            "height": null,
            "justify_content": null,
            "justify_items": null,
            "left": null,
            "margin": null,
            "max_height": null,
            "max_width": null,
            "min_height": null,
            "min_width": null,
            "object_fit": null,
            "object_position": null,
            "order": null,
            "overflow": null,
            "overflow_x": null,
            "overflow_y": null,
            "padding": null,
            "right": null,
            "top": null,
            "visibility": null,
            "width": null
          }
        },
        "6570f11f242c42d98a1b3b209de97896": {
          "model_module": "@jupyter-widgets/controls",
          "model_name": "ProgressStyleModel",
          "model_module_version": "1.5.0",
          "state": {
            "_model_module": "@jupyter-widgets/controls",
            "_model_module_version": "1.5.0",
            "_model_name": "ProgressStyleModel",
            "_view_count": null,
            "_view_module": "@jupyter-widgets/base",
            "_view_module_version": "1.2.0",
            "_view_name": "StyleView",
            "bar_color": null,
            "description_width": ""
          }
        },
        "25cb89bbe5da4714aff888d1b4835d13": {
          "model_module": "@jupyter-widgets/base",
          "model_name": "LayoutModel",
          "model_module_version": "1.2.0",
          "state": {
            "_model_module": "@jupyter-widgets/base",
            "_model_module_version": "1.2.0",
            "_model_name": "LayoutModel",
            "_view_count": null,
            "_view_module": "@jupyter-widgets/base",
            "_view_module_version": "1.2.0",
            "_view_name": "LayoutView",
            "align_content": null,
            "align_items": null,
            "align_self": null,
            "border": null,
            "bottom": null,
            "display": null,
            "flex": null,
            "flex_flow": null,
            "grid_area": null,
            "grid_auto_columns": null,
            "grid_auto_flow": null,
            "grid_auto_rows": null,
            "grid_column": null,
            "grid_gap": null,
            "grid_row": null,
            "grid_template_areas": null,
            "grid_template_columns": null,
            "grid_template_rows": null,
            "height": null,
            "justify_content": null,
            "justify_items": null,
            "left": null,
            "margin": null,
            "max_height": null,
            "max_width": null,
            "min_height": null,
            "min_width": null,
            "object_fit": null,
            "object_position": null,
            "order": null,
            "overflow": null,
            "overflow_x": null,
            "overflow_y": null,
            "padding": null,
            "right": null,
            "top": null,
            "visibility": null,
            "width": null
          }
        },
        "10a26e9737f94587800227e743bce280": {
          "model_module": "@jupyter-widgets/controls",
          "model_name": "DescriptionStyleModel",
          "model_module_version": "1.5.0",
          "state": {
            "_model_module": "@jupyter-widgets/controls",
            "_model_module_version": "1.5.0",
            "_model_name": "DescriptionStyleModel",
            "_view_count": null,
            "_view_module": "@jupyter-widgets/base",
            "_view_module_version": "1.2.0",
            "_view_name": "StyleView",
            "description_width": ""
          }
        },
        "164441c411bc4d658b807436698129b1": {
          "model_module": "@jupyter-widgets/controls",
          "model_name": "HBoxModel",
          "model_module_version": "1.5.0",
          "state": {
            "_dom_classes": [],
            "_model_module": "@jupyter-widgets/controls",
            "_model_module_version": "1.5.0",
            "_model_name": "HBoxModel",
            "_view_count": null,
            "_view_module": "@jupyter-widgets/controls",
            "_view_module_version": "1.5.0",
            "_view_name": "HBoxView",
            "box_style": "",
            "children": [
              "IPY_MODEL_da242218e2c646819f8d73bd5ae797e0",
              "IPY_MODEL_f2b0f0d71c2f40d2852a2bcd50504baa",
              "IPY_MODEL_5cfc98c1b34547ebb45e08fd70d078bf"
            ],
            "layout": "IPY_MODEL_2a98936e95e747a3bdc95f2dc2167437"
          }
        },
        "da242218e2c646819f8d73bd5ae797e0": {
          "model_module": "@jupyter-widgets/controls",
          "model_name": "HTMLModel",
          "model_module_version": "1.5.0",
          "state": {
            "_dom_classes": [],
            "_model_module": "@jupyter-widgets/controls",
            "_model_module_version": "1.5.0",
            "_model_name": "HTMLModel",
            "_view_count": null,
            "_view_module": "@jupyter-widgets/controls",
            "_view_module_version": "1.5.0",
            "_view_name": "HTMLView",
            "description": "",
            "description_tooltip": null,
            "layout": "IPY_MODEL_63c18b47251d4b79a7702de438b82ee5",
            "placeholder": "​",
            "style": "IPY_MODEL_203d1bbbd95f4236b26f227a5de31574",
            "value": "Generating validation split: 100%"
          }
        },
        "f2b0f0d71c2f40d2852a2bcd50504baa": {
          "model_module": "@jupyter-widgets/controls",
          "model_name": "FloatProgressModel",
          "model_module_version": "1.5.0",
          "state": {
            "_dom_classes": [],
            "_model_module": "@jupyter-widgets/controls",
            "_model_module_version": "1.5.0",
            "_model_name": "FloatProgressModel",
            "_view_count": null,
            "_view_module": "@jupyter-widgets/controls",
            "_view_module_version": "1.5.0",
            "_view_name": "ProgressView",
            "bar_style": "success",
            "description": "",
            "description_tooltip": null,
            "layout": "IPY_MODEL_f23ee07ef9e24aa2acefe8504344da41",
            "max": 3925,
            "min": 0,
            "orientation": "horizontal",
            "style": "IPY_MODEL_2ab83bf09ea7449d8eae1f16e6bae555",
            "value": 3925
          }
        },
        "5cfc98c1b34547ebb45e08fd70d078bf": {
          "model_module": "@jupyter-widgets/controls",
          "model_name": "HTMLModel",
          "model_module_version": "1.5.0",
          "state": {
            "_dom_classes": [],
            "_model_module": "@jupyter-widgets/controls",
            "_model_module_version": "1.5.0",
            "_model_name": "HTMLModel",
            "_view_count": null,
            "_view_module": "@jupyter-widgets/controls",
            "_view_module_version": "1.5.0",
            "_view_name": "HTMLView",
            "description": "",
            "description_tooltip": null,
            "layout": "IPY_MODEL_eda7f28e1c29494ab7a90a9f7112cead",
            "placeholder": "​",
            "style": "IPY_MODEL_3f87ecf61a284f11aafc389605133dff",
            "value": " 3925/3925 [00:00&lt;00:00, 11151.76 examples/s]"
          }
        },
        "2a98936e95e747a3bdc95f2dc2167437": {
          "model_module": "@jupyter-widgets/base",
          "model_name": "LayoutModel",
          "model_module_version": "1.2.0",
          "state": {
            "_model_module": "@jupyter-widgets/base",
            "_model_module_version": "1.2.0",
            "_model_name": "LayoutModel",
            "_view_count": null,
            "_view_module": "@jupyter-widgets/base",
            "_view_module_version": "1.2.0",
            "_view_name": "LayoutView",
            "align_content": null,
            "align_items": null,
            "align_self": null,
            "border": null,
            "bottom": null,
            "display": null,
            "flex": null,
            "flex_flow": null,
            "grid_area": null,
            "grid_auto_columns": null,
            "grid_auto_flow": null,
            "grid_auto_rows": null,
            "grid_column": null,
            "grid_gap": null,
            "grid_row": null,
            "grid_template_areas": null,
            "grid_template_columns": null,
            "grid_template_rows": null,
            "height": null,
            "justify_content": null,
            "justify_items": null,
            "left": null,
            "margin": null,
            "max_height": null,
            "max_width": null,
            "min_height": null,
            "min_width": null,
            "object_fit": null,
            "object_position": null,
            "order": null,
            "overflow": null,
            "overflow_x": null,
            "overflow_y": null,
            "padding": null,
            "right": null,
            "top": null,
            "visibility": null,
            "width": null
          }
        },
        "63c18b47251d4b79a7702de438b82ee5": {
          "model_module": "@jupyter-widgets/base",
          "model_name": "LayoutModel",
          "model_module_version": "1.2.0",
          "state": {
            "_model_module": "@jupyter-widgets/base",
            "_model_module_version": "1.2.0",
            "_model_name": "LayoutModel",
            "_view_count": null,
            "_view_module": "@jupyter-widgets/base",
            "_view_module_version": "1.2.0",
            "_view_name": "LayoutView",
            "align_content": null,
            "align_items": null,
            "align_self": null,
            "border": null,
            "bottom": null,
            "display": null,
            "flex": null,
            "flex_flow": null,
            "grid_area": null,
            "grid_auto_columns": null,
            "grid_auto_flow": null,
            "grid_auto_rows": null,
            "grid_column": null,
            "grid_gap": null,
            "grid_row": null,
            "grid_template_areas": null,
            "grid_template_columns": null,
            "grid_template_rows": null,
            "height": null,
            "justify_content": null,
            "justify_items": null,
            "left": null,
            "margin": null,
            "max_height": null,
            "max_width": null,
            "min_height": null,
            "min_width": null,
            "object_fit": null,
            "object_position": null,
            "order": null,
            "overflow": null,
            "overflow_x": null,
            "overflow_y": null,
            "padding": null,
            "right": null,
            "top": null,
            "visibility": null,
            "width": null
          }
        },
        "203d1bbbd95f4236b26f227a5de31574": {
          "model_module": "@jupyter-widgets/controls",
          "model_name": "DescriptionStyleModel",
          "model_module_version": "1.5.0",
          "state": {
            "_model_module": "@jupyter-widgets/controls",
            "_model_module_version": "1.5.0",
            "_model_name": "DescriptionStyleModel",
            "_view_count": null,
            "_view_module": "@jupyter-widgets/base",
            "_view_module_version": "1.2.0",
            "_view_name": "StyleView",
            "description_width": ""
          }
        },
        "f23ee07ef9e24aa2acefe8504344da41": {
          "model_module": "@jupyter-widgets/base",
          "model_name": "LayoutModel",
          "model_module_version": "1.2.0",
          "state": {
            "_model_module": "@jupyter-widgets/base",
            "_model_module_version": "1.2.0",
            "_model_name": "LayoutModel",
            "_view_count": null,
            "_view_module": "@jupyter-widgets/base",
            "_view_module_version": "1.2.0",
            "_view_name": "LayoutView",
            "align_content": null,
            "align_items": null,
            "align_self": null,
            "border": null,
            "bottom": null,
            "display": null,
            "flex": null,
            "flex_flow": null,
            "grid_area": null,
            "grid_auto_columns": null,
            "grid_auto_flow": null,
            "grid_auto_rows": null,
            "grid_column": null,
            "grid_gap": null,
            "grid_row": null,
            "grid_template_areas": null,
            "grid_template_columns": null,
            "grid_template_rows": null,
            "height": null,
            "justify_content": null,
            "justify_items": null,
            "left": null,
            "margin": null,
            "max_height": null,
            "max_width": null,
            "min_height": null,
            "min_width": null,
            "object_fit": null,
            "object_position": null,
            "order": null,
            "overflow": null,
            "overflow_x": null,
            "overflow_y": null,
            "padding": null,
            "right": null,
            "top": null,
            "visibility": null,
            "width": null
          }
        },
        "2ab83bf09ea7449d8eae1f16e6bae555": {
          "model_module": "@jupyter-widgets/controls",
          "model_name": "ProgressStyleModel",
          "model_module_version": "1.5.0",
          "state": {
            "_model_module": "@jupyter-widgets/controls",
            "_model_module_version": "1.5.0",
            "_model_name": "ProgressStyleModel",
            "_view_count": null,
            "_view_module": "@jupyter-widgets/base",
            "_view_module_version": "1.2.0",
            "_view_name": "StyleView",
            "bar_color": null,
            "description_width": ""
          }
        },
        "eda7f28e1c29494ab7a90a9f7112cead": {
          "model_module": "@jupyter-widgets/base",
          "model_name": "LayoutModel",
          "model_module_version": "1.2.0",
          "state": {
            "_model_module": "@jupyter-widgets/base",
            "_model_module_version": "1.2.0",
            "_model_name": "LayoutModel",
            "_view_count": null,
            "_view_module": "@jupyter-widgets/base",
            "_view_module_version": "1.2.0",
            "_view_name": "LayoutView",
            "align_content": null,
            "align_items": null,
            "align_self": null,
            "border": null,
            "bottom": null,
            "display": null,
            "flex": null,
            "flex_flow": null,
            "grid_area": null,
            "grid_auto_columns": null,
            "grid_auto_flow": null,
            "grid_auto_rows": null,
            "grid_column": null,
            "grid_gap": null,
            "grid_row": null,
            "grid_template_areas": null,
            "grid_template_columns": null,
            "grid_template_rows": null,
            "height": null,
            "justify_content": null,
            "justify_items": null,
            "left": null,
            "margin": null,
            "max_height": null,
            "max_width": null,
            "min_height": null,
            "min_width": null,
            "object_fit": null,
            "object_position": null,
            "order": null,
            "overflow": null,
            "overflow_x": null,
            "overflow_y": null,
            "padding": null,
            "right": null,
            "top": null,
            "visibility": null,
            "width": null
          }
        },
        "3f87ecf61a284f11aafc389605133dff": {
          "model_module": "@jupyter-widgets/controls",
          "model_name": "DescriptionStyleModel",
          "model_module_version": "1.5.0",
          "state": {
            "_model_module": "@jupyter-widgets/controls",
            "_model_module_version": "1.5.0",
            "_model_name": "DescriptionStyleModel",
            "_view_count": null,
            "_view_module": "@jupyter-widgets/base",
            "_view_module_version": "1.2.0",
            "_view_name": "StyleView",
            "description_width": ""
          }
        }
      }
    }
  },
  "nbformat": 4,
  "nbformat_minor": 0
}