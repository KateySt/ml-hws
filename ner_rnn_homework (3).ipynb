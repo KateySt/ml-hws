{
  "cells": [
    {
      "cell_type": "code",
      "execution_count": 3,
      "id": "qfPGQJoPE8gf",
      "metadata": {
        "id": "qfPGQJoPE8gf"
      },
      "outputs": [],
      "source": [
        "!pip install datasets > /dev/null"
      ]
    },
    {
      "cell_type": "code",
      "execution_count": 4,
      "id": "90ff67e2-7f3d-47fb-b6dd-b795fd5d4007",
      "metadata": {
        "id": "90ff67e2-7f3d-47fb-b6dd-b795fd5d4007"
      },
      "outputs": [],
      "source": [
        "import sys  # модуль для взаємодії з системою\n",
        "from typing import List, Tuple, Mapping  # використовуємо для визначення типів даних\n",
        "\n",
        "import datasets  # бібліотека для роботи з даними\n",
        "from tqdm import tqdm  # для створення прогрес-бару\n",
        "import numpy as np  # для роботи з масивами даних\n",
        "import matplotlib.pyplot as plt  # для візуалізації\n",
        "\n",
        "import torch  # бібліотека для навчання нейромереж\n",
        "import torch.nn as nn  # модуль нейронних мереж\n",
        "import torch.optim as optim  # оптимізатори\n",
        "import torch.nn.functional as F  # функціональні операції над тензорами\n",
        "from torch.nn.utils.rnn import pad_sequence  # для вирівнювання послідовностей\n",
        "from torch.utils.data import Dataset, DataLoader  # для роботи з даними та завантаження їх у модель"
      ]
    },
    {
      "cell_type": "markdown",
      "id": "tidOXR2lFKvY",
      "metadata": {
        "id": "tidOXR2lFKvY"
      },
      "source": [
        "## Dataset\n",
        "\n",
        "**[HuggingFace](https://huggingface.co/datasets/benjamin/ner-uk)** <br>\n",
        "**[GitHub](https://github.com/lang-uk/ner-uk/tree/master)**"
      ]
    },
    {
      "cell_type": "code",
      "execution_count": 5,
      "id": "7f87a917-3b53-4a0e-a53c-0a024210afba",
      "metadata": {
        "colab": {
          "base_uri": "https://localhost:8080/",
          "height": 640,
          "referenced_widgets": [
            "d6398c96ac1b415facdfbda42f886ed4",
            "a976d2f4f17942cf9ca4e208035f9460",
            "f006c8eb123c42e79517cc0a17966779",
            "b65d92e9752b4136a8b504dcf336f162",
            "940062de4c924e07b39580fe1aef4585",
            "8aca00460dd54c9ba1630f304d2ef168",
            "b2d6925369b8412db2e0619aafc563cf",
            "a09c139516c14350ae45a1cf7ef452a0",
            "0bc61fef417b4caf9d71fce783073df2",
            "7ef34a76fe99433197b737d18b6945fa",
            "d2690e9345214c9ca4f7714d46d0401c",
            "c8713eadd6bd450f87ce1855bfb7f096",
            "3b74b58fc6224399ad1454ed6cb425d4",
            "2134a042a1bb4313b8b7a1ab53e69c97",
            "ba216eaa95984ae982575606c318e0ff",
            "bdb7ae3a70fb491fb78aed13a0253c60",
            "8ce52c0aabcf45efab1fcb40a465293a",
            "dc1cbf179bd04ef4a844d4da7da82a54",
            "9141ff036984461882ac504797cb1b48",
            "aa7375a33c744b558f7e23ecb2563210",
            "17f90c56a1c2453285a59649824f9560",
            "f6d7cebf03e1465bbdd20d98def77b88",
            "a0397c75180f4d028b3845893b502ae5",
            "d50e20bf1ab84fc79c9070e3d2a7de59",
            "5e253ffd17ec480296bb96e0d5751ee5",
            "debb1166c0644fb6839bb0dcf0afc510",
            "0638e4cd063f4c03bbedf02145e763d4",
            "9742bb8717cf4cb7965df7cb919d89f9",
            "45060d1fa64f4bb7816f272a9388b548",
            "a19e051c08804db9ae2e0c381d90a8cf",
            "3d5f3146614547a3b5bb4107816fa675",
            "001aa2fe20904e648ef86616c4f70eb1",
            "e158e02d45ea491091d5432edb921620",
            "7740332d08a7430597d3bb56356a276f",
            "e7d8a797c7774a6eb4942c3c9d57fe19",
            "23a32a2d0b4b4b2abfacc9acae5a036f",
            "e46eb5e07a2d4ba89409eb62453abc57",
            "aa34f02753554c06ad24b5d4f95b26e0",
            "de611fb81e03417886cd53299d17be82",
            "6c384e4e61214ceab4d3b6aace7823d0",
            "bb3a3bfec7c04fe0a7b2da94c3a12847",
            "97a432d801b84c8d90a9fb84c1efbf95",
            "bfc0ba5b139746bcb3fcb9643ae0fcd9",
            "a33752a1902d4810a3c87baf932b165a",
            "ffabbe5a57bb4851994685a95e7524f0",
            "fc789e2911324e62b0c73fcd57d2dc63",
            "c41630f962c14bde9c0b2f3e97b2f5ac",
            "ee196246a770499a9770f691b0f5267f",
            "f4a2588bbffe4ef2b78b3d225b9e2eff",
            "42967534ad01413db385b382a155d580",
            "ddbfa9bd5241427fa97f15f6c8efdf1b",
            "90e4ac816cf847168dde946c5493c7da",
            "0d03e2868aef4c5baeb67a616312d0db",
            "d9471d9e5d7a462ca7205bfed4a6399c",
            "878439ecdb45487aa78810ef7853afcd",
            "55ae8576397b4f65a4c89a19bc0842a2",
            "1af39cf54b2b413c9d5a37f20488f14d",
            "2287d470881f477091fff223061615bb",
            "1fbd25caf0f549d1ae75227af1e79d81",
            "26e1e8edf55a41379a1d436f3479ce08",
            "959ef7ba0ef54038bec51ee1f4389a74",
            "467bd266c0674cffbca1a763061c68f1",
            "6125353bff7443b5bd3180d920696177",
            "68e21b3841884aa581e476799f81f0a4",
            "c20e51601f884625923e884b3500dbed",
            "9607cc3fd6c644ffbe6cc41d41fc0e21",
            "72501bcf3ec44b7dad748a0f72672f66",
            "47c6f27061994615922c587459e02380",
            "b3a8a893897a42678d8fd93f9928e281",
            "1f9b144324e44983b59f1380f3b9d3a8",
            "67aca6aa79184940aa886b4d5d23ea5f",
            "ff3c027b3b8e4428b6df49a0cdeb5e7e",
            "b64c9277d33f43f688dfe932f8f5e648",
            "872297529eb146fc81f57f89c87814d0",
            "74492ffd7d8245af9d942753baa56db3",
            "348a699515454f638b1f8726613967ea",
            "b8ff96d5b6a849d89a7764227e53ead4",
            "2459938ece9349c6af3c6fe96af795be",
            "5df195ea8a95441f98ed003559d4a2ae",
            "2feac193bfec4d1fbb1e85edac4e13ff",
            "bb37caf36044410993be7a956c518c88",
            "56d012f3fa7e45c3b0f955836366a6d9",
            "60a50d54d8434e9183f0ac2634b7ea41",
            "f040b67cbda74030afc1bafe9a0a7f18",
            "6325a8dc53944be0b2b045308875d6a1",
            "b8c33152bd3749ccbfb995036c90440f",
            "d2cdfe44a87b4b9ea4c63d2733b76015",
            "a7f5b2a12a2a4f6785f3a48dee0c48f2"
          ]
        },
        "id": "7f87a917-3b53-4a0e-a53c-0a024210afba",
        "outputId": "aa6d60c8-6470-4bd4-95b0-823fec48418f"
      },
      "outputs": [
        {
          "output_type": "stream",
          "name": "stderr",
          "text": [
            "/usr/local/lib/python3.11/dist-packages/huggingface_hub/utils/_auth.py:94: UserWarning: \n",
            "The secret `HF_TOKEN` does not exist in your Colab secrets.\n",
            "To authenticate with the Hugging Face Hub, create a token in your settings tab (https://huggingface.co/settings/tokens), set it as secret in your Google Colab and restart your session.\n",
            "You will be able to reuse this secret in all of your notebooks.\n",
            "Please note that authentication is recommended but still optional to access public models or datasets.\n",
            "  warnings.warn(\n"
          ]
        },
        {
          "output_type": "display_data",
          "data": {
            "text/plain": [
              "README.md:   0%|          | 0.00/1.32k [00:00<?, ?B/s]"
            ],
            "application/vnd.jupyter.widget-view+json": {
              "version_major": 2,
              "version_minor": 0,
              "model_id": "d6398c96ac1b415facdfbda42f886ed4"
            }
          },
          "metadata": {}
        },
        {
          "output_type": "display_data",
          "data": {
            "text/plain": [
              "dataset_infos.json:   0%|          | 0.00/1.02k [00:00<?, ?B/s]"
            ],
            "application/vnd.jupyter.widget-view+json": {
              "version_major": 2,
              "version_minor": 0,
              "model_id": "c8713eadd6bd450f87ce1855bfb7f096"
            }
          },
          "metadata": {}
        },
        {
          "output_type": "display_data",
          "data": {
            "text/plain": [
              "train-00000-of-00001.parquet:   0%|          | 0.00/922k [00:00<?, ?B/s]"
            ],
            "application/vnd.jupyter.widget-view+json": {
              "version_major": 2,
              "version_minor": 0,
              "model_id": "a0397c75180f4d028b3845893b502ae5"
            }
          },
          "metadata": {}
        },
        {
          "output_type": "display_data",
          "data": {
            "text/plain": [
              "validation-00000-of-00001.parquet:   0%|          | 0.00/131k [00:00<?, ?B/s]"
            ],
            "application/vnd.jupyter.widget-view+json": {
              "version_major": 2,
              "version_minor": 0,
              "model_id": "7740332d08a7430597d3bb56356a276f"
            }
          },
          "metadata": {}
        },
        {
          "output_type": "display_data",
          "data": {
            "text/plain": [
              "test-00000-of-00001.parquet:   0%|          | 0.00/74.8k [00:00<?, ?B/s]"
            ],
            "application/vnd.jupyter.widget-view+json": {
              "version_major": 2,
              "version_minor": 0,
              "model_id": "ffabbe5a57bb4851994685a95e7524f0"
            }
          },
          "metadata": {}
        },
        {
          "output_type": "display_data",
          "data": {
            "text/plain": [
              "Generating train split:   0%|          | 0/10833 [00:00<?, ? examples/s]"
            ],
            "application/vnd.jupyter.widget-view+json": {
              "version_major": 2,
              "version_minor": 0,
              "model_id": "55ae8576397b4f65a4c89a19bc0842a2"
            }
          },
          "metadata": {}
        },
        {
          "output_type": "display_data",
          "data": {
            "text/plain": [
              "Generating validation split:   0%|          | 0/1307 [00:00<?, ? examples/s]"
            ],
            "application/vnd.jupyter.widget-view+json": {
              "version_major": 2,
              "version_minor": 0,
              "model_id": "72501bcf3ec44b7dad748a0f72672f66"
            }
          },
          "metadata": {}
        },
        {
          "output_type": "display_data",
          "data": {
            "text/plain": [
              "Generating test split:   0%|          | 0/668 [00:00<?, ? examples/s]"
            ],
            "application/vnd.jupyter.widget-view+json": {
              "version_major": 2,
              "version_minor": 0,
              "model_id": "2459938ece9349c6af3c6fe96af795be"
            }
          },
          "metadata": {}
        },
        {
          "output_type": "execute_result",
          "data": {
            "text/plain": [
              "DatasetDict({\n",
              "    train: Dataset({\n",
              "        features: ['tokens', 'ner_tags'],\n",
              "        num_rows: 10833\n",
              "    })\n",
              "    validation: Dataset({\n",
              "        features: ['tokens', 'ner_tags'],\n",
              "        num_rows: 1307\n",
              "    })\n",
              "    test: Dataset({\n",
              "        features: ['tokens', 'ner_tags'],\n",
              "        num_rows: 668\n",
              "    })\n",
              "})"
            ]
          },
          "metadata": {},
          "execution_count": 5
        }
      ],
      "source": [
        "dataset = datasets.load_dataset(\"benjamin/ner-uk\")  # завантаження набору даних для розпізнавання іменованих сутностей українською мовою\n",
        "dataset  # виведення набору даних"
      ]
    },
    {
      "cell_type": "code",
      "execution_count": 6,
      "id": "ef02c955-d66f-46d5-8c7f-f14edbf7256d",
      "metadata": {
        "colab": {
          "base_uri": "https://localhost:8080/"
        },
        "id": "ef02c955-d66f-46d5-8c7f-f14edbf7256d",
        "outputId": "c917a36f-3cb4-41c4-f2e9-e4bded3d14b6"
      },
      "outputs": [
        {
          "output_type": "stream",
          "name": "stdout",
          "text": [
            "Vocab size: 50205\n"
          ]
        }
      ],
      "source": [
        "# NOTE: буде використано для вирівнювання вхідних послідовностей.\n",
        "TOK_PAD_ID = 0\n",
        "\n",
        "vocab = {\"<PAD>\": TOK_PAD_ID}  # словник, починаємо з індексу для заповнення\n",
        "curr_idx = 1  # поточний індекс для індексування слів\n",
        "for split in (\"train\", \"validation\", \"test\"):  # проходимо по наборах даних для навчання, валідації та тестування\n",
        "    for sample in dataset[split]:  # проходимо по кожному зразку в наборі даних\n",
        "        for word in sample[\"tokens\"]:  # проходимо по кожному слову в токенах зразку\n",
        "            if word not in vocab:  # якщо слово ще не зустрічалося\n",
        "                vocab[word] = curr_idx  # додаємо його до словника з поточним індексом\n",
        "                curr_idx += 1  # збільшуємо поточний індекс\n",
        "\n",
        "print(\"Vocab size:\", len(vocab))  # виводимо розмір словника"
      ]
    },
    {
      "cell_type": "code",
      "execution_count": 7,
      "id": "38de5b35-f19e-486f-99e9-9f71f24d5098",
      "metadata": {
        "colab": {
          "base_uri": "https://localhost:8080/"
        },
        "id": "38de5b35-f19e-486f-99e9-9f71f24d5098",
        "outputId": "e218ea9a-d78f-4d50-a17c-f4b1d58fae2b"
      },
      "outputs": [
        {
          "output_type": "stream",
          "name": "stdout",
          "text": [
            "Unique targets: 9\n"
          ]
        },
        {
          "output_type": "execute_result",
          "data": {
            "text/plain": [
              "[0, 1, 2, 3, 4, 5, 6, 7, 8]"
            ]
          },
          "metadata": {},
          "execution_count": 7
        }
      ],
      "source": [
        "# NOTE: буде використано це значення для вирівнювання міток,\n",
        "#       у функції CrossEntropyLoss є спеціальний параметр, який називається 'ignore_index'\n",
        "#       і він ігноруватиме мітки з цим значенням (обчислення втрат\n",
        "#       буде пропущено для міток, які дорівнюють цьому значенню)\n",
        "NER_PAD_ID = -100\n",
        "\n",
        "targets = set()  # множина для зберігання унікальних міток іменованих сутностей\n",
        "for split in (\"train\", \"validation\", \"test\"):  # проходимо по наборах даних для навчання, валідації та тестування\n",
        "    for sample in dataset[split]:  # проходимо по кожному зразку в наборі даних\n",
        "        targets.update(sample[\"ner_tags\"])  # додаємо усі мітки зразку до множини\n",
        "\n",
        "targets = sorted(targets)  # сортуємо унікальні мітки\n",
        "print(\"Unique targets:\", len(targets))  # виводимо кількість унікальних міток\n",
        "targets  # виводимо унікальні мітки"
      ]
    },
    {
      "cell_type": "markdown",
      "id": "5745311f-5198-4ccc-9985-e3b9f0289bac",
      "metadata": {
        "id": "5745311f-5198-4ccc-9985-e3b9f0289bac"
      },
      "source": [
        "## PyTorch Datasets & DataLoaders"
      ]
    },
    {
      "cell_type": "code",
      "execution_count": 13,
      "id": "08a15fa0-7962-4d7f-9dd0-a95300b2ca30",
      "metadata": {
        "id": "08a15fa0-7962-4d7f-9dd0-a95300b2ca30"
      },
      "outputs": [],
      "source": [
        "class NERDataset(Dataset):\n",
        "    def __init__(self, samples: datasets.Dataset, vocabulary: Mapping[str, int]) -> None:\n",
        "        self.samples = samples  # зразки даних\n",
        "        self.vocabulary = vocabulary  # словник токенів та їх індексів\n",
        "\n",
        "    def __len__(self) -> int:\n",
        "        return len(self.samples)  # повертаємо загальну кількість зразків у наборі даних\n",
        "\n",
        "    def __getitem__(self, index: int) -> Tuple[torch.LongTensor, torch.LongTensor]:\n",
        "        sample = self.samples[index]  # вибираємо зразок за індексом\n",
        "        doc = torch.LongTensor([self.vocabulary[token] for token in sample[\"tokens\"]])  # індексуємо токени зразка\n",
        "        label = torch.LongTensor(sample[\"ner_tags\"])  # конвертуємо мітки іменованих сутностей у тензор\n",
        "        return doc, label  # повертаємо тензор токенів та міток іменованих сутностей\n"
      ]
    },
    {
      "cell_type": "code",
      "execution_count": 14,
      "id": "fd23ddfe-9768-4a1d-bc81-51e8c140ccb1",
      "metadata": {
        "id": "fd23ddfe-9768-4a1d-bc81-51e8c140ccb1"
      },
      "outputs": [],
      "source": [
        "def seq_collate_fn(\n",
        "    batch: List[Tuple[torch.LongTensor, torch.LongTensor]], data_pad: int, label_pad: int\n",
        ") -> Tuple[torch.LongTensor, torch.LongTensor]:\n",
        "    \"\"\"Combine samples into batch that can be used laten by RNN model.\n",
        "\n",
        "    Args:\n",
        "        batch: list with tensors that should be packed into batch.\n",
        "            Expected that each list sample will be a tuple of (text_tokens, label_tokens).\n",
        "        data_pad: value to use for padding text tokens.\n",
        "        label_pad: value to use for padding label tokens.\n",
        "\n",
        "    Returns:\n",
        "        Padded and packed into batch text tokens and padded and packed into batch label tokens.\n",
        "    \"\"\"\n",
        "    token_ids = pad_sequence([item[0] for item in batch], batch_first=True, padding_value=data_pad)\n",
        "    label_ids = pad_sequence([item[1] for item in batch], batch_first=True, padding_value=label_pad)\n",
        "    return token_ids, label_ids\n",
        "\n",
        "\n",
        "def ner_collate_fn(batch: List[Tuple[torch.LongTensor, torch.LongTensor]]) -> Tuple[torch.LongTensor, torch.LongTensor]:\n",
        "    \"\"\"Collator function for our NER dataset.\n",
        "\n",
        "    Args:\n",
        "        batch: list with tensors that should be packed into batch.\n",
        "            Expected that each list sample will be a tuple of (text_tokens, label_tokens).\n",
        "\n",
        "    Returns:\n",
        "        Padded and packed into batch text tokens and padded and packed into batch label tokens.\n",
        "    \"\"\"\n",
        "    return seq_collate_fn(batch, TOK_PAD_ID, NER_PAD_ID)"
      ]
    },
    {
      "cell_type": "code",
      "execution_count": 15,
      "id": "e50a98db-01a0-4fbd-be8a-b8fa338f1a9c",
      "metadata": {
        "colab": {
          "base_uri": "https://localhost:8080/"
        },
        "id": "e50a98db-01a0-4fbd-be8a-b8fa338f1a9c",
        "outputId": "7eb9a946-d276-48ce-9b8b-508dd58d212c"
      },
      "outputs": [
        {
          "output_type": "execute_result",
          "data": {
            "text/plain": [
              "(10833, 1307, 668)"
            ]
          },
          "metadata": {},
          "execution_count": 15
        }
      ],
      "source": [
        "train_dataset = NERDataset(dataset[\"train\"], vocab)  # набір даних для навчання\n",
        "validation_dataset = NERDataset(dataset[\"validation\"], vocab)  # набір даних для валідації\n",
        "test_dataset = NERDataset(dataset[\"test\"], vocab)  # набір даних для тестування\n",
        "\n",
        "len(train_dataset), len(validation_dataset), len(test_dataset)  # вивід кількості зразків у кожному наборі даних"
      ]
    },
    {
      "cell_type": "code",
      "execution_count": 16,
      "id": "731a341a-6b1c-4b76-93cb-47d1aacc2537",
      "metadata": {
        "colab": {
          "base_uri": "https://localhost:8080/"
        },
        "id": "731a341a-6b1c-4b76-93cb-47d1aacc2537",
        "outputId": "42cf3e8d-59d1-4e61-c967-a1540d0c52c3"
      },
      "outputs": [
        {
          "output_type": "execute_result",
          "data": {
            "text/plain": [
              "(169, 21, 11)"
            ]
          },
          "metadata": {},
          "execution_count": 16
        }
      ],
      "source": [
        "batch_size = 64\n",
        "\n",
        "train_loader = DataLoader(train_dataset, batch_size=batch_size, shuffle=True, drop_last=True, collate_fn=ner_collate_fn)\n",
        "validation_loader = DataLoader(validation_dataset, batch_size=batch_size, shuffle=False, collate_fn=ner_collate_fn)\n",
        "test_loader = DataLoader(test_dataset, batch_size=batch_size, shuffle=False, collate_fn=ner_collate_fn)\n",
        "\n",
        "len(train_loader), len(validation_loader), len(test_loader)  # вивід кількості пакетів у кожному завантажувачі даних"
      ]
    },
    {
      "cell_type": "markdown",
      "id": "681b641c-219a-4803-86c0-a2f7cc06bcb5",
      "metadata": {
        "id": "681b641c-219a-4803-86c0-a2f7cc06bcb5"
      },
      "source": [
        "# Training & Evaluation"
      ]
    },
    {
      "cell_type": "code",
      "execution_count": 13,
      "id": "t3X87ZY_BKrr",
      "metadata": {
        "id": "t3X87ZY_BKrr"
      },
      "outputs": [],
      "source": [
        "def sequence_f1(true_labels: np.array, predicted_labels: np.array) -> np.array:\n",
        "    \"\"\"F1 score for one sequence.\n",
        "\n",
        "    Args:\n",
        "        true_labels: ground truth labels.\n",
        "        predicted_labels: model predictions.\n",
        "\n",
        "    Returns:\n",
        "        F1 scores for each class.\n",
        "    \"\"\"\n",
        "    assert len(true_labels) == len(predicted_labels), \"Mismatched length between true labels and predicted labels\"\n",
        "\n",
        "    scores = []  # список для зберігання значень F1 для кожного класу\n",
        "    for _cls in targets:  # проходимо по унікальним класам міток\n",
        "        # обчислюємо кількість true positives, false positives та false negatives для поточного класу\n",
        "        true_positives = np.sum((true_labels == predicted_labels) & (true_labels == _cls))\n",
        "        false_positives = np.sum((true_labels != predicted_labels) & (predicted_labels == _cls))\n",
        "        false_negatives = np.sum((true_labels != predicted_labels) & (true_labels == _cls))\n",
        "\n",
        "        # обчислюємо точність, відновлення та F1 для поточного класу\n",
        "        precision = np.nan_to_num(true_positives / (true_positives + false_positives), nan=0.0)\n",
        "        recall = np.nan_to_num(true_positives / (true_positives + false_negatives), nan=0.0)\n",
        "        f1_score = np.nan_to_num(2 * (precision * recall) / (precision + recall), nan=0.0)\n",
        "\n",
        "        scores.append(f1_score)  # додаємо значення F1 до списку\n",
        "    return np.array(scores)  # повертаємо масив зі значеннями F1 для кожного класу"
      ]
    },
    {
      "cell_type": "code",
      "execution_count": 14,
      "id": "bcdea345-fd99-4835-b15c-3b0d8b46c08a",
      "metadata": {
        "id": "bcdea345-fd99-4835-b15c-3b0d8b46c08a"
      },
      "outputs": [],
      "source": [
        "def train_one_epoch(\n",
        "    model: nn.Module,\n",
        "    loader: DataLoader,\n",
        "    criterion: nn.Module,\n",
        "    optimizer: optim.Optimizer,\n",
        "    device: str = \"cpu\",\n",
        "    verbose: bool = True,\n",
        ") -> Mapping[str, np.array]:\n",
        "    \"\"\"Train model one epoch.\n",
        "\n",
        "    Args:\n",
        "        model: model to train.\n",
        "        loader: dataloader to use for training.\n",
        "        criterion: loss function to optimize.\n",
        "        optimizer: model training algorithm.\n",
        "        device: device to use for training.\n",
        "            Default is `\"cpu\"`.\n",
        "        verbose: option to print training progress bar.\n",
        "            Default is `True`.\n",
        "\n",
        "    Returns:\n",
        "        dict with training logs\n",
        "    \"\"\"\n",
        "    model.train()  # переведення моделі у режим тренування\n",
        "\n",
        "    losses = []  # список для зберігання значень втрат\n",
        "    scores = []  # список для зберігання значень метрики F1\n",
        "\n",
        "    # ініціалізація прогрес-бару\n",
        "    with tqdm(total=len(loader), desc=\"training\", file=sys.stdout, ncols=100, disable=not verbose) as progress:\n",
        "        for x_batch, y_true in loader:  # проходимо по кожному пакету даних у загальному наборі даних\n",
        "            x_batch = x_batch.to(device)  # переносимо пакет даних на пристрій\n",
        "            y_true = y_true.to(device)    # переносимо мітки на пристрій\n",
        "\n",
        "            optimizer.zero_grad()  # обнулення градієнтів\n",
        "\n",
        "            log_prob = model(x_batch)  # передбачення моделі\n",
        "\n",
        "            B, T = y_true.shape  # отримуємо розмірність батчу та довжини послідовності\n",
        "            loss = criterion(log_prob.view(B * T, -1), y_true.view(B * T))  # обчислення втрат\n",
        "\n",
        "            loss.backward()  # обчислення градієнтів\n",
        "            losses.append(loss.item())  # додаємо значення втрат до списку\n",
        "\n",
        "            # отримуємо масиви NumPy для міток та передбачень\n",
        "            y_pred = log_prob.argmax(2).detach().cpu().numpy()\n",
        "            y_true = y_true.detach().cpu().numpy()\n",
        "\n",
        "            # обчислюємо метрику F1 для кожного зразка в пакеті\n",
        "            padding_mask = y_true != NER_PAD_ID\n",
        "            for i in range(x_batch.size(0)):\n",
        "                scores.append(sequence_f1(y_true[i][padding_mask[i]], y_pred[i][padding_mask[i]]))\n",
        "\n",
        "            # оновлення інформації у прогрес-барі\n",
        "            progress.set_postfix_str(f\"loss {losses[-1]:.4f}\")\n",
        "\n",
        "            optimizer.step()  # оновлення параметрів моделі\n",
        "\n",
        "            progress.update(1)  # оновлення прогресу у прогрес-барі\n",
        "\n",
        "    logs = {\n",
        "        \"losses\": np.array(losses),  # значення втрат\n",
        "        \"f1\": np.array(scores)        # значення метрики F1\n",
        "    }\n",
        "    return logs  # повертаємо журнал тренування у формі словника\n"
      ]
    },
    {
      "cell_type": "code",
      "execution_count": 24,
      "id": "ef5ee906-9afd-494a-a8ec-78bd94117a34",
      "metadata": {
        "id": "ef5ee906-9afd-494a-a8ec-78bd94117a34"
      },
      "outputs": [],
      "source": [
        "@torch.inference_mode()\n",
        "def evaluate(\n",
        "    model: nn.Module,\n",
        "    loader: DataLoader,\n",
        "    criterion: nn.Module,\n",
        "    device: str = \"cpu\",\n",
        "    verbose: bool = True,\n",
        ") -> Mapping[str, np.array]:\n",
        "    \"\"\"Model evaluation.\n",
        "\n",
        "    Args:\n",
        "        model: model to evaluate.\n",
        "        loader: dataloader to use for evaluation.\n",
        "        criterion: loss function.\n",
        "        device: device to use for evaluation.\n",
        "            Default is `\"cpu\"`.\n",
        "        verbose: option to print evaluation progress bar.\n",
        "            Default is `True`.\n",
        "\n",
        "    Returns:\n",
        "        dict with evaluation logs\n",
        "    \"\"\"\n",
        "    model.eval()  # переведення моделі у режим оцінювання\n",
        "\n",
        "    losses = []  # список для зберігання значень втрат\n",
        "    scores = []  # список для зберігання значень метрики F1\n",
        "\n",
        "    # ініціалізація прогрес-бару\n",
        "    for x_batch, y_true in tqdm(loader, desc=\"evaluation\", file=sys.stdout, ncols=100, disable=not verbose):\n",
        "        x_batch = x_batch.to(device)  # переносимо пакет даних на пристрій\n",
        "        y_true = y_true.to(device)    # переносимо мітки на пристрій\n",
        "\n",
        "        log_prob = model(x_batch)  # передбачення моделі\n",
        "\n",
        "        B, T = y_true.shape  # отримуємо розмірність батчу та довжини послідовності\n",
        "        loss = criterion(log_prob.view(B * T, -1), y_true.view(B * T))  # обчислення втрат\n",
        "\n",
        "        losses.append(loss.item())  # додаємо значення втрат до списку\n",
        "\n",
        "        # отримуємо масиви NumPy для міток та передбачень\n",
        "        y_pred = log_prob.argmax(2).detach().cpu().numpy()\n",
        "        y_true = y_true.detach().cpu().numpy()\n",
        "\n",
        "        # обчислюємо метрику F1 для кожного зразка в пакеті\n",
        "        padding_mask = y_true != NER_PAD_ID\n",
        "        for i in range(x_batch.size(0)):\n",
        "            scores.append(sequence_f1(y_true[i][padding_mask[i]], y_pred[i][padding_mask[i]]))\n",
        "\n",
        "    logs = {\n",
        "        \"losses\": np.array(losses),  # значення втрат\n",
        "        \"f1\": np.array(scores)        # значення метрики F1\n",
        "    }\n",
        "    return logs  # повертаємо журнал оцінювання у формі словника"
      ]
    },
    {
      "cell_type": "markdown",
      "id": "8a1f67db-36bd-4f2b-8c3a-c1e6b9423d09",
      "metadata": {
        "id": "8a1f67db-36bd-4f2b-8c3a-c1e6b9423d09"
      },
      "source": [
        "## Modeling"
      ]
    },
    {
      "cell_type": "code",
      "execution_count": 26,
      "id": "780f102c-86bb-4535-a87b-f1b80ac659d3",
      "metadata": {
        "id": "780f102c-86bb-4535-a87b-f1b80ac659d3"
      },
      "outputs": [],
      "source": [
        "#######################################################################\n",
        "# TODO: play with architecture to achieve a better score\n",
        "#######################################################################\n",
        "\n",
        "class NER_RNN(nn.Module):\n",
        "    def __init__(self, vocab_size, input_size, hidden_size, num_hidden_layers, num_classes):\n",
        "        super(NER_RNN, self).__init__()\n",
        "        # mapping from token_id to its vector representation\n",
        "        self.embed = nn.Embedding(vocab_size, input_size, padding_idx=TOK_PAD_ID)\n",
        "        # some RNN, could be nn.RNN, nn.LSTM, nn.GRU\n",
        "        self.rnn = nn.GRU(\n",
        "            input_size, hidden_size, num_hidden_layers, bidirectional=True, dropout=0.2, batch_first=True\n",
        "        )\n",
        "        # norm layer\n",
        "        self.layer_norm = nn.LayerNorm(hidden_size * 2)   # * 2 because of `bidirectional=True`\n",
        "        # classification head\n",
        "        self.fc = nn.Linear(hidden_size * 2, num_classes)  # * 2 because of `bidirectional=True`\n",
        "\n",
        "    def forward(self, x):\n",
        "        x = self.embed(x)  # вбудовування токенів\n",
        "        rnn_output, _ = self.rnn(x)\n",
        "        rnn_output = self.layer_norm(rnn_output)\n",
        "        x, _ = self.rnn(x)  # рекурентний шар\n",
        "        x = self.layer_norm(x)  # нормалізація шару\n",
        "        x = F.relu(x)  # функція активації ReLU\n",
        "        x = self.fc(x)  # класифікаційний шар\n",
        "        scores = torch.log_softmax(x, dim=2)  # обчислення логарифмованих ймовірностей класів\n",
        "        return scores"
      ]
    },
    {
      "cell_type": "code",
      "execution_count": 27,
      "id": "c86e4cb8-42ad-4745-89a6-7b4ec4aa42df",
      "metadata": {
        "colab": {
          "base_uri": "https://localhost:8080/"
        },
        "id": "c86e4cb8-42ad-4745-89a6-7b4ec4aa42df",
        "outputId": "d6d74d6b-28ec-4466-898a-a62156b22ba7"
      },
      "outputs": [
        {
          "output_type": "stream",
          "name": "stdout",
          "text": [
            "Device - cuda\n",
            "NER_RNN(\n",
            "  (embed): Embedding(50205, 512, padding_idx=0)\n",
            "  (rnn): GRU(512, 512, num_layers=3, batch_first=True, dropout=0.2, bidirectional=True)\n",
            "  (layer_norm): LayerNorm((1024,), eps=1e-05, elementwise_affine=True)\n",
            "  (fc): Linear(in_features=1024, out_features=9, bias=True)\n",
            ")\n",
            "Number of trainable parameters - 38317577\n"
          ]
        }
      ],
      "source": [
        "#######################################################################\n",
        "# TODO: add learning rate scheduler\n",
        "#######################################################################\n",
        "import torch.optim.lr_scheduler as lr_scheduler\n",
        "\n",
        "\n",
        "device = \"cuda\" if torch.cuda.is_available() else \"cpu\"  # визначення пристрою для обчислень\n",
        "print(f\"Device - {device}\")\n",
        "\n",
        "torch.manual_seed(42)  # встановлення випадкових налаштувань для відтворюваності результатів\n",
        "model = NER_RNN(len(vocab), 512, 512, 3, len(targets))  # ініціалізація моделі\n",
        "model = model.to(device)  # переміщення моделі на пристрій\n",
        "print(model)\n",
        "print(\"Number of trainable parameters -\", sum(p.numel() for p in model.parameters() if p.requires_grad))  # виведення кількості параметрів моделі, які підлягають навчанню\n",
        "\n",
        "criterion = nn.CrossEntropyLoss(ignore_index=-100)  # визначення критерію (функції втрат)\n",
        "optimizer = optim.Adam(model.parameters(), lr=1e-4)  # визначення оптимізатора з початковою швидкістю навчання\n",
        "\n",
        "scheduler = lr_scheduler.ReduceLROnPlateau(optimizer, 'min', patience=2, factor=0.5, verbose=True)"
      ]
    },
    {
      "cell_type": "code",
      "execution_count": 28,
      "id": "d7fe6462-2f13-4f5f-8d9c-efc24d657f7b",
      "metadata": {
        "colab": {
          "base_uri": "https://localhost:8080/"
        },
        "id": "d7fe6462-2f13-4f5f-8d9c-efc24d657f7b",
        "outputId": "eef9d018-9a6b-4c8c-f995-133a3c74749a"
      },
      "outputs": [
        {
          "output_type": "stream",
          "name": "stdout",
          "text": [
            "\n",
            "Epoch  1/30\n",
            "training:   1%|▏                                       | 1/169 [00:00<00:48,  3.47it/s, loss 2.4147]"
          ]
        },
        {
          "output_type": "stream",
          "name": "stderr",
          "text": [
            "<ipython-input-13-1a8d18e29ee3>:21: RuntimeWarning: invalid value encountered in scalar divide\n",
            "  precision = np.nan_to_num(true_positives / (true_positives + false_positives), nan=0.0)\n",
            "<ipython-input-13-1a8d18e29ee3>:22: RuntimeWarning: invalid value encountered in scalar divide\n",
            "  recall = np.nan_to_num(true_positives / (true_positives + false_negatives), nan=0.0)\n",
            "<ipython-input-13-1a8d18e29ee3>:23: RuntimeWarning: invalid value encountered in scalar divide\n",
            "  f1_score = np.nan_to_num(2 * (precision * recall) / (precision + recall), nan=0.0)\n"
          ]
        },
        {
          "output_type": "stream",
          "name": "stdout",
          "text": [
            "training: 100%|██████████████████████████████████████| 169/169 [00:39<00:00,  4.31it/s, loss 0.1861]\n",
            "      loss: 0.284578884141685\n",
            "        f1: [9.72636261e-01 0.00000000e+00 6.16370809e-05 3.69822485e-05\n",
            " 5.00631949e-04 3.08185404e-05 0.00000000e+00 0.00000000e+00\n",
            " 4.13572138e-04]\n",
            "evaluation: 100%|███████████████████████████████████████████████████| 21/21 [00:02<00:00,  9.78it/s]\n",
            "      loss: 0.27098539010399864\n",
            "        f1: [9.74224426e-01 0.00000000e+00 0.00000000e+00 0.00000000e+00\n",
            " 1.56847743e-03 0.00000000e+00 0.00000000e+00 5.10073961e-04\n",
            " 3.06044376e-04]\n",
            "🟢 Saved new best state! 🟢\n",
            "\n",
            "Epoch  2/30\n",
            "training: 100%|██████████████████████████████████████| 169/169 [00:39<00:00,  4.26it/s, loss 0.1513]\n",
            "      loss: 0.20053517963935638\n",
            "        f1: [9.81556157e-01 2.66309545e-03 1.18271175e-03 6.16370809e-05\n",
            " 3.89676961e-03 2.54252959e-03 9.24556213e-05 5.53706443e-04\n",
            " 3.33037411e-03]\n",
            "evaluation: 100%|███████████████████████████████████████████████████| 21/21 [00:02<00:00, 10.08it/s]\n",
            "      loss: 0.24492580940326056\n",
            "        f1: [9.74796565e-01 7.65110941e-04 0.00000000e+00 7.65110941e-04\n",
            " 8.92629431e-04 2.80540678e-03 0.00000000e+00 1.27518490e-03\n",
            " 2.19099951e-03]\n",
            "🟢 Saved new best state! 🟢\n",
            "\n",
            "Epoch  3/30\n",
            "training: 100%|██████████████████████████████████████| 169/169 [00:39<00:00,  4.30it/s, loss 0.1266]\n",
            "      loss: 0.16319457525332298\n",
            "        f1: [0.98304644 0.02147444 0.00289952 0.00147379 0.00772387 0.00852617\n",
            " 0.00117718 0.00240762 0.00605391]\n",
            "evaluation: 100%|███████████████████████████████████████████████████| 21/21 [00:02<00:00, 10.02it/s]\n",
            "      loss: 0.24175094866326877\n",
            "        f1: [9.75999302e-01 1.68422286e-02 1.46646264e-03 5.10073961e-04\n",
            " 1.32619230e-03 7.93753556e-03 5.10073961e-04 2.55036980e-03\n",
            " 3.84377163e-03]\n",
            "🟢 Saved new best state! 🟢\n",
            "\n",
            "Epoch  4/30\n",
            "training: 100%|██████████████████████████████████████| 169/169 [00:39<00:00,  4.33it/s, loss 0.1098]\n",
            "      loss: 0.12672232796807262\n",
            "        f1: [0.98554787 0.05989233 0.00776424 0.00476851 0.01097426 0.01716571\n",
            " 0.00321131 0.00678599 0.00885526]\n",
            "evaluation: 100%|███████████████████████████████████████████████████| 21/21 [00:02<00:00,  8.41it/s]\n",
            "      loss: 0.23503527541955313\n",
            "        f1: [9.76772883e-01 2.85779213e-02 4.53835037e-03 1.27518490e-03\n",
            " 2.18906741e-03 8.91729301e-03 7.65110941e-04 7.14103545e-03\n",
            " 4.53733973e-03]\n",
            "🟢 Saved new best state! 🟢\n",
            "\n",
            "Epoch  5/30\n",
            "training: 100%|██████████████████████████████████████| 169/169 [00:38<00:00,  4.36it/s, loss 0.1236]\n",
            "      loss: 0.096456410837244\n",
            "        f1: [0.98828402 0.09916854 0.01453255 0.0097278  0.01455729 0.0273608\n",
            " 0.00487047 0.01072844 0.01061585]\n",
            "evaluation: 100%|███████████████████████████████████████████████████| 21/21 [00:02<00:00,  8.05it/s]\n",
            "      loss: 0.22998820121089616\n",
            "        f1: [9.78046853e-01 6.03510788e-02 6.94844983e-03 6.27390972e-03\n",
            " 6.40731368e-03 7.95715379e-03 5.10073961e-04 3.57051773e-03\n",
            " 1.78294034e-03]\n",
            "🟢 Saved new best state! 🟢\n",
            "\n",
            "Epoch  6/30\n",
            "training: 100%|██████████████████████████████████████| 169/169 [00:38<00:00,  4.35it/s, loss 0.0563]\n",
            "      loss: 0.07292899606231401\n",
            "        f1: [0.99116433 0.13563147 0.02329357 0.01408378 0.01661009 0.03746568\n",
            " 0.00818944 0.0146873  0.01419919]\n",
            "evaluation: 100%|███████████████████████████████████████████████████| 21/21 [00:02<00:00,  8.65it/s]\n",
            "      loss: 0.2440157209833463\n",
            "        f1: [9.78261334e-01 5.35165421e-02 6.01252017e-03 8.44172405e-03\n",
            " 5.43675911e-03 1.19777368e-02 7.65110941e-04 2.55036980e-03\n",
            " 8.92629431e-04]\n",
            "\n",
            "Epoch  7/30\n",
            "training: 100%|██████████████████████████████████████| 169/169 [00:38<00:00,  4.34it/s, loss 0.0599]\n",
            "      loss: 0.05137009386347949\n",
            "        f1: [0.99348753 0.16405841 0.03275173 0.0196044  0.01905917 0.05046329\n",
            " 0.01136076 0.01810021 0.01571509]\n",
            "evaluation: 100%|███████████████████████████████████████████████████| 21/21 [00:02<00:00,  9.36it/s]\n",
            "      loss: 0.2380255994697412\n",
            "        f1: [9.79351726e-01 7.81256775e-02 1.24721651e-02 9.71690895e-03\n",
            " 3.06632923e-03 1.36954858e-02 7.65110941e-04 2.55036980e-03\n",
            " 8.92629431e-04]\n",
            "🟢 Saved new best state! 🟢\n",
            "\n",
            "Epoch  8/30\n",
            "training: 100%|██████████████████████████████████████| 169/169 [00:39<00:00,  4.24it/s, loss 0.0290]\n",
            "      loss: 0.035879196797514105\n",
            "        f1: [0.99544817 0.18448209 0.03855115 0.02395302 0.02061333 0.05923904\n",
            " 0.01410254 0.02279439 0.01822575]\n",
            "evaluation: 100%|███████████████████████████████████████████████████| 21/21 [00:02<00:00, 10.05it/s]\n",
            "      loss: 0.26075748070364907\n",
            "        f1: [0.97941115 0.08199265 0.01324825 0.00999745 0.00485603 0.01080457\n",
            " 0.         0.00469268 0.00226983]\n",
            "🟢 Saved new best state! 🟢\n",
            "\n",
            "Epoch  9/30\n",
            "training: 100%|██████████████████████████████████████| 169/169 [00:38<00:00,  4.37it/s, loss 0.0227]\n",
            "      loss: 0.024805285769498208\n",
            "        f1: [0.99675009 0.20010752 0.04312971 0.02723091 0.02169414 0.0676811\n",
            " 0.01587497 0.02637403 0.0186589 ]\n",
            "evaluation: 100%|███████████████████████████████████████████████████| 21/21 [00:02<00:00,  9.98it/s]\n",
            "      loss: 0.282990703980128\n",
            "        f1: [0.98018426 0.08853702 0.01273789 0.00869676 0.00272465 0.01522571\n",
            " 0.00127518 0.00290742 0.00127518]\n",
            "🟢 Saved new best state! 🟢\n",
            "\n",
            "Epoch 10/30\n",
            "training: 100%|██████████████████████████████████████| 169/169 [00:38<00:00,  4.36it/s, loss 0.0360]\n",
            "      loss: 0.017865850019803238\n",
            "        f1: [0.99773609 0.21062913 0.04445233 0.02904368 0.02238921 0.07317437\n",
            " 0.01759601 0.02850377 0.01922255]\n",
            "evaluation: 100%|███████████████████████████████████████████████████| 21/21 [00:02<00:00,  9.03it/s]\n",
            "      loss: 0.2864698111301377\n",
            "        f1: [0.98022589 0.08867142 0.01477555 0.01226728 0.00555677 0.01436127\n",
            " 0.0020403  0.00318796 0.00265238]\n",
            "🟢 Saved new best state! 🟢\n",
            "\n",
            "Epoch 11/30\n",
            "training: 100%|██████████████████████████████████████| 169/169 [00:38<00:00,  4.37it/s, loss 0.0097]\n",
            "      loss: 0.01307339095593204\n",
            "        f1: [0.99833574 0.21481347 0.04522793 0.03128313 0.02289178 0.07633864\n",
            " 0.0182875  0.03093536 0.019583  ]\n",
            "evaluation: 100%|███████████████████████████████████████████████████| 21/21 [00:02<00:00,  9.95it/s]\n",
            "      loss: 0.3043211904310045\n",
            "        f1: [0.98060966 0.09071799 0.01531735 0.01165519 0.00648504 0.01590531\n",
            " 0.00255037 0.00354501 0.00165774]\n",
            "🟢 Saved new best state! 🟢\n",
            "\n",
            "Epoch 12/30\n",
            "training: 100%|██████████████████████████████████████| 169/169 [00:38<00:00,  4.42it/s, loss 0.0066]\n",
            "      loss: 0.009385838100311936\n",
            "        f1: [0.99890806 0.21931667 0.0458992  0.03351872 0.02324374 0.07835828\n",
            " 0.0195682  0.03235022 0.01971105]\n",
            "evaluation: 100%|███████████████████████████████████████████████████| 21/21 [00:02<00:00,  8.96it/s]\n",
            "      loss: 0.3279981355936754\n",
            "        f1: [0.97987481 0.08657368 0.014037   0.01229278 0.00663218 0.01800561\n",
            " 0.00255037 0.0047947  0.00303494]\n",
            "\n",
            "Epoch 13/30\n",
            "training: 100%|██████████████████████████████████████| 169/169 [00:39<00:00,  4.32it/s, loss 0.0046]\n",
            "      loss: 0.008347866173624199\n",
            "        f1: [0.99895644 0.21958214 0.04668742 0.03379359 0.02383104 0.08014564\n",
            " 0.0201378  0.03396401 0.0199631 ]\n",
            "evaluation: 100%|███████████████████████████████████████████████████| 21/21 [00:02<00:00, 10.00it/s]\n",
            "      loss: 0.352281179279089\n",
            "        f1: [9.80025537e-01 8.89823940e-02 1.56151749e-02 7.77862790e-03\n",
            " 4.57366318e-03 1.96033425e-02 1.02014792e-03 1.78525886e-03\n",
            " 5.10073961e-04]\n",
            "\n",
            "Epoch 14/30\n",
            "training: 100%|██████████████████████████████████████| 169/169 [00:38<00:00,  4.35it/s, loss 0.0047]\n",
            "      loss: 0.006778140513077599\n",
            "        f1: [0.99917523 0.22037863 0.04683389 0.03434902 0.02375991 0.08082002\n",
            " 0.01930805 0.03450715 0.02006083]\n",
            "evaluation: 100%|███████████████████████████████████████████████████| 21/21 [00:02<00:00, 10.03it/s]\n",
            "      loss: 0.36519120775517966\n",
            "        f1: [0.97983894 0.08724796 0.01087277 0.01346595 0.00950096 0.01830265\n",
            " 0.00178526 0.00380005 0.00367253]\n",
            "🟢 Saved new best state! 🟢\n",
            "\n",
            "Epoch 15/30\n",
            "training: 100%|██████████████████████████████████████| 169/169 [00:39<00:00,  4.31it/s, loss 0.0024]\n",
            "      loss: 0.00491075612709323\n",
            "        f1: [0.9993632  0.22171346 0.04714076 0.03496559 0.0240031  0.08260672\n",
            " 0.02030766 0.03501603 0.02015248]\n",
            "evaluation: 100%|███████████████████████████████████████████████████| 21/21 [00:02<00:00,  9.79it/s]\n",
            "      loss: 0.3678712568112782\n",
            "        f1: [0.98040485 0.08903876 0.01325426 0.0082887  0.00492343 0.01552275\n",
            " 0.00229533 0.00507524 0.00303494]\n",
            "\n",
            "Epoch 16/30\n",
            "training: 100%|██████████████████████████████████████| 169/169 [00:38<00:00,  4.35it/s, loss 0.0073]\n",
            "      loss: 0.0037693400834907485\n",
            "        f1: [0.99956545 0.22248342 0.04754502 0.03533958 0.02402131 0.08348378\n",
            " 0.02067129 0.03618097 0.0201859 ]\n",
            "evaluation: 100%|███████████████████████████████████████████████████| 21/21 [00:02<00:00,  9.17it/s]\n",
            "      loss: 0.36583456751846133\n",
            "        f1: [0.98057078 0.09399991 0.01272577 0.01009946 0.00532788 0.01832816\n",
            " 0.00178526 0.00318796 0.00303494]\n",
            "🟢 Saved new best state! 🟢\n",
            "\n",
            "Epoch 17/30\n",
            "training: 100%|██████████████████████████████████████| 169/169 [00:39<00:00,  4.31it/s, loss 0.0025]\n",
            "      loss: 0.003740932088594652\n",
            "        f1: [0.99954306 0.22242078 0.04760232 0.03464437 0.02383054 0.08323706\n",
            " 0.02061504 0.03531717 0.01973513]\n",
            "evaluation: 100%|███████████████████████████████████████████████████| 21/21 [00:02<00:00,  9.42it/s]\n",
            "      loss: 0.35124125101027037\n",
            "        f1: [0.98061042 0.09707889 0.0179836  0.00961489 0.00571283 0.01743553\n",
            " 0.00127518 0.00431012 0.00326447]\n",
            "🟢 Saved new best state! 🟢\n",
            "\n",
            "Epoch 18/30\n",
            "training: 100%|██████████████████████████████████████| 169/169 [00:38<00:00,  4.35it/s, loss 0.0046]\n",
            "      loss: 0.0033180249786726335\n",
            "        f1: [0.99957358 0.22344102 0.04752219 0.03540346 0.02394963 0.08316646\n",
            " 0.0205995  0.03559453 0.02019847]\n",
            "evaluation: 100%|███████████████████████████████████████████████████| 21/21 [00:02<00:00,  8.32it/s]\n",
            "      loss: 0.38686655142477583\n",
            "        f1: [0.98054652 0.09214453 0.01323312 0.01290487 0.00631763 0.01769057\n",
            " 0.0020403  0.00510074 0.00265238]\n",
            "\n",
            "Epoch 19/30\n",
            "training: 100%|██████████████████████████████████████| 169/169 [00:39<00:00,  4.31it/s, loss 0.0016]\n",
            "      loss: 0.0029104248663278285\n",
            "        f1: [0.99962123 0.22360208 0.04702293 0.03577998 0.02413605 0.08332005\n",
            " 0.02062386 0.03612615 0.0203617 ]\n",
            "evaluation: 100%|███████████████████████████████████████████████████| 21/21 [00:02<00:00,  9.80it/s]\n",
            "      loss: 0.3809480844509034\n",
            "        f1: [0.98048523 0.091371   0.01830876 0.00877327 0.00679616 0.01641538\n",
            " 0.00178526 0.00527927 0.00265238]\n",
            "\n",
            "Epoch 20/30\n",
            "training: 100%|██████████████████████████████████████| 169/169 [00:39<00:00,  4.29it/s, loss 0.0042]\n",
            "      loss: 0.0028222824847077698\n",
            "        f1: [0.99961137 0.22416735 0.04733317 0.03538977 0.02402682 0.08292986\n",
            " 0.02069058 0.0363967  0.02046683]\n",
            "evaluation: 100%|███████████████████████████████████████████████████| 21/21 [00:02<00:00,  7.88it/s]\n",
            "      loss: 0.40707205200479146\n",
            "        f1: [0.97984776 0.09003768 0.01363893 0.01252232 0.00707446 0.01970586\n",
            " 0.00306044 0.00127518 0.00153022]\n",
            "\n",
            "Epoch 21/30\n",
            "training: 100%|██████████████████████████████████████| 169/169 [00:38<00:00,  4.38it/s, loss 0.0045]\n",
            "      loss: 0.00276993016678614\n",
            "        f1: [0.99964257 0.22323874 0.04732274 0.03575699 0.02416052 0.08379388\n",
            " 0.0208169  0.03598578 0.02038131]\n",
            "evaluation: 100%|███████████████████████████████████████████████████| 21/21 [00:02<00:00,  9.80it/s]\n",
            "      loss: 0.41273062285922824\n",
            "        f1: [0.98014399 0.08956555 0.01831432 0.00637592 0.00453502 0.01517336\n",
            " 0.00178526 0.00586585 0.00335799]\n",
            "\n",
            "Epoch 22/30\n",
            "training: 100%|██████████████████████████████████████| 169/169 [00:39<00:00,  4.31it/s, loss 0.0015]\n",
            "      loss: 0.0028038334109015853\n",
            "        f1: [0.99962808 0.22414427 0.04715677 0.03576256 0.02410014 0.08417442\n",
            " 0.02082277 0.0355122  0.02023557]\n",
            "evaluation: 100%|███████████████████████████████████████████████████| 21/21 [00:02<00:00,  9.81it/s]\n",
            "      loss: 0.42282539641573313\n",
            "        f1: [9.80007431e-01 8.29006857e-02 1.11200653e-02 1.11451160e-02\n",
            " 8.56686033e-03 1.91187722e-02 1.78525886e-03 2.80540678e-03\n",
            " 6.12088753e-04]\n",
            "\n",
            "Epoch 23/30\n",
            "training: 100%|██████████████████████████████████████| 169/169 [00:38<00:00,  4.36it/s, loss 0.0016]\n",
            "      loss: 0.0029741544464187003\n",
            "        f1: [0.99965109 0.22345899 0.04738042 0.03577754 0.02417774 0.08324774\n",
            " 0.02078206 0.03512506 0.0203344 ]\n",
            "evaluation: 100%|███████████████████████████████████████████████████| 21/21 [00:02<00:00,  9.90it/s]\n",
            "      loss: 0.41197252876701806\n",
            "        f1: [0.98065018 0.09594488 0.01208042 0.01198674 0.00547601 0.01809862\n",
            " 0.00178526 0.00229533 0.00188727]\n",
            "\n",
            "Epoch 24/30\n",
            "training: 100%|██████████████████████████████████████| 169/169 [00:38<00:00,  4.43it/s, loss 0.0005]\n",
            "      loss: 0.002618144089790039\n",
            "        f1: [0.99972126 0.22396906 0.04731879 0.03619329 0.02421466 0.08369817\n",
            " 0.02049607 0.03604959 0.02027566]\n",
            "evaluation: 100%|███████████████████████████████████████████████████| 21/21 [00:02<00:00,  9.81it/s]\n",
            "      loss: 0.39160595692339395\n",
            "        f1: [0.98092627 0.0923479  0.01624293 0.01497067 0.00840893 0.01807312\n",
            " 0.00229533 0.0054833  0.00512392]\n",
            "🟢 Saved new best state! 🟢\n",
            "\n",
            "Epoch 25/30\n",
            "training: 100%|██████████████████████████████████████| 169/169 [00:39<00:00,  4.32it/s, loss 0.0037]\n",
            "      loss: 0.002079495374690576\n",
            "        f1: [0.99975724 0.22415316 0.04764458 0.03613763 0.02427557 0.08410292\n",
            " 0.02084772 0.03634959 0.02040932]\n",
            "evaluation: 100%|███████████████████████████████████████████████████| 21/21 [00:02<00:00,  9.90it/s]\n",
            "      loss: 0.42466797750620616\n",
            "        f1: [0.98076263 0.09111286 0.0148723  0.00726855 0.00385596 0.01858319\n",
            " 0.00178526 0.00420811 0.00423361]\n",
            "\n",
            "Epoch 26/30\n",
            "training: 100%|██████████████████████████████████████| 169/169 [00:38<00:00,  4.37it/s, loss 0.0003]\n",
            "      loss: 0.0014451553105836812\n",
            "        f1: [0.9998019  0.22473731 0.0478427  0.03628575 0.0242819  0.08450105\n",
            " 0.02078843 0.03627342 0.02029253]\n",
            "evaluation: 100%|███████████████████████████████████████████████████| 21/21 [00:02<00:00,  8.11it/s]\n",
            "      loss: 0.424810470924491\n",
            "        f1: [0.98133953 0.0935199  0.01753524 0.01022698 0.00682897 0.01960334\n",
            " 0.00267789 0.00306044 0.00316246]\n",
            "\n",
            "Epoch 27/30\n",
            "training: 100%|██████████████████████████████████████| 169/169 [00:39<00:00,  4.31it/s, loss 0.0016]\n",
            "      loss: 0.0020002259939758123\n",
            "        f1: [0.99971276 0.22425691 0.04757062 0.03631657 0.02419625 0.08422472\n",
            " 0.02084067 0.03593442 0.0204368 ]\n",
            "evaluation: 100%|███████████████████████████████████████████████████| 21/21 [00:02<00:00,  9.87it/s]\n",
            "      loss: 0.4043210390068236\n",
            "        f1: [0.98115446 0.09863561 0.01754241 0.01344045 0.007319   0.01934831\n",
            " 0.00331548 0.00714104 0.00382555]\n",
            "🟢 Saved new best state! 🟢\n",
            "\n",
            "Epoch 28/30\n",
            "training: 100%|██████████████████████████████████████| 169/169 [00:39<00:00,  4.33it/s, loss 0.0006]\n",
            "      loss: 0.0019371663594787895\n",
            "        f1: [0.99968317 0.22409049 0.04771399 0.0359714  0.02416478 0.08397212\n",
            " 0.02074767 0.03621179 0.02033622]\n",
            "evaluation: 100%|███████████████████████████████████████████████████| 21/21 [00:02<00:00,  9.92it/s]\n",
            "      loss: 0.4054948261805943\n",
            "        f1: [0.98011218 0.1002337  0.01553935 0.00724305 0.00547279 0.0213721\n",
            " 0.00408059 0.00660546 0.00425062]\n",
            "\n",
            "Epoch 29/30\n",
            "training: 100%|██████████████████████████████████████| 169/169 [00:38<00:00,  4.37it/s, loss 0.0007]\n",
            "      loss: 0.001706789218889172\n",
            "        f1: [0.99976893 0.22447503 0.04752219 0.03613166 0.02426564 0.08369852\n",
            " 0.02084813 0.03627342 0.02039982]\n",
            "evaluation: 100%|███████████████████████████████████████████████████| 21/21 [00:02<00:00,  9.82it/s]\n",
            "      loss: 0.4481108983357747\n",
            "        f1: [0.98008278 0.0812244  0.01327832 0.00953838 0.00583979 0.01937381\n",
            " 0.00178526 0.00507524 0.00326447]\n",
            "\n",
            "Epoch 30/30\n",
            "training: 100%|██████████████████████████████████████| 169/169 [00:38<00:00,  4.36it/s, loss 0.0016]\n",
            "      loss: 0.0014321059784190675\n",
            "        f1: [0.99983317 0.22457687 0.04779956 0.03642751 0.02440828 0.08377224\n",
            " 0.02077122 0.03640902 0.02039571]\n",
            "evaluation: 100%|███████████████████████████████████████████████████| 21/21 [00:02<00:00,  8.36it/s]\n",
            "      loss: 0.41865970513650347\n",
            "        f1: [0.98038665 0.1024213  0.01963474 0.00984443 0.00515035 0.02013892\n",
            " 0.00178526 0.00471818 0.00326447]\n"
          ]
        }
      ],
      "source": [
        "n_epochs = 30  # кількість епох навчання\n",
        "\n",
        "train_losses = []  # список для зберігання втрат на тренувальному наборі\n",
        "train_scores = []  # список для зберігання значень метрики F1 на тренувальному наборі\n",
        "\n",
        "valid_losses = []  # список для зберігання втрат на валідаційному наборі\n",
        "valid_scores = []  # список для зберігання значень метрики F1 на валідаційному наборі\n",
        "\n",
        "best_score = float(\"-inf\")  # початкове значення для порівняння кращих результатів\n",
        "\n",
        "# цикл по епохам навчання\n",
        "for ep in range(n_epochs):\n",
        "    print(f\"\\nEpoch {ep + 1:2d}/{n_epochs:2d}\")\n",
        "\n",
        "    # навчання моделі на тренувальному наборі\n",
        "    train_logs = train_one_epoch(model, train_loader, criterion, optimizer, device, verbose=True)\n",
        "    train_losses.append(np.mean(train_logs[\"losses\"]))\n",
        "    train_scores.append(np.mean(train_logs[\"f1\"], 0))\n",
        "    print(\"      loss:\", train_losses[-1])\n",
        "    print(\"        f1:\", train_scores[-1])\n",
        "\n",
        "    # оцінка моделі на валідаційному наборі\n",
        "    valid_logs = evaluate(model, validation_loader, criterion, device, verbose=True)\n",
        "    valid_losses.append(np.mean(valid_logs[\"losses\"]))\n",
        "    valid_scores.append(np.mean(valid_logs[\"f1\"], 0))\n",
        "    print(\"      loss:\", valid_losses[-1])\n",
        "    print(\"        f1:\", valid_scores[-1])\n",
        "\n",
        "    # зберігання найкращого стану моделі\n",
        "    if valid_scores[-1].mean() >= best_score:\n",
        "        checkpoint = {\n",
        "            \"model_state_dict\": model.state_dict(),\n",
        "            \"optimizer_state_dict\": optimizer.state_dict(),\n",
        "            \"epoch\": ep,\n",
        "            \"num_epochs\": n_epochs,\n",
        "            \"metrics\": {\n",
        "                \"training\": {\"loss\": train_losses[-1], \"accuracy\": train_scores[-1]},\n",
        "                \"validation\": {\"loss\": valid_losses[-1], \"accuracy\": valid_scores[-1]},\n",
        "            },\n",
        "        }\n",
        "        torch.save(checkpoint, \"best.pth\")\n",
        "        print(\"🟢 Saved new best state! 🟢\")\n",
        "        best_score = valid_scores[-1].mean()  # оновлення кращого результату до нового значення"
      ]
    },
    {
      "cell_type": "code",
      "execution_count": 29,
      "id": "37aac7a1-7546-4c8c-86ad-86708d2a02b8",
      "metadata": {
        "colab": {
          "base_uri": "https://localhost:8080/",
          "height": 390
        },
        "id": "37aac7a1-7546-4c8c-86ad-86708d2a02b8",
        "outputId": "6c8b6c6b-57f2-4e8a-d500-9ece513744b3"
      },
      "outputs": [
        {
          "output_type": "display_data",
          "data": {
            "text/plain": [
              "<Figure size 2200x600 with 2 Axes>"
            ],
            "image/png": "[encoded data removed]"
          },
          "metadata": {}
        }
      ],
      "source": [
        "# NOTE: plot training and validation performance\n",
        "fig, axes = plt.subplots(ncols=2, figsize=(22, 6))\n",
        "\n",
        "axes[0].plot(np.arange(len(train_losses)), train_losses, \".-\")\n",
        "axes[0].plot(np.arange(len(valid_losses)), valid_losses, \".-\")\n",
        "axes[0].legend([\"train\", \"validation\"])\n",
        "axes[0].set_title(\"Loss\")\n",
        "axes[0].grid()\n",
        "\n",
        "axes[1].plot(np.arange(len(train_scores)), [item.mean() for item in train_scores], \".-\")\n",
        "axes[1].plot(np.arange(len(valid_scores)), [item.mean() for item in valid_scores], \".-\")\n",
        "axes[1].legend([\"train\", \"validation\"])\n",
        "axes[1].set_title(\"F1\")\n",
        "axes[1].grid();"
      ]
    },
    {
      "cell_type": "code",
      "execution_count": 34,
      "id": "T_mfdkqoMKIh",
      "metadata": {
        "id": "T_mfdkqoMKIh",
        "colab": {
          "base_uri": "https://localhost:8080/"
        },
        "outputId": "5922d933-6160-44f4-fe0c-782687685bd7"
      },
      "outputs": [
        {
          "output_type": "stream",
          "name": "stdout",
          "text": [
            "training:   1%|▏                                       | 1/169 [00:00<00:51,  3.27it/s, loss 0.0003]"
          ]
        },
        {
          "output_type": "stream",
          "name": "stderr",
          "text": [
            "<ipython-input-13-1a8d18e29ee3>:21: RuntimeWarning: invalid value encountered in scalar divide\n",
            "  precision = np.nan_to_num(true_positives / (true_positives + false_positives), nan=0.0)\n",
            "<ipython-input-13-1a8d18e29ee3>:22: RuntimeWarning: invalid value encountered in scalar divide\n",
            "  recall = np.nan_to_num(true_positives / (true_positives + false_negatives), nan=0.0)\n",
            "<ipython-input-13-1a8d18e29ee3>:23: RuntimeWarning: invalid value encountered in scalar divide\n",
            "  f1_score = np.nan_to_num(2 * (precision * recall) / (precision + recall), nan=0.0)\n"
          ]
        },
        {
          "output_type": "stream",
          "name": "stdout",
          "text": [
            "training: 100%|██████████████████████████████████████| 169/169 [00:40<00:00,  4.15it/s, loss 0.0084]\n",
            "Evaluating: 100%|███████████████████████████████████████████████████| 21/21 [00:02<00:00,  8.24it/s]\n",
            "Average Loss: 0.4107, Average F1: 0.1274\n",
            "training: 100%|██████████████████████████████████████| 169/169 [00:38<00:00,  4.38it/s, loss 0.0012]\n",
            "Evaluating: 100%|███████████████████████████████████████████████████| 21/21 [00:02<00:00, 10.08it/s]\n",
            "Average Loss: 0.4123, Average F1: 0.1277\n",
            "training: 100%|██████████████████████████████████████| 169/169 [00:38<00:00,  4.35it/s, loss 0.0008]\n",
            "Evaluating: 100%|███████████████████████████████████████████████████| 21/21 [00:02<00:00,  9.91it/s]\n",
            "Average Loss: 0.4091, Average F1: 0.1278\n",
            "training: 100%|██████████████████████████████████████| 169/169 [00:39<00:00,  4.31it/s, loss 0.0005]\n",
            "Evaluating: 100%|███████████████████████████████████████████████████| 21/21 [00:02<00:00,  9.65it/s]\n",
            "Average Loss: 0.4517, Average F1: 0.1259\n",
            "training: 100%|██████████████████████████████████████| 169/169 [00:38<00:00,  4.36it/s, loss 0.0029]\n",
            "Evaluating: 100%|███████████████████████████████████████████████████| 21/21 [00:02<00:00,  9.85it/s]\n",
            "Average Loss: 0.4094, Average F1: 0.1295\n",
            "training: 100%|██████████████████████████████████████| 169/169 [00:38<00:00,  4.38it/s, loss 0.0023]\n",
            "Evaluating: 100%|███████████████████████████████████████████████████| 21/21 [00:02<00:00,  8.13it/s]\n",
            "Average Loss: 0.4212, Average F1: 0.1279\n",
            "training: 100%|██████████████████████████████████████| 169/169 [00:38<00:00,  4.36it/s, loss 0.0008]\n",
            "Evaluating: 100%|███████████████████████████████████████████████████| 21/21 [00:02<00:00,  9.99it/s]\n",
            "Average Loss: 0.4459, Average F1: 0.1275\n",
            "training: 100%|██████████████████████████████████████| 169/169 [00:38<00:00,  4.35it/s, loss 0.0008]\n",
            "Evaluating: 100%|███████████████████████████████████████████████████| 21/21 [00:02<00:00,  9.43it/s]\n",
            "Average Loss: 0.4910, Average F1: 0.1251\n",
            "training: 100%|██████████████████████████████████████| 169/169 [00:39<00:00,  4.30it/s, loss 0.0022]\n",
            "Evaluating: 100%|███████████████████████████████████████████████████| 21/21 [00:02<00:00,  9.99it/s]\n",
            "Average Loss: 0.4545, Average F1: 0.1272\n",
            "training: 100%|██████████████████████████████████████| 169/169 [00:38<00:00,  4.33it/s, loss 0.0002]\n",
            "Evaluating: 100%|███████████████████████████████████████████████████| 21/21 [00:02<00:00,  9.96it/s]\n",
            "Average Loss: 0.4557, Average F1: 0.1276\n",
            "training: 100%|██████████████████████████████████████| 169/169 [00:38<00:00,  4.33it/s, loss 0.0003]\n",
            "Evaluating: 100%|███████████████████████████████████████████████████| 21/21 [00:02<00:00,  9.84it/s]\n",
            "Average Loss: 0.4423, Average F1: 0.1281\n",
            "training: 100%|██████████████████████████████████████| 169/169 [00:39<00:00,  4.33it/s, loss 0.0002]\n",
            "Evaluating: 100%|███████████████████████████████████████████████████| 21/21 [00:02<00:00,  9.96it/s]\n",
            "Average Loss: 0.4562, Average F1: 0.1271\n",
            "training: 100%|██████████████████████████████████████| 169/169 [00:39<00:00,  4.31it/s, loss 0.0002]\n",
            "Evaluating: 100%|███████████████████████████████████████████████████| 21/21 [00:02<00:00,  8.32it/s]\n",
            "Average Loss: 0.4873, Average F1: 0.1256\n",
            "training: 100%|██████████████████████████████████████| 169/169 [00:37<00:00,  4.48it/s, loss 0.0004]\n",
            "Evaluating: 100%|███████████████████████████████████████████████████| 21/21 [00:02<00:00,  9.99it/s]\n",
            "Average Loss: 0.4907, Average F1: 0.1258\n",
            "training: 100%|██████████████████████████████████████| 169/169 [00:39<00:00,  4.33it/s, loss 0.0018]\n",
            "Evaluating: 100%|███████████████████████████████████████████████████| 21/21 [00:02<00:00,  9.96it/s]\n",
            "Average Loss: 0.4862, Average F1: 0.1256\n",
            "training: 100%|██████████████████████████████████████| 169/169 [00:38<00:00,  4.34it/s, loss 0.0005]\n",
            "Evaluating: 100%|███████████████████████████████████████████████████| 21/21 [00:02<00:00,  9.89it/s]\n",
            "Average Loss: 0.4758, Average F1: 0.1271\n",
            "training: 100%|██████████████████████████████████████| 169/169 [00:39<00:00,  4.33it/s, loss 0.0013]\n",
            "Evaluating: 100%|███████████████████████████████████████████████████| 21/21 [00:02<00:00,  9.94it/s]\n",
            "Average Loss: 0.4753, Average F1: 0.1283\n",
            "training: 100%|██████████████████████████████████████| 169/169 [00:39<00:00,  4.30it/s, loss 0.0000]\n",
            "Evaluating: 100%|███████████████████████████████████████████████████| 21/21 [00:02<00:00,  9.06it/s]\n",
            "Average Loss: 0.4693, Average F1: 0.1293\n",
            "training: 100%|██████████████████████████████████████| 169/169 [00:39<00:00,  4.28it/s, loss 0.0004]\n",
            "Evaluating: 100%|███████████████████████████████████████████████████| 21/21 [00:02<00:00,  9.79it/s]\n",
            "Average Loss: 0.4642, Average F1: 0.1268\n",
            "training: 100%|██████████████████████████████████████| 169/169 [00:39<00:00,  4.30it/s, loss 0.0005]\n",
            "Evaluating: 100%|███████████████████████████████████████████████████| 21/21 [00:02<00:00,  8.42it/s]\n",
            "Average Loss: 0.4751, Average F1: 0.1273\n",
            "training: 100%|██████████████████████████████████████| 169/169 [00:39<00:00,  4.33it/s, loss 0.0003]\n",
            "Evaluating: 100%|███████████████████████████████████████████████████| 21/21 [00:02<00:00,  9.96it/s]\n",
            "Average Loss: 0.4884, Average F1: 0.1279\n",
            "training: 100%|██████████████████████████████████████| 169/169 [00:38<00:00,  4.35it/s, loss 0.0001]\n",
            "Evaluating: 100%|███████████████████████████████████████████████████| 21/21 [00:02<00:00,  8.65it/s]\n",
            "Average Loss: 0.5001, Average F1: 0.1272\n",
            "training: 100%|██████████████████████████████████████| 169/169 [00:39<00:00,  4.28it/s, loss 0.0002]\n",
            "Evaluating: 100%|███████████████████████████████████████████████████| 21/21 [00:02<00:00,  9.91it/s]\n",
            "Average Loss: 0.4800, Average F1: 0.1292\n",
            "training: 100%|██████████████████████████████████████| 169/169 [00:39<00:00,  4.32it/s, loss 0.0000]\n",
            "Evaluating: 100%|███████████████████████████████████████████████████| 21/21 [00:02<00:00,  9.92it/s]\n",
            "Average Loss: 0.5077, Average F1: 0.1282\n",
            "training: 100%|██████████████████████████████████████| 169/169 [00:39<00:00,  4.33it/s, loss 0.0003]\n",
            "Evaluating: 100%|███████████████████████████████████████████████████| 21/21 [00:02<00:00,  9.95it/s]\n",
            "Average Loss: 0.5234, Average F1: 0.1274\n",
            "training: 100%|██████████████████████████████████████| 169/169 [00:39<00:00,  4.31it/s, loss 0.0001]\n",
            "Evaluating: 100%|███████████████████████████████████████████████████| 21/21 [00:02<00:00, 10.07it/s]\n",
            "Average Loss: 0.5205, Average F1: 0.1270\n",
            "training: 100%|██████████████████████████████████████| 169/169 [00:39<00:00,  4.32it/s, loss 0.0005]\n",
            "Evaluating: 100%|███████████████████████████████████████████████████| 21/21 [00:02<00:00,  9.35it/s]\n",
            "Average Loss: 0.4555, Average F1: 0.1290\n",
            "training: 100%|██████████████████████████████████████| 169/169 [00:38<00:00,  4.39it/s, loss 0.0004]\n",
            "Evaluating: 100%|███████████████████████████████████████████████████| 21/21 [00:02<00:00, 10.03it/s]\n",
            "Average Loss: 0.5132, Average F1: 0.1280\n",
            "training: 100%|██████████████████████████████████████| 169/169 [00:38<00:00,  4.38it/s, loss 0.0002]\n",
            "Evaluating: 100%|███████████████████████████████████████████████████| 21/21 [00:02<00:00,  8.84it/s]\n",
            "Average Loss: 0.4917, Average F1: 0.1298\n",
            "training: 100%|██████████████████████████████████████| 169/169 [00:38<00:00,  4.43it/s, loss 0.0000]\n",
            "Evaluating: 100%|███████████████████████████████████████████████████| 21/21 [00:02<00:00, 10.01it/s]\n",
            "Average Loss: 0.4947, Average F1: 0.1293\n"
          ]
        }
      ],
      "source": [
        "#######################################################################\n",
        "# TODO: load model best state\n",
        "#######################################################################\n",
        "best_f1_score = -float('inf')  # Initialize with a very low score\n",
        "best_model_state = None  # Placeholder for best model state\n",
        "\n",
        "for epoch in range(n_epochs):\n",
        "    # Training step\n",
        "    train_logs = train_one_epoch(model, train_loader, criterion, optimizer, device)\n",
        "\n",
        "    # Evaluation step\n",
        "    eval_logs = evaluate(model, validation_loader, criterion, device)\n",
        "\n",
        "    # Calculate the average F1 score for validation\n",
        "    avg_f1 = eval_logs['f1'].mean()  # Assuming f1 scores are returned in logs\n",
        "\n",
        "    # Save the best model based on validation F1 score\n",
        "    if avg_f1 > best_f1_score:\n",
        "        best_f1_score = avg_f1\n",
        "        best_model_state = model.state_dict()  # Save the model state\n",
        "\n",
        "# After training ends, save the best model state\n",
        "torch.save(best_model_state, 'best_model.pth')\n"
      ]
    },
    {
      "cell_type": "code",
      "source": [
        "class NERModel(nn.Module):\n",
        "    def __init__(self, vocab_size: int, num_classes: int, hidden_dim: int = 128, arch: str = \"LSTM\"):\n",
        "        super().__init__()\n",
        "        self.embedding = nn.Embedding(vocab_size, 128, padding_idx=TOK_PAD_ID)\n",
        "\n",
        "        if arch == \"LSTM\":\n",
        "            self.rnn = nn.LSTM(128, hidden_dim, batch_first=True, bidirectional=False)\n",
        "        elif arch == \"GRU\":\n",
        "            self.rnn = nn.GRU(128, hidden_dim, batch_first=True, bidirectional=False)\n",
        "        elif arch == \"BiLSTM\":\n",
        "            self.rnn = nn.LSTM(128, hidden_dim, batch_first=True, bidirectional=True)\n",
        "        else:\n",
        "            raise ValueError(\"Unsupported architecture!\")\n",
        "\n",
        "        self.fc = nn.Linear(hidden_dim * (2 if \"Bi\" in arch else 1), num_classes)\n",
        "\n",
        "    def forward(self, x):\n",
        "        x = self.embedding(x)\n",
        "        x, _ = self.rnn(x)\n",
        "        x = self.fc(x)\n",
        "        return x\n"
      ],
      "metadata": {
        "id": "5fvHXsWqw34L"
      },
      "id": "5fvHXsWqw34L",
      "execution_count": 17,
      "outputs": []
    },
    {
      "cell_type": "code",
      "source": [
        "def evaluate_model(model, loader, device):\n",
        "    model.eval()\n",
        "    all_preds, all_labels = [], []\n",
        "\n",
        "    with torch.no_grad():\n",
        "        for x_batch, y_true in loader:\n",
        "            x_batch, y_true = x_batch.to(device), y_true.to(device)\n",
        "            logits = model(x_batch)\n",
        "            y_pred = torch.argmax(logits, dim=-1)\n",
        "\n",
        "            mask = y_true != NER_PAD_ID\n",
        "            y_true, y_pred = y_true[mask].cpu().numpy(), y_pred[mask].cpu().numpy()\n",
        "            all_preds.extend(y_pred)\n",
        "            all_labels.extend(y_true)\n",
        "\n",
        "    return f1_score(all_labels, all_preds, average=\"macro\")"
      ],
      "metadata": {
        "id": "QL2NHt1UrAeA"
      },
      "id": "QL2NHt1UrAeA",
      "execution_count": 18,
      "outputs": []
    },
    {
      "cell_type": "code",
      "source": [
        "def train_model(arch, lr):\n",
        "    device = torch.device(\"cuda\" if torch.cuda.is_available() else \"cpu\")\n",
        "    model = NERModel(len(vocab), len(targets), arch=arch).to(device)\n",
        "\n",
        "    criterion = nn.CrossEntropyLoss(ignore_index=NER_PAD_ID)\n",
        "    optimizer = optim.Adam(model.parameters(), lr=lr)\n",
        "    scheduler = optim.lr_scheduler.StepLR(optimizer, step_size=5, gamma=0.7)\n",
        "\n",
        "    num_epochs = 10\n",
        "    for epoch in range(num_epochs):\n",
        "        model.train()\n",
        "        losses = []\n",
        "\n",
        "        for x_batch, y_true in tqdm(train_loader, desc=f\"Epoch {epoch + 1}/{num_epochs}\", leave=False):\n",
        "            x_batch, y_true = x_batch.to(device), y_true.to(device)\n",
        "            optimizer.zero_grad()\n",
        "\n",
        "            logits = model(x_batch)\n",
        "            loss = criterion(logits.view(-1, len(targets)), y_true.view(-1))\n",
        "            loss.backward()\n",
        "            optimizer.step()\n",
        "\n",
        "            losses.append(loss.item())\n",
        "\n",
        "        scheduler.step()\n",
        "        val_f1 = evaluate_model(model, validation_loader, device)\n",
        "        print(f\"Epoch {epoch + 1}: Loss={np.mean(losses):.4f}, Val F1={val_f1:.4f}\")\n",
        "\n",
        "    return model, evaluate_model(model, test_loader, device)"
      ],
      "metadata": {
        "id": "j_3UfsN2rAg9"
      },
      "id": "j_3UfsN2rAg9",
      "execution_count": 19,
      "outputs": []
    },
    {
      "cell_type": "code",
      "source": [
        "architectures = [\"LSTM\", \"GRU\", \"BiLSTM\"]\n",
        "learning_rates = [0.01, 0.005, 0.001]\n",
        "\n",
        "best_score, best_model, best_arch, best_lr = 0, None, None, None"
      ],
      "metadata": {
        "id": "_yOVl4-crAkv"
      },
      "id": "_yOVl4-crAkv",
      "execution_count": 20,
      "outputs": []
    },
    {
      "cell_type": "code",
      "source": [
        "from sklearn.metrics import f1_score\n",
        "\n",
        "for arch in architectures:\n",
        "    for lr in learning_rates:\n",
        "        print(f\"\\nTraining {arch} with lr={lr}\")\n",
        "        model, test_f1 = train_model(arch, lr)\n",
        "\n",
        "        if test_f1 > best_score:\n",
        "            best_score, best_model, best_arch, best_lr = test_f1, model, arch, lr"
      ],
      "metadata": {
        "colab": {
          "base_uri": "https://localhost:8080/"
        },
        "id": "LHw-gFQArOuy",
        "outputId": "03205f49-9408-479e-eba9-1b9286dda5f2"
      },
      "id": "LHw-gFQArOuy",
      "execution_count": 21,
      "outputs": [
        {
          "output_type": "stream",
          "name": "stdout",
          "text": [
            "\n",
            "Training LSTM with lr=0.01\n"
          ]
        },
        {
          "output_type": "stream",
          "name": "stderr",
          "text": []
        },
        {
          "output_type": "stream",
          "name": "stdout",
          "text": [
            "Epoch 1: Loss=0.2496, Val F1=0.1862\n"
          ]
        },
        {
          "output_type": "stream",
          "name": "stderr",
          "text": []
        },
        {
          "output_type": "stream",
          "name": "stdout",
          "text": [
            "Epoch 2: Loss=0.0977, Val F1=0.3207\n"
          ]
        },
        {
          "output_type": "stream",
          "name": "stderr",
          "text": []
        },
        {
          "output_type": "stream",
          "name": "stdout",
          "text": [
            "Epoch 3: Loss=0.0421, Val F1=0.3717\n"
          ]
        },
        {
          "output_type": "stream",
          "name": "stderr",
          "text": []
        },
        {
          "output_type": "stream",
          "name": "stdout",
          "text": [
            "Epoch 4: Loss=0.0197, Val F1=0.3907\n"
          ]
        },
        {
          "output_type": "stream",
          "name": "stderr",
          "text": []
        },
        {
          "output_type": "stream",
          "name": "stdout",
          "text": [
            "Epoch 5: Loss=0.0091, Val F1=0.3783\n"
          ]
        },
        {
          "output_type": "stream",
          "name": "stderr",
          "text": []
        },
        {
          "output_type": "stream",
          "name": "stdout",
          "text": [
            "Epoch 6: Loss=0.0036, Val F1=0.3975\n"
          ]
        },
        {
          "output_type": "stream",
          "name": "stderr",
          "text": []
        },
        {
          "output_type": "stream",
          "name": "stdout",
          "text": [
            "Epoch 7: Loss=0.0015, Val F1=0.3899\n"
          ]
        },
        {
          "output_type": "stream",
          "name": "stderr",
          "text": []
        },
        {
          "output_type": "stream",
          "name": "stdout",
          "text": [
            "Epoch 8: Loss=0.0008, Val F1=0.3925\n"
          ]
        },
        {
          "output_type": "stream",
          "name": "stderr",
          "text": []
        },
        {
          "output_type": "stream",
          "name": "stdout",
          "text": [
            "Epoch 9: Loss=0.0004, Val F1=0.3936\n"
          ]
        },
        {
          "output_type": "stream",
          "name": "stderr",
          "text": []
        },
        {
          "output_type": "stream",
          "name": "stdout",
          "text": [
            "Epoch 10: Loss=0.0003, Val F1=0.3914\n",
            "\n",
            "Training LSTM with lr=0.005\n"
          ]
        },
        {
          "output_type": "stream",
          "name": "stderr",
          "text": []
        },
        {
          "output_type": "stream",
          "name": "stdout",
          "text": [
            "Epoch 1: Loss=0.3027, Val F1=0.1272\n"
          ]
        },
        {
          "output_type": "stream",
          "name": "stderr",
          "text": []
        },
        {
          "output_type": "stream",
          "name": "stdout",
          "text": [
            "Epoch 2: Loss=0.1411, Val F1=0.2473\n"
          ]
        },
        {
          "output_type": "stream",
          "name": "stderr",
          "text": []
        },
        {
          "output_type": "stream",
          "name": "stdout",
          "text": [
            "Epoch 3: Loss=0.0762, Val F1=0.3594\n"
          ]
        },
        {
          "output_type": "stream",
          "name": "stderr",
          "text": []
        },
        {
          "output_type": "stream",
          "name": "stdout",
          "text": [
            "Epoch 4: Loss=0.0406, Val F1=0.3736\n"
          ]
        },
        {
          "output_type": "stream",
          "name": "stderr",
          "text": []
        },
        {
          "output_type": "stream",
          "name": "stdout",
          "text": [
            "Epoch 5: Loss=0.0226, Val F1=0.3837\n"
          ]
        },
        {
          "output_type": "stream",
          "name": "stderr",
          "text": []
        },
        {
          "output_type": "stream",
          "name": "stdout",
          "text": [
            "Epoch 6: Loss=0.0102, Val F1=0.3754\n"
          ]
        },
        {
          "output_type": "stream",
          "name": "stderr",
          "text": []
        },
        {
          "output_type": "stream",
          "name": "stdout",
          "text": [
            "Epoch 7: Loss=0.0051, Val F1=0.3805\n"
          ]
        },
        {
          "output_type": "stream",
          "name": "stderr",
          "text": []
        },
        {
          "output_type": "stream",
          "name": "stdout",
          "text": [
            "Epoch 8: Loss=0.0031, Val F1=0.3775\n"
          ]
        },
        {
          "output_type": "stream",
          "name": "stderr",
          "text": []
        },
        {
          "output_type": "stream",
          "name": "stdout",
          "text": [
            "Epoch 9: Loss=0.0017, Val F1=0.3916\n"
          ]
        },
        {
          "output_type": "stream",
          "name": "stderr",
          "text": []
        },
        {
          "output_type": "stream",
          "name": "stdout",
          "text": [
            "Epoch 10: Loss=0.0010, Val F1=0.3866\n",
            "\n",
            "Training LSTM with lr=0.001\n"
          ]
        },
        {
          "output_type": "stream",
          "name": "stderr",
          "text": []
        },
        {
          "output_type": "stream",
          "name": "stdout",
          "text": [
            "Epoch 1: Loss=0.4864, Val F1=0.1078\n"
          ]
        },
        {
          "output_type": "stream",
          "name": "stderr",
          "text": []
        },
        {
          "output_type": "stream",
          "name": "stdout",
          "text": [
            "Epoch 2: Loss=0.2561, Val F1=0.1078\n"
          ]
        },
        {
          "output_type": "stream",
          "name": "stderr",
          "text": []
        },
        {
          "output_type": "stream",
          "name": "stdout",
          "text": [
            "Epoch 3: Loss=0.2101, Val F1=0.1106\n"
          ]
        },
        {
          "output_type": "stream",
          "name": "stderr",
          "text": []
        },
        {
          "output_type": "stream",
          "name": "stdout",
          "text": [
            "Epoch 4: Loss=0.1720, Val F1=0.1457\n"
          ]
        },
        {
          "output_type": "stream",
          "name": "stderr",
          "text": []
        },
        {
          "output_type": "stream",
          "name": "stdout",
          "text": [
            "Epoch 5: Loss=0.1379, Val F1=0.2050\n"
          ]
        },
        {
          "output_type": "stream",
          "name": "stderr",
          "text": []
        },
        {
          "output_type": "stream",
          "name": "stdout",
          "text": [
            "Epoch 6: Loss=0.1108, Val F1=0.2457\n"
          ]
        },
        {
          "output_type": "stream",
          "name": "stderr",
          "text": []
        },
        {
          "output_type": "stream",
          "name": "stdout",
          "text": [
            "Epoch 7: Loss=0.0929, Val F1=0.2576\n"
          ]
        },
        {
          "output_type": "stream",
          "name": "stderr",
          "text": []
        },
        {
          "output_type": "stream",
          "name": "stdout",
          "text": [
            "Epoch 8: Loss=0.0770, Val F1=0.2762\n"
          ]
        },
        {
          "output_type": "stream",
          "name": "stderr",
          "text": []
        },
        {
          "output_type": "stream",
          "name": "stdout",
          "text": [
            "Epoch 9: Loss=0.0633, Val F1=0.3003\n"
          ]
        },
        {
          "output_type": "stream",
          "name": "stderr",
          "text": []
        },
        {
          "output_type": "stream",
          "name": "stdout",
          "text": [
            "Epoch 10: Loss=0.0518, Val F1=0.3110\n",
            "\n",
            "Training GRU with lr=0.01\n"
          ]
        },
        {
          "output_type": "stream",
          "name": "stderr",
          "text": []
        },
        {
          "output_type": "stream",
          "name": "stdout",
          "text": [
            "Epoch 1: Loss=0.2503, Val F1=0.2054\n"
          ]
        },
        {
          "output_type": "stream",
          "name": "stderr",
          "text": []
        },
        {
          "output_type": "stream",
          "name": "stdout",
          "text": [
            "Epoch 2: Loss=0.0906, Val F1=0.3420\n"
          ]
        },
        {
          "output_type": "stream",
          "name": "stderr",
          "text": []
        },
        {
          "output_type": "stream",
          "name": "stdout",
          "text": [
            "Epoch 3: Loss=0.0320, Val F1=0.3612\n"
          ]
        },
        {
          "output_type": "stream",
          "name": "stderr",
          "text": []
        },
        {
          "output_type": "stream",
          "name": "stdout",
          "text": [
            "Epoch 4: Loss=0.0116, Val F1=0.3835\n"
          ]
        },
        {
          "output_type": "stream",
          "name": "stderr",
          "text": []
        },
        {
          "output_type": "stream",
          "name": "stdout",
          "text": [
            "Epoch 5: Loss=0.0050, Val F1=0.3772\n"
          ]
        },
        {
          "output_type": "stream",
          "name": "stderr",
          "text": []
        },
        {
          "output_type": "stream",
          "name": "stdout",
          "text": [
            "Epoch 6: Loss=0.0021, Val F1=0.3875\n"
          ]
        },
        {
          "output_type": "stream",
          "name": "stderr",
          "text": []
        },
        {
          "output_type": "stream",
          "name": "stdout",
          "text": [
            "Epoch 7: Loss=0.0008, Val F1=0.3846\n"
          ]
        },
        {
          "output_type": "stream",
          "name": "stderr",
          "text": []
        },
        {
          "output_type": "stream",
          "name": "stdout",
          "text": [
            "Epoch 8: Loss=0.0004, Val F1=0.3826\n"
          ]
        },
        {
          "output_type": "stream",
          "name": "stderr",
          "text": []
        },
        {
          "output_type": "stream",
          "name": "stdout",
          "text": [
            "Epoch 9: Loss=0.0003, Val F1=0.3843\n"
          ]
        },
        {
          "output_type": "stream",
          "name": "stderr",
          "text": []
        },
        {
          "output_type": "stream",
          "name": "stdout",
          "text": [
            "Epoch 10: Loss=0.0002, Val F1=0.3850\n",
            "\n",
            "Training GRU with lr=0.005\n"
          ]
        },
        {
          "output_type": "stream",
          "name": "stderr",
          "text": []
        },
        {
          "output_type": "stream",
          "name": "stdout",
          "text": [
            "Epoch 1: Loss=0.2867, Val F1=0.2027\n"
          ]
        },
        {
          "output_type": "stream",
          "name": "stderr",
          "text": []
        },
        {
          "output_type": "stream",
          "name": "stdout",
          "text": [
            "Epoch 2: Loss=0.1230, Val F1=0.2824\n"
          ]
        },
        {
          "output_type": "stream",
          "name": "stderr",
          "text": []
        },
        {
          "output_type": "stream",
          "name": "stdout",
          "text": [
            "Epoch 3: Loss=0.0545, Val F1=0.3444\n"
          ]
        },
        {
          "output_type": "stream",
          "name": "stderr",
          "text": []
        },
        {
          "output_type": "stream",
          "name": "stdout",
          "text": [
            "Epoch 4: Loss=0.0212, Val F1=0.3669\n"
          ]
        },
        {
          "output_type": "stream",
          "name": "stderr",
          "text": []
        },
        {
          "output_type": "stream",
          "name": "stdout",
          "text": [
            "Epoch 5: Loss=0.0078, Val F1=0.3684\n"
          ]
        },
        {
          "output_type": "stream",
          "name": "stderr",
          "text": []
        },
        {
          "output_type": "stream",
          "name": "stdout",
          "text": [
            "Epoch 6: Loss=0.0031, Val F1=0.3715\n"
          ]
        },
        {
          "output_type": "stream",
          "name": "stderr",
          "text": []
        },
        {
          "output_type": "stream",
          "name": "stdout",
          "text": [
            "Epoch 7: Loss=0.0013, Val F1=0.3741\n"
          ]
        },
        {
          "output_type": "stream",
          "name": "stderr",
          "text": []
        },
        {
          "output_type": "stream",
          "name": "stdout",
          "text": [
            "Epoch 8: Loss=0.0008, Val F1=0.3746\n"
          ]
        },
        {
          "output_type": "stream",
          "name": "stderr",
          "text": []
        },
        {
          "output_type": "stream",
          "name": "stdout",
          "text": [
            "Epoch 9: Loss=0.0005, Val F1=0.3715\n"
          ]
        },
        {
          "output_type": "stream",
          "name": "stderr",
          "text": []
        },
        {
          "output_type": "stream",
          "name": "stdout",
          "text": [
            "Epoch 10: Loss=0.0004, Val F1=0.3730\n",
            "\n",
            "Training GRU with lr=0.001\n"
          ]
        },
        {
          "output_type": "stream",
          "name": "stderr",
          "text": []
        },
        {
          "output_type": "stream",
          "name": "stdout",
          "text": [
            "Epoch 1: Loss=0.4793, Val F1=0.1076\n"
          ]
        },
        {
          "output_type": "stream",
          "name": "stderr",
          "text": []
        },
        {
          "output_type": "stream",
          "name": "stdout",
          "text": [
            "Epoch 2: Loss=0.2518, Val F1=0.1164\n"
          ]
        },
        {
          "output_type": "stream",
          "name": "stderr",
          "text": []
        },
        {
          "output_type": "stream",
          "name": "stdout",
          "text": [
            "Epoch 3: Loss=0.1980, Val F1=0.1607\n"
          ]
        },
        {
          "output_type": "stream",
          "name": "stderr",
          "text": []
        },
        {
          "output_type": "stream",
          "name": "stdout",
          "text": [
            "Epoch 4: Loss=0.1548, Val F1=0.2083\n"
          ]
        },
        {
          "output_type": "stream",
          "name": "stderr",
          "text": []
        },
        {
          "output_type": "stream",
          "name": "stdout",
          "text": [
            "Epoch 5: Loss=0.1190, Val F1=0.2504\n"
          ]
        },
        {
          "output_type": "stream",
          "name": "stderr",
          "text": []
        },
        {
          "output_type": "stream",
          "name": "stdout",
          "text": [
            "Epoch 6: Loss=0.0902, Val F1=0.3064\n"
          ]
        },
        {
          "output_type": "stream",
          "name": "stderr",
          "text": []
        },
        {
          "output_type": "stream",
          "name": "stdout",
          "text": [
            "Epoch 7: Loss=0.0731, Val F1=0.3075\n"
          ]
        },
        {
          "output_type": "stream",
          "name": "stderr",
          "text": []
        },
        {
          "output_type": "stream",
          "name": "stdout",
          "text": [
            "Epoch 8: Loss=0.0582, Val F1=0.3226\n"
          ]
        },
        {
          "output_type": "stream",
          "name": "stderr",
          "text": []
        },
        {
          "output_type": "stream",
          "name": "stdout",
          "text": [
            "Epoch 9: Loss=0.0453, Val F1=0.3221\n"
          ]
        },
        {
          "output_type": "stream",
          "name": "stderr",
          "text": []
        },
        {
          "output_type": "stream",
          "name": "stdout",
          "text": [
            "Epoch 10: Loss=0.0353, Val F1=0.3322\n",
            "\n",
            "Training BiLSTM with lr=0.01\n"
          ]
        },
        {
          "output_type": "stream",
          "name": "stderr",
          "text": []
        },
        {
          "output_type": "stream",
          "name": "stdout",
          "text": [
            "Epoch 1: Loss=0.2281, Val F1=0.3011\n"
          ]
        },
        {
          "output_type": "stream",
          "name": "stderr",
          "text": []
        },
        {
          "output_type": "stream",
          "name": "stdout",
          "text": [
            "Epoch 2: Loss=0.0840, Val F1=0.3699\n"
          ]
        },
        {
          "output_type": "stream",
          "name": "stderr",
          "text": []
        },
        {
          "output_type": "stream",
          "name": "stdout",
          "text": [
            "Epoch 3: Loss=0.0272, Val F1=0.3854\n"
          ]
        },
        {
          "output_type": "stream",
          "name": "stderr",
          "text": []
        },
        {
          "output_type": "stream",
          "name": "stdout",
          "text": [
            "Epoch 4: Loss=0.0082, Val F1=0.3889\n"
          ]
        },
        {
          "output_type": "stream",
          "name": "stderr",
          "text": []
        },
        {
          "output_type": "stream",
          "name": "stdout",
          "text": [
            "Epoch 5: Loss=0.0027, Val F1=0.3866\n"
          ]
        },
        {
          "output_type": "stream",
          "name": "stderr",
          "text": []
        },
        {
          "output_type": "stream",
          "name": "stdout",
          "text": [
            "Epoch 6: Loss=0.0007, Val F1=0.3946\n"
          ]
        },
        {
          "output_type": "stream",
          "name": "stderr",
          "text": []
        },
        {
          "output_type": "stream",
          "name": "stdout",
          "text": [
            "Epoch 7: Loss=0.0002, Val F1=0.3935\n"
          ]
        },
        {
          "output_type": "stream",
          "name": "stderr",
          "text": []
        },
        {
          "output_type": "stream",
          "name": "stdout",
          "text": [
            "Epoch 8: Loss=0.0001, Val F1=0.3984\n"
          ]
        },
        {
          "output_type": "stream",
          "name": "stderr",
          "text": []
        },
        {
          "output_type": "stream",
          "name": "stdout",
          "text": [
            "Epoch 9: Loss=0.0001, Val F1=0.3972\n"
          ]
        },
        {
          "output_type": "stream",
          "name": "stderr",
          "text": []
        },
        {
          "output_type": "stream",
          "name": "stdout",
          "text": [
            "Epoch 10: Loss=0.0001, Val F1=0.3944\n",
            "\n",
            "Training BiLSTM with lr=0.005\n"
          ]
        },
        {
          "output_type": "stream",
          "name": "stderr",
          "text": []
        },
        {
          "output_type": "stream",
          "name": "stdout",
          "text": [
            "Epoch 1: Loss=0.2646, Val F1=0.1488\n"
          ]
        },
        {
          "output_type": "stream",
          "name": "stderr",
          "text": []
        },
        {
          "output_type": "stream",
          "name": "stdout",
          "text": [
            "Epoch 2: Loss=0.1195, Val F1=0.3283\n"
          ]
        },
        {
          "output_type": "stream",
          "name": "stderr",
          "text": []
        },
        {
          "output_type": "stream",
          "name": "stdout",
          "text": [
            "Epoch 3: Loss=0.0515, Val F1=0.3835\n"
          ]
        },
        {
          "output_type": "stream",
          "name": "stderr",
          "text": []
        },
        {
          "output_type": "stream",
          "name": "stdout",
          "text": [
            "Epoch 4: Loss=0.0187, Val F1=0.4242\n"
          ]
        },
        {
          "output_type": "stream",
          "name": "stderr",
          "text": []
        },
        {
          "output_type": "stream",
          "name": "stdout",
          "text": [
            "Epoch 5: Loss=0.0059, Val F1=0.4206\n"
          ]
        },
        {
          "output_type": "stream",
          "name": "stderr",
          "text": []
        },
        {
          "output_type": "stream",
          "name": "stdout",
          "text": [
            "Epoch 6: Loss=0.0018, Val F1=0.4288\n"
          ]
        },
        {
          "output_type": "stream",
          "name": "stderr",
          "text": []
        },
        {
          "output_type": "stream",
          "name": "stdout",
          "text": [
            "Epoch 7: Loss=0.0006, Val F1=0.4217\n"
          ]
        },
        {
          "output_type": "stream",
          "name": "stderr",
          "text": []
        },
        {
          "output_type": "stream",
          "name": "stdout",
          "text": [
            "Epoch 8: Loss=0.0004, Val F1=0.4222\n"
          ]
        },
        {
          "output_type": "stream",
          "name": "stderr",
          "text": []
        },
        {
          "output_type": "stream",
          "name": "stdout",
          "text": [
            "Epoch 9: Loss=0.0003, Val F1=0.4208\n"
          ]
        },
        {
          "output_type": "stream",
          "name": "stderr",
          "text": []
        },
        {
          "output_type": "stream",
          "name": "stdout",
          "text": [
            "Epoch 10: Loss=0.0002, Val F1=0.4214\n",
            "\n",
            "Training BiLSTM with lr=0.001\n"
          ]
        },
        {
          "output_type": "stream",
          "name": "stderr",
          "text": []
        },
        {
          "output_type": "stream",
          "name": "stdout",
          "text": [
            "Epoch 1: Loss=0.3772, Val F1=0.1078\n"
          ]
        },
        {
          "output_type": "stream",
          "name": "stderr",
          "text": []
        },
        {
          "output_type": "stream",
          "name": "stdout",
          "text": [
            "Epoch 2: Loss=0.2123, Val F1=0.1366\n"
          ]
        },
        {
          "output_type": "stream",
          "name": "stderr",
          "text": []
        },
        {
          "output_type": "stream",
          "name": "stdout",
          "text": [
            "Epoch 3: Loss=0.1658, Val F1=0.1690\n"
          ]
        },
        {
          "output_type": "stream",
          "name": "stderr",
          "text": []
        },
        {
          "output_type": "stream",
          "name": "stdout",
          "text": [
            "Epoch 4: Loss=0.1279, Val F1=0.2435\n"
          ]
        },
        {
          "output_type": "stream",
          "name": "stderr",
          "text": []
        },
        {
          "output_type": "stream",
          "name": "stdout",
          "text": [
            "Epoch 5: Loss=0.0950, Val F1=0.2906\n"
          ]
        },
        {
          "output_type": "stream",
          "name": "stderr",
          "text": []
        },
        {
          "output_type": "stream",
          "name": "stdout",
          "text": [
            "Epoch 6: Loss=0.0670, Val F1=0.3209\n"
          ]
        },
        {
          "output_type": "stream",
          "name": "stderr",
          "text": []
        },
        {
          "output_type": "stream",
          "name": "stdout",
          "text": [
            "Epoch 7: Loss=0.0504, Val F1=0.3382\n"
          ]
        },
        {
          "output_type": "stream",
          "name": "stderr",
          "text": []
        },
        {
          "output_type": "stream",
          "name": "stdout",
          "text": [
            "Epoch 8: Loss=0.0375, Val F1=0.3511\n"
          ]
        },
        {
          "output_type": "stream",
          "name": "stderr",
          "text": []
        },
        {
          "output_type": "stream",
          "name": "stdout",
          "text": [
            "Epoch 9: Loss=0.0269, Val F1=0.3510\n"
          ]
        },
        {
          "output_type": "stream",
          "name": "stderr",
          "text": []
        },
        {
          "output_type": "stream",
          "name": "stdout",
          "text": [
            "Epoch 10: Loss=0.0190, Val F1=0.3423\n"
          ]
        }
      ]
    },
    {
      "cell_type": "code",
      "source": [
        "print(f\"\\nBest model: {best_arch} with lr={best_lr}, Test F1-score={best_score:.4f}\")"
      ],
      "metadata": {
        "colab": {
          "base_uri": "https://localhost:8080/"
        },
        "id": "mJHSWkZKrUbO",
        "outputId": "e0d2ec70-15f4-4387-84b3-6cb60a017492"
      },
      "id": "mJHSWkZKrUbO",
      "execution_count": 22,
      "outputs": [
        {
          "output_type": "stream",
          "name": "stdout",
          "text": [
            "\n",
            "Best model: LSTM with lr=0.01, Test F1-score=0.4661\n"
          ]
        }
      ]
    },
    {
      "cell_type": "code",
      "execution_count": 27,
      "id": "27190acf-4e1d-41b8-bdea-8f73b9239351",
      "metadata": {
        "id": "27190acf-4e1d-41b8-bdea-8f73b9239351",
        "colab": {
          "base_uri": "https://localhost:8080/"
        },
        "outputId": "bba9999b-a8d4-4166-90a7-5da606c56987"
      },
      "outputs": [
        {
          "output_type": "stream",
          "name": "stdout",
          "text": [
            "Test Set Evaluation: F1-score = 0.4661\n"
          ]
        }
      ],
      "source": [
        "#######################################################################\n",
        "# TODO: write evaluation function for a test set.\n",
        "#######################################################################\n",
        "# Perform evaluation on the test set\n",
        "\n",
        "def evaluate_test_set(model, loader, device):\n",
        "    model.eval()\n",
        "    all_preds, all_labels = [], []\n",
        "\n",
        "    with torch.no_grad():\n",
        "        for x_batch, y_true in loader:\n",
        "            x_batch, y_true = x_batch.to(device), y_true.to(device)\n",
        "            logits = model(x_batch)\n",
        "            y_pred = torch.argmax(logits, dim=-1)\n",
        "\n",
        "            mask = y_true != NER_PAD_ID\n",
        "            y_true, y_pred = y_true[mask].cpu().numpy(), y_pred[mask].cpu().numpy()\n",
        "            all_preds.extend(y_pred)\n",
        "            all_labels.extend(y_true)\n",
        "\n",
        "    test_f1 = f1_score(all_labels, all_preds, average=\"macro\")\n",
        "    print(f\"Test Set Evaluation: F1-score = {test_f1:.4f}\")\n",
        "    return test_f1\n",
        "\n",
        "device = torch.device(\"cuda\" if torch.cuda.is_available() else \"cpu\")\n",
        "test_f1_score = evaluate_test_set(best_model, test_loader, device)\n",
        "\n",
        "\n"
      ]
    },
    {
      "cell_type": "code",
      "execution_count": null,
      "id": "eLyidJutRIvr",
      "metadata": {
        "id": "eLyidJutRIvr"
      },
      "outputs": [],
      "source": []
    }
  ],
  "metadata": {
    "accelerator": "GPU",
    "colab": {
      "provenance": []
    },
    "kernelspec": {
      "display_name": "Python 3 (ipykernel)",
      "language": "python",
      "name": "python3"
    },
    "language_info": {
      "codemirror_mode": {
        "name": "ipython",
        "version": 3
      },
      "file_extension": ".py",
      "mimetype": "text/x-python",
      "name": "python",
      "nbconvert_exporter": "python",
      "pygments_lexer": "ipython3",
      "version": "3.8.10"
    },
    "widgets": {
      "application/vnd.jupyter.widget-state+json": {
        "d6398c96ac1b415facdfbda42f886ed4": {
          "model_module": "@jupyter-widgets/controls",
          "model_name": "HBoxModel",
          "model_module_version": "1.5.0",
          "state": {
            "_dom_classes": [],
            "_model_module": "@jupyter-widgets/controls",
            "_model_module_version": "1.5.0",
            "_model_name": "HBoxModel",
            "_view_count": null,
            "_view_module": "@jupyter-widgets/controls",
            "_view_module_version": "1.5.0",
            "_view_name": "HBoxView",
            "box_style": "",
            "children": [
              "IPY_MODEL_a976d2f4f17942cf9ca4e208035f9460",
              "IPY_MODEL_f006c8eb123c42e79517cc0a17966779",
              "IPY_MODEL_b65d92e9752b4136a8b504dcf336f162"
            ],
            "layout": "IPY_MODEL_940062de4c924e07b39580fe1aef4585"
          }
        },
        "a976d2f4f17942cf9ca4e208035f9460": {
          "model_module": "@jupyter-widgets/controls",
          "model_name": "HTMLModel",
          "model_module_version": "1.5.0",
          "state": {
            "_dom_classes": [],
            "_model_module": "@jupyter-widgets/controls",
            "_model_module_version": "1.5.0",
            "_model_name": "HTMLModel",
            "_view_count": null,
            "_view_module": "@jupyter-widgets/controls",
            "_view_module_version": "1.5.0",
            "_view_name": "HTMLView",
            "description": "",
            "description_tooltip": null,
            "layout": "IPY_MODEL_8aca00460dd54c9ba1630f304d2ef168",
            "placeholder": "​",
            "style": "IPY_MODEL_b2d6925369b8412db2e0619aafc563cf",
            "value": "README.md: 100%"
          }
        },
        "f006c8eb123c42e79517cc0a17966779": {
          "model_module": "@jupyter-widgets/controls",
          "model_name": "FloatProgressModel",
          "model_module_version": "1.5.0",
          "state": {
            "_dom_classes": [],
            "_model_module": "@jupyter-widgets/controls",
            "_model_module_version": "1.5.0",
            "_model_name": "FloatProgressModel",
            "_view_count": null,
            "_view_module": "@jupyter-widgets/controls",
            "_view_module_version": "1.5.0",
            "_view_name": "ProgressView",
            "bar_style": "success",
            "description": "",
            "description_tooltip": null,
            "layout": "IPY_MODEL_a09c139516c14350ae45a1cf7ef452a0",
            "max": 1318,
            "min": 0,
            "orientation": "horizontal",
            "style": "IPY_MODEL_0bc61fef417b4caf9d71fce783073df2",
            "value": 1318
          }
        },
        "b65d92e9752b4136a8b504dcf336f162": {
          "model_module": "@jupyter-widgets/controls",
          "model_name": "HTMLModel",
          "model_module_version": "1.5.0",
          "state": {
            "_dom_classes": [],
            "_model_module": "@jupyter-widgets/controls",
            "_model_module_version": "1.5.0",
            "_model_name": "HTMLModel",
            "_view_count": null,
            "_view_module": "@jupyter-widgets/controls",
            "_view_module_version": "1.5.0",
            "_view_name": "HTMLView",
            "description": "",
            "description_tooltip": null,
            "layout": "IPY_MODEL_7ef34a76fe99433197b737d18b6945fa",
            "placeholder": "​",
            "style": "IPY_MODEL_d2690e9345214c9ca4f7714d46d0401c",
            "value": " 1.32k/1.32k [00:00&lt;00:00, 55.3kB/s]"
          }
        },
        "940062de4c924e07b39580fe1aef4585": {
          "model_module": "@jupyter-widgets/base",
          "model_name": "LayoutModel",
          "model_module_version": "1.2.0",
          "state": {
            "_model_module": "@jupyter-widgets/base",
            "_model_module_version": "1.2.0",
            "_model_name": "LayoutModel",
            "_view_count": null,
            "_view_module": "@jupyter-widgets/base",
            "_view_module_version": "1.2.0",
            "_view_name": "LayoutView",
            "align_content": null,
            "align_items": null,
            "align_self": null,
            "border": null,
            "bottom": null,
            "display": null,
            "flex": null,
            "flex_flow": null,
            "grid_area": null,
            "grid_auto_columns": null,
            "grid_auto_flow": null,
            "grid_auto_rows": null,
            "grid_column": null,
            "grid_gap": null,
            "grid_row": null,
            "grid_template_areas": null,
            "grid_template_columns": null,
            "grid_template_rows": null,
            "height": null,
            "justify_content": null,
            "justify_items": null,
            "left": null,
            "margin": null,
            "max_height": null,
            "max_width": null,
            "min_height": null,
            "min_width": null,
            "object_fit": null,
            "object_position": null,
            "order": null,
            "overflow": null,
            "overflow_x": null,
            "overflow_y": null,
            "padding": null,
            "right": null,
            "top": null,
            "visibility": null,
            "width": null
          }
        },
        "8aca00460dd54c9ba1630f304d2ef168": {
          "model_module": "@jupyter-widgets/base",
          "model_name": "LayoutModel",
          "model_module_version": "1.2.0",
          "state": {
            "_model_module": "@jupyter-widgets/base",
            "_model_module_version": "1.2.0",
            "_model_name": "LayoutModel",
            "_view_count": null,
            "_view_module": "@jupyter-widgets/base",
            "_view_module_version": "1.2.0",
            "_view_name": "LayoutView",
            "align_content": null,
            "align_items": null,
            "align_self": null,
            "border": null,
            "bottom": null,
            "display": null,
            "flex": null,
            "flex_flow": null,
            "grid_area": null,
            "grid_auto_columns": null,
            "grid_auto_flow": null,
            "grid_auto_rows": null,
            "grid_column": null,
            "grid_gap": null,
            "grid_row": null,
            "grid_template_areas": null,
            "grid_template_columns": null,
            "grid_template_rows": null,
            "height": null,
            "justify_content": null,
            "justify_items": null,
            "left": null,
            "margin": null,
            "max_height": null,
            "max_width": null,
            "min_height": null,
            "min_width": null,
            "object_fit": null,
            "object_position": null,
            "order": null,
            "overflow": null,
            "overflow_x": null,
            "overflow_y": null,
            "padding": null,
            "right": null,
            "top": null,
            "visibility": null,
            "width": null
          }
        },
        "b2d6925369b8412db2e0619aafc563cf": {
          "model_module": "@jupyter-widgets/controls",
          "model_name": "DescriptionStyleModel",
          "model_module_version": "1.5.0",
          "state": {
            "_model_module": "@jupyter-widgets/controls",
            "_model_module_version": "1.5.0",
            "_model_name": "DescriptionStyleModel",
            "_view_count": null,
            "_view_module": "@jupyter-widgets/base",
            "_view_module_version": "1.2.0",
            "_view_name": "StyleView",
            "description_width": ""
          }
        },
        "a09c139516c14350ae45a1cf7ef452a0": {
          "model_module": "@jupyter-widgets/base",
          "model_name": "LayoutModel",
          "model_module_version": "1.2.0",
          "state": {
            "_model_module": "@jupyter-widgets/base",
            "_model_module_version": "1.2.0",
            "_model_name": "LayoutModel",
            "_view_count": null,
            "_view_module": "@jupyter-widgets/base",
            "_view_module_version": "1.2.0",
            "_view_name": "LayoutView",
            "align_content": null,
            "align_items": null,
            "align_self": null,
            "border": null,
            "bottom": null,
            "display": null,
            "flex": null,
            "flex_flow": null,
            "grid_area": null,
            "grid_auto_columns": null,
            "grid_auto_flow": null,
            "grid_auto_rows": null,
            "grid_column": null,
            "grid_gap": null,
            "grid_row": null,
            "grid_template_areas": null,
            "grid_template_columns": null,
            "grid_template_rows": null,
            "height": null,
            "justify_content": null,
            "justify_items": null,
            "left": null,
            "margin": null,
            "max_height": null,
            "max_width": null,
            "min_height": null,
            "min_width": null,
            "object_fit": null,
            "object_position": null,
            "order": null,
            "overflow": null,
            "overflow_x": null,
            "overflow_y": null,
            "padding": null,
            "right": null,
            "top": null,
            "visibility": null,
            "width": null
          }
        },
        "0bc61fef417b4caf9d71fce783073df2": {
          "model_module": "@jupyter-widgets/controls",
          "model_name": "ProgressStyleModel",
          "model_module_version": "1.5.0",
          "state": {
            "_model_module": "@jupyter-widgets/controls",
            "_model_module_version": "1.5.0",
            "_model_name": "ProgressStyleModel",
            "_view_count": null,
            "_view_module": "@jupyter-widgets/base",
            "_view_module_version": "1.2.0",
            "_view_name": "StyleView",
            "bar_color": null,
            "description_width": ""
          }
        },
        "7ef34a76fe99433197b737d18b6945fa": {
          "model_module": "@jupyter-widgets/base",
          "model_name": "LayoutModel",
          "model_module_version": "1.2.0",
          "state": {
            "_model_module": "@jupyter-widgets/base",
            "_model_module_version": "1.2.0",
            "_model_name": "LayoutModel",
            "_view_count": null,
            "_view_module": "@jupyter-widgets/base",
            "_view_module_version": "1.2.0",
            "_view_name": "LayoutView",
            "align_content": null,
            "align_items": null,
            "align_self": null,
            "border": null,
            "bottom": null,
            "display": null,
            "flex": null,
            "flex_flow": null,
            "grid_area": null,
            "grid_auto_columns": null,
            "grid_auto_flow": null,
            "grid_auto_rows": null,
            "grid_column": null,
            "grid_gap": null,
            "grid_row": null,
            "grid_template_areas": null,
            "grid_template_columns": null,
            "grid_template_rows": null,
            "height": null,
            "justify_content": null,
            "justify_items": null,
            "left": null,
            "margin": null,
            "max_height": null,
            "max_width": null,
            "min_height": null,
            "min_width": null,
            "object_fit": null,
            "object_position": null,
            "order": null,
            "overflow": null,
            "overflow_x": null,
            "overflow_y": null,
            "padding": null,
            "right": null,
            "top": null,
            "visibility": null,
            "width": null
          }
        },
        "d2690e9345214c9ca4f7714d46d0401c": {
          "model_module": "@jupyter-widgets/controls",
          "model_name": "DescriptionStyleModel",
          "model_module_version": "1.5.0",
          "state": {
            "_model_module": "@jupyter-widgets/controls",
            "_model_module_version": "1.5.0",
            "_model_name": "DescriptionStyleModel",
            "_view_count": null,
            "_view_module": "@jupyter-widgets/base",
            "_view_module_version": "1.2.0",
            "_view_name": "StyleView",
            "description_width": ""
          }
        },
        "c8713eadd6bd450f87ce1855bfb7f096": {
          "model_module": "@jupyter-widgets/controls",
          "model_name": "HBoxModel",
          "model_module_version": "1.5.0",
          "state": {
            "_dom_classes": [],
            "_model_module": "@jupyter-widgets/controls",
            "_model_module_version": "1.5.0",
            "_model_name": "HBoxModel",
            "_view_count": null,
            "_view_module": "@jupyter-widgets/controls",
            "_view_module_version": "1.5.0",
            "_view_name": "HBoxView",
            "box_style": "",
            "children": [
              "IPY_MODEL_3b74b58fc6224399ad1454ed6cb425d4",
              "IPY_MODEL_2134a042a1bb4313b8b7a1ab53e69c97",
              "IPY_MODEL_ba216eaa95984ae982575606c318e0ff"
            ],
            "layout": "IPY_MODEL_bdb7ae3a70fb491fb78aed13a0253c60"
          }
        },
        "3b74b58fc6224399ad1454ed6cb425d4": {
          "model_module": "@jupyter-widgets/controls",
          "model_name": "HTMLModel",
          "model_module_version": "1.5.0",
          "state": {
            "_dom_classes": [],
            "_model_module": "@jupyter-widgets/controls",
            "_model_module_version": "1.5.0",
            "_model_name": "HTMLModel",
            "_view_count": null,
            "_view_module": "@jupyter-widgets/controls",
            "_view_module_version": "1.5.0",
            "_view_name": "HTMLView",
            "description": "",
            "description_tooltip": null,
            "layout": "IPY_MODEL_8ce52c0aabcf45efab1fcb40a465293a",
            "placeholder": "​",
            "style": "IPY_MODEL_dc1cbf179bd04ef4a844d4da7da82a54",
            "value": "dataset_infos.json: 100%"
          }
        },
        "2134a042a1bb4313b8b7a1ab53e69c97": {
          "model_module": "@jupyter-widgets/controls",
          "model_name": "FloatProgressModel",
          "model_module_version": "1.5.0",
          "state": {
            "_dom_classes": [],
            "_model_module": "@jupyter-widgets/controls",
            "_model_module_version": "1.5.0",
            "_model_name": "FloatProgressModel",
            "_view_count": null,
            "_view_module": "@jupyter-widgets/controls",
            "_view_module_version": "1.5.0",
            "_view_name": "ProgressView",
            "bar_style": "success",
            "description": "",
            "description_tooltip": null,
            "layout": "IPY_MODEL_9141ff036984461882ac504797cb1b48",
            "max": 1022,
            "min": 0,
            "orientation": "horizontal",
            "style": "IPY_MODEL_aa7375a33c744b558f7e23ecb2563210",
            "value": 1022
          }
        },
        "ba216eaa95984ae982575606c318e0ff": {
          "model_module": "@jupyter-widgets/controls",
          "model_name": "HTMLModel",
          "model_module_version": "1.5.0",
          "state": {
            "_dom_classes": [],
            "_model_module": "@jupyter-widgets/controls",
            "_model_module_version": "1.5.0",
            "_model_name": "HTMLModel",
            "_view_count": null,
            "_view_module": "@jupyter-widgets/controls",
            "_view_module_version": "1.5.0",
            "_view_name": "HTMLView",
            "description": "",
            "description_tooltip": null,
            "layout": "IPY_MODEL_17f90c56a1c2453285a59649824f9560",
            "placeholder": "​",
            "style": "IPY_MODEL_f6d7cebf03e1465bbdd20d98def77b88",
            "value": " 1.02k/1.02k [00:00&lt;00:00, 20.0kB/s]"
          }
        },
        "bdb7ae3a70fb491fb78aed13a0253c60": {
          "model_module": "@jupyter-widgets/base",
          "model_name": "LayoutModel",
          "model_module_version": "1.2.0",
          "state": {
            "_model_module": "@jupyter-widgets/base",
            "_model_module_version": "1.2.0",
            "_model_name": "LayoutModel",
            "_view_count": null,
            "_view_module": "@jupyter-widgets/base",
            "_view_module_version": "1.2.0",
            "_view_name": "LayoutView",
            "align_content": null,
            "align_items": null,
            "align_self": null,
            "border": null,
            "bottom": null,
            "display": null,
            "flex": null,
            "flex_flow": null,
            "grid_area": null,
            "grid_auto_columns": null,
            "grid_auto_flow": null,
            "grid_auto_rows": null,
            "grid_column": null,
            "grid_gap": null,
            "grid_row": null,
            "grid_template_areas": null,
            "grid_template_columns": null,
            "grid_template_rows": null,
            "height": null,
            "justify_content": null,
            "justify_items": null,
            "left": null,
            "margin": null,
            "max_height": null,
            "max_width": null,
            "min_height": null,
            "min_width": null,
            "object_fit": null,
            "object_position": null,
            "order": null,
            "overflow": null,
            "overflow_x": null,
            "overflow_y": null,
            "padding": null,
            "right": null,
            "top": null,
            "visibility": null,
            "width": null
          }
        },
        "8ce52c0aabcf45efab1fcb40a465293a": {
          "model_module": "@jupyter-widgets/base",
          "model_name": "LayoutModel",
          "model_module_version": "1.2.0",
          "state": {
            "_model_module": "@jupyter-widgets/base",
            "_model_module_version": "1.2.0",
            "_model_name": "LayoutModel",
            "_view_count": null,
            "_view_module": "@jupyter-widgets/base",
            "_view_module_version": "1.2.0",
            "_view_name": "LayoutView",
            "align_content": null,
            "align_items": null,
            "align_self": null,
            "border": null,
            "bottom": null,
            "display": null,
            "flex": null,
            "flex_flow": null,
            "grid_area": null,
            "grid_auto_columns": null,
            "grid_auto_flow": null,
            "grid_auto_rows": null,
            "grid_column": null,
            "grid_gap": null,
            "grid_row": null,
            "grid_template_areas": null,
            "grid_template_columns": null,
            "grid_template_rows": null,
            "height": null,
            "justify_content": null,
            "justify_items": null,
            "left": null,
            "margin": null,
            "max_height": null,
            "max_width": null,
            "min_height": null,
            "min_width": null,
            "object_fit": null,
            "object_position": null,
            "order": null,
            "overflow": null,
            "overflow_x": null,
            "overflow_y": null,
            "padding": null,
            "right": null,
            "top": null,
            "visibility": null,
            "width": null
          }
        },
        "dc1cbf179bd04ef4a844d4da7da82a54": {
          "model_module": "@jupyter-widgets/controls",
          "model_name": "DescriptionStyleModel",
          "model_module_version": "1.5.0",
          "state": {
            "_model_module": "@jupyter-widgets/controls",
            "_model_module_version": "1.5.0",
            "_model_name": "DescriptionStyleModel",
            "_view_count": null,
            "_view_module": "@jupyter-widgets/base",
            "_view_module_version": "1.2.0",
            "_view_name": "StyleView",
            "description_width": ""
          }
        },
        "9141ff036984461882ac504797cb1b48": {
          "model_module": "@jupyter-widgets/base",
          "model_name": "LayoutModel",
          "model_module_version": "1.2.0",
          "state": {
            "_model_module": "@jupyter-widgets/base",
            "_model_module_version": "1.2.0",
            "_model_name": "LayoutModel",
            "_view_count": null,
            "_view_module": "@jupyter-widgets/base",
            "_view_module_version": "1.2.0",
            "_view_name": "LayoutView",
            "align_content": null,
            "align_items": null,
            "align_self": null,
            "border": null,
            "bottom": null,
            "display": null,
            "flex": null,
            "flex_flow": null,
            "grid_area": null,
            "grid_auto_columns": null,
            "grid_auto_flow": null,
            "grid_auto_rows": null,
            "grid_column": null,
            "grid_gap": null,
            "grid_row": null,
            "grid_template_areas": null,
            "grid_template_columns": null,
            "grid_template_rows": null,
            "height": null,
            "justify_content": null,
            "justify_items": null,
            "left": null,
            "margin": null,
            "max_height": null,
            "max_width": null,
            "min_height": null,
            "min_width": null,
            "object_fit": null,
            "object_position": null,
            "order": null,
            "overflow": null,
            "overflow_x": null,
            "overflow_y": null,
            "padding": null,
            "right": null,
            "top": null,
            "visibility": null,
            "width": null
          }
        },
        "aa7375a33c744b558f7e23ecb2563210": {
          "model_module": "@jupyter-widgets/controls",
          "model_name": "ProgressStyleModel",
          "model_module_version": "1.5.0",
          "state": {
            "_model_module": "@jupyter-widgets/controls",
            "_model_module_version": "1.5.0",
            "_model_name": "ProgressStyleModel",
            "_view_count": null,
            "_view_module": "@jupyter-widgets/base",
            "_view_module_version": "1.2.0",
            "_view_name": "StyleView",
            "bar_color": null,
            "description_width": ""
          }
        },
        "17f90c56a1c2453285a59649824f9560": {
          "model_module": "@jupyter-widgets/base",
          "model_name": "LayoutModel",
          "model_module_version": "1.2.0",
          "state": {
            "_model_module": "@jupyter-widgets/base",
            "_model_module_version": "1.2.0",
            "_model_name": "LayoutModel",
            "_view_count": null,
            "_view_module": "@jupyter-widgets/base",
            "_view_module_version": "1.2.0",
            "_view_name": "LayoutView",
            "align_content": null,
            "align_items": null,
            "align_self": null,
            "border": null,
            "bottom": null,
            "display": null,
            "flex": null,
            "flex_flow": null,
            "grid_area": null,
            "grid_auto_columns": null,
            "grid_auto_flow": null,
            "grid_auto_rows": null,
            "grid_column": null,
            "grid_gap": null,
            "grid_row": null,
            "grid_template_areas": null,
            "grid_template_columns": null,
            "grid_template_rows": null,
            "height": null,
            "justify_content": null,
            "justify_items": null,
            "left": null,
            "margin": null,
            "max_height": null,
            "max_width": null,
            "min_height": null,
            "min_width": null,
            "object_fit": null,
            "object_position": null,
            "order": null,
            "overflow": null,
            "overflow_x": null,
            "overflow_y": null,
            "padding": null,
            "right": null,
            "top": null,
            "visibility": null,
            "width": null
          }
        },
        "f6d7cebf03e1465bbdd20d98def77b88": {
          "model_module": "@jupyter-widgets/controls",
          "model_name": "DescriptionStyleModel",
          "model_module_version": "1.5.0",
          "state": {
            "_model_module": "@jupyter-widgets/controls",
            "_model_module_version": "1.5.0",
            "_model_name": "DescriptionStyleModel",
            "_view_count": null,
            "_view_module": "@jupyter-widgets/base",
            "_view_module_version": "1.2.0",
            "_view_name": "StyleView",
            "description_width": ""
          }
        },
        "a0397c75180f4d028b3845893b502ae5": {
          "model_module": "@jupyter-widgets/controls",
          "model_name": "HBoxModel",
          "model_module_version": "1.5.0",
          "state": {
            "_dom_classes": [],
            "_model_module": "@jupyter-widgets/controls",
            "_model_module_version": "1.5.0",
            "_model_name": "HBoxModel",
            "_view_count": null,
            "_view_module": "@jupyter-widgets/controls",
            "_view_module_version": "1.5.0",
            "_view_name": "HBoxView",
            "box_style": "",
            "children": [
              "IPY_MODEL_d50e20bf1ab84fc79c9070e3d2a7de59",
              "IPY_MODEL_5e253ffd17ec480296bb96e0d5751ee5",
              "IPY_MODEL_debb1166c0644fb6839bb0dcf0afc510"
            ],
            "layout": "IPY_MODEL_0638e4cd063f4c03bbedf02145e763d4"
          }
        },
        "d50e20bf1ab84fc79c9070e3d2a7de59": {
          "model_module": "@jupyter-widgets/controls",
          "model_name": "HTMLModel",
          "model_module_version": "1.5.0",
          "state": {
            "_dom_classes": [],
            "_model_module": "@jupyter-widgets/controls",
            "_model_module_version": "1.5.0",
            "_model_name": "HTMLModel",
            "_view_count": null,
            "_view_module": "@jupyter-widgets/controls",
            "_view_module_version": "1.5.0",
            "_view_name": "HTMLView",
            "description": "",
            "description_tooltip": null,
            "layout": "IPY_MODEL_9742bb8717cf4cb7965df7cb919d89f9",
            "placeholder": "​",
            "style": "IPY_MODEL_45060d1fa64f4bb7816f272a9388b548",
            "value": "train-00000-of-00001.parquet: 100%"
          }
        },
        "5e253ffd17ec480296bb96e0d5751ee5": {
          "model_module": "@jupyter-widgets/controls",
          "model_name": "FloatProgressModel",
          "model_module_version": "1.5.0",
          "state": {
            "_dom_classes": [],
            "_model_module": "@jupyter-widgets/controls",
            "_model_module_version": "1.5.0",
            "_model_name": "FloatProgressModel",
            "_view_count": null,
            "_view_module": "@jupyter-widgets/controls",
            "_view_module_version": "1.5.0",
            "_view_name": "ProgressView",
            "bar_style": "success",
            "description": "",
            "description_tooltip": null,
            "layout": "IPY_MODEL_a19e051c08804db9ae2e0c381d90a8cf",
            "max": 922498,
            "min": 0,
            "orientation": "horizontal",
            "style": "IPY_MODEL_3d5f3146614547a3b5bb4107816fa675",
            "value": 922498
          }
        },
        "debb1166c0644fb6839bb0dcf0afc510": {
          "model_module": "@jupyter-widgets/controls",
          "model_name": "HTMLModel",
          "model_module_version": "1.5.0",
          "state": {
            "_dom_classes": [],
            "_model_module": "@jupyter-widgets/controls",
            "_model_module_version": "1.5.0",
            "_model_name": "HTMLModel",
            "_view_count": null,
            "_view_module": "@jupyter-widgets/controls",
            "_view_module_version": "1.5.0",
            "_view_name": "HTMLView",
            "description": "",
            "description_tooltip": null,
            "layout": "IPY_MODEL_001aa2fe20904e648ef86616c4f70eb1",
            "placeholder": "​",
            "style": "IPY_MODEL_e158e02d45ea491091d5432edb921620",
            "value": " 922k/922k [00:00&lt;00:00, 9.61MB/s]"
          }
        },
        "0638e4cd063f4c03bbedf02145e763d4": {
          "model_module": "@jupyter-widgets/base",
          "model_name": "LayoutModel",
          "model_module_version": "1.2.0",
          "state": {
            "_model_module": "@jupyter-widgets/base",
            "_model_module_version": "1.2.0",
            "_model_name": "LayoutModel",
            "_view_count": null,
            "_view_module": "@jupyter-widgets/base",
            "_view_module_version": "1.2.0",
            "_view_name": "LayoutView",
            "align_content": null,
            "align_items": null,
            "align_self": null,
            "border": null,
            "bottom": null,
            "display": null,
            "flex": null,
            "flex_flow": null,
            "grid_area": null,
            "grid_auto_columns": null,
            "grid_auto_flow": null,
            "grid_auto_rows": null,
            "grid_column": null,
            "grid_gap": null,
            "grid_row": null,
            "grid_template_areas": null,
            "grid_template_columns": null,
            "grid_template_rows": null,
            "height": null,
            "justify_content": null,
            "justify_items": null,
            "left": null,
            "margin": null,
            "max_height": null,
            "max_width": null,
            "min_height": null,
            "min_width": null,
            "object_fit": null,
            "object_position": null,
            "order": null,
            "overflow": null,
            "overflow_x": null,
            "overflow_y": null,
            "padding": null,
            "right": null,
            "top": null,
            "visibility": null,
            "width": null
          }
        },
        "9742bb8717cf4cb7965df7cb919d89f9": {
          "model_module": "@jupyter-widgets/base",
          "model_name": "LayoutModel",
          "model_module_version": "1.2.0",
          "state": {
            "_model_module": "@jupyter-widgets/base",
            "_model_module_version": "1.2.0",
            "_model_name": "LayoutModel",
            "_view_count": null,
            "_view_module": "@jupyter-widgets/base",
            "_view_module_version": "1.2.0",
            "_view_name": "LayoutView",
            "align_content": null,
            "align_items": null,
            "align_self": null,
            "border": null,
            "bottom": null,
            "display": null,
            "flex": null,
            "flex_flow": null,
            "grid_area": null,
            "grid_auto_columns": null,
            "grid_auto_flow": null,
            "grid_auto_rows": null,
            "grid_column": null,
            "grid_gap": null,
            "grid_row": null,
            "grid_template_areas": null,
            "grid_template_columns": null,
            "grid_template_rows": null,
            "height": null,
            "justify_content": null,
            "justify_items": null,
            "left": null,
            "margin": null,
            "max_height": null,
            "max_width": null,
            "min_height": null,
            "min_width": null,
            "object_fit": null,
            "object_position": null,
            "order": null,
            "overflow": null,
            "overflow_x": null,
            "overflow_y": null,
            "padding": null,
            "right": null,
            "top": null,
            "visibility": null,
            "width": null
          }
        },
        "45060d1fa64f4bb7816f272a9388b548": {
          "model_module": "@jupyter-widgets/controls",
          "model_name": "DescriptionStyleModel",
          "model_module_version": "1.5.0",
          "state": {
            "_model_module": "@jupyter-widgets/controls",
            "_model_module_version": "1.5.0",
            "_model_name": "DescriptionStyleModel",
            "_view_count": null,
            "_view_module": "@jupyter-widgets/base",
            "_view_module_version": "1.2.0",
            "_view_name": "StyleView",
            "description_width": ""
          }
        },
        "a19e051c08804db9ae2e0c381d90a8cf": {
          "model_module": "@jupyter-widgets/base",
          "model_name": "LayoutModel",
          "model_module_version": "1.2.0",
          "state": {
            "_model_module": "@jupyter-widgets/base",
            "_model_module_version": "1.2.0",
            "_model_name": "LayoutModel",
            "_view_count": null,
            "_view_module": "@jupyter-widgets/base",
            "_view_module_version": "1.2.0",
            "_view_name": "LayoutView",
            "align_content": null,
            "align_items": null,
            "align_self": null,
            "border": null,
            "bottom": null,
            "display": null,
            "flex": null,
            "flex_flow": null,
            "grid_area": null,
            "grid_auto_columns": null,
            "grid_auto_flow": null,
            "grid_auto_rows": null,
            "grid_column": null,
            "grid_gap": null,
            "grid_row": null,
            "grid_template_areas": null,
            "grid_template_columns": null,
            "grid_template_rows": null,
            "height": null,
            "justify_content": null,
            "justify_items": null,
            "left": null,
            "margin": null,
            "max_height": null,
            "max_width": null,
            "min_height": null,
            "min_width": null,
            "object_fit": null,
            "object_position": null,
            "order": null,
            "overflow": null,
            "overflow_x": null,
            "overflow_y": null,
            "padding": null,
            "right": null,
            "top": null,
            "visibility": null,
            "width": null
          }
        },
        "3d5f3146614547a3b5bb4107816fa675": {
          "model_module": "@jupyter-widgets/controls",
          "model_name": "ProgressStyleModel",
          "model_module_version": "1.5.0",
          "state": {
            "_model_module": "@jupyter-widgets/controls",
            "_model_module_version": "1.5.0",
            "_model_name": "ProgressStyleModel",
            "_view_count": null,
            "_view_module": "@jupyter-widgets/base",
            "_view_module_version": "1.2.0",
            "_view_name": "StyleView",
            "bar_color": null,
            "description_width": ""
          }
        },
        "001aa2fe20904e648ef86616c4f70eb1": {
          "model_module": "@jupyter-widgets/base",
          "model_name": "LayoutModel",
          "model_module_version": "1.2.0",
          "state": {
            "_model_module": "@jupyter-widgets/base",
            "_model_module_version": "1.2.0",
            "_model_name": "LayoutModel",
            "_view_count": null,
            "_view_module": "@jupyter-widgets/base",
            "_view_module_version": "1.2.0",
            "_view_name": "LayoutView",
            "align_content": null,
            "align_items": null,
            "align_self": null,
            "border": null,
            "bottom": null,
            "display": null,
            "flex": null,
            "flex_flow": null,
            "grid_area": null,
            "grid_auto_columns": null,
            "grid_auto_flow": null,
            "grid_auto_rows": null,
            "grid_column": null,
            "grid_gap": null,
            "grid_row": null,
            "grid_template_areas": null,
            "grid_template_columns": null,
            "grid_template_rows": null,
            "height": null,
            "justify_content": null,
            "justify_items": null,
            "left": null,
            "margin": null,
            "max_height": null,
            "max_width": null,
            "min_height": null,
            "min_width": null,
            "object_fit": null,
            "object_position": null,
            "order": null,
            "overflow": null,
            "overflow_x": null,
            "overflow_y": null,
            "padding": null,
            "right": null,
            "top": null,
            "visibility": null,
            "width": null
          }
        },
        "e158e02d45ea491091d5432edb921620": {
          "model_module": "@jupyter-widgets/controls",
          "model_name": "DescriptionStyleModel",
          "model_module_version": "1.5.0",
          "state": {
            "_model_module": "@jupyter-widgets/controls",
            "_model_module_version": "1.5.0",
            "_model_name": "DescriptionStyleModel",
            "_view_count": null,
            "_view_module": "@jupyter-widgets/base",
            "_view_module_version": "1.2.0",
            "_view_name": "StyleView",
            "description_width": ""
          }
        },
        "7740332d08a7430597d3bb56356a276f": {
          "model_module": "@jupyter-widgets/controls",
          "model_name": "HBoxModel",
          "model_module_version": "1.5.0",
          "state": {
            "_dom_classes": [],
            "_model_module": "@jupyter-widgets/controls",
            "_model_module_version": "1.5.0",
            "_model_name": "HBoxModel",
            "_view_count": null,
            "_view_module": "@jupyter-widgets/controls",
            "_view_module_version": "1.5.0",
            "_view_name": "HBoxView",
            "box_style": "",
            "children": [
              "IPY_MODEL_e7d8a797c7774a6eb4942c3c9d57fe19",
              "IPY_MODEL_23a32a2d0b4b4b2abfacc9acae5a036f",
              "IPY_MODEL_e46eb5e07a2d4ba89409eb62453abc57"
            ],
            "layout": "IPY_MODEL_aa34f02753554c06ad24b5d4f95b26e0"
          }
        },
        "e7d8a797c7774a6eb4942c3c9d57fe19": {
          "model_module": "@jupyter-widgets/controls",
          "model_name": "HTMLModel",
          "model_module_version": "1.5.0",
          "state": {
            "_dom_classes": [],
            "_model_module": "@jupyter-widgets/controls",
            "_model_module_version": "1.5.0",
            "_model_name": "HTMLModel",
            "_view_count": null,
            "_view_module": "@jupyter-widgets/controls",
            "_view_module_version": "1.5.0",
            "_view_name": "HTMLView",
            "description": "",
            "description_tooltip": null,
            "layout": "IPY_MODEL_de611fb81e03417886cd53299d17be82",
            "placeholder": "​",
            "style": "IPY_MODEL_6c384e4e61214ceab4d3b6aace7823d0",
            "value": "validation-00000-of-00001.parquet: 100%"
          }
        },
        "23a32a2d0b4b4b2abfacc9acae5a036f": {
          "model_module": "@jupyter-widgets/controls",
          "model_name": "FloatProgressModel",
          "model_module_version": "1.5.0",
          "state": {
            "_dom_classes": [],
            "_model_module": "@jupyter-widgets/controls",
            "_model_module_version": "1.5.0",
            "_model_name": "FloatProgressModel",
            "_view_count": null,
            "_view_module": "@jupyter-widgets/controls",
            "_view_module_version": "1.5.0",
            "_view_name": "ProgressView",
            "bar_style": "success",
            "description": "",
            "description_tooltip": null,
            "layout": "IPY_MODEL_bb3a3bfec7c04fe0a7b2da94c3a12847",
            "max": 130920,
            "min": 0,
            "orientation": "horizontal",
            "style": "IPY_MODEL_97a432d801b84c8d90a9fb84c1efbf95",
            "value": 130920
          }
        },
        "e46eb5e07a2d4ba89409eb62453abc57": {
          "model_module": "@jupyter-widgets/controls",
          "model_name": "HTMLModel",
          "model_module_version": "1.5.0",
          "state": {
            "_dom_classes": [],
            "_model_module": "@jupyter-widgets/controls",
            "_model_module_version": "1.5.0",
            "_model_name": "HTMLModel",
            "_view_count": null,
            "_view_module": "@jupyter-widgets/controls",
            "_view_module_version": "1.5.0",
            "_view_name": "HTMLView",
            "description": "",
            "description_tooltip": null,
            "layout": "IPY_MODEL_bfc0ba5b139746bcb3fcb9643ae0fcd9",
            "placeholder": "​",
            "style": "IPY_MODEL_a33752a1902d4810a3c87baf932b165a",
            "value": " 131k/131k [00:00&lt;00:00, 2.00MB/s]"
          }
        },
        "aa34f02753554c06ad24b5d4f95b26e0": {
          "model_module": "@jupyter-widgets/base",
          "model_name": "LayoutModel",
          "model_module_version": "1.2.0",
          "state": {
            "_model_module": "@jupyter-widgets/base",
            "_model_module_version": "1.2.0",
            "_model_name": "LayoutModel",
            "_view_count": null,
            "_view_module": "@jupyter-widgets/base",
            "_view_module_version": "1.2.0",
            "_view_name": "LayoutView",
            "align_content": null,
            "align_items": null,
            "align_self": null,
            "border": null,
            "bottom": null,
            "display": null,
            "flex": null,
            "flex_flow": null,
            "grid_area": null,
            "grid_auto_columns": null,
            "grid_auto_flow": null,
            "grid_auto_rows": null,
            "grid_column": null,
            "grid_gap": null,
            "grid_row": null,
            "grid_template_areas": null,
            "grid_template_columns": null,
            "grid_template_rows": null,
            "height": null,
            "justify_content": null,
            "justify_items": null,
            "left": null,
            "margin": null,
            "max_height": null,
            "max_width": null,
            "min_height": null,
            "min_width": null,
            "object_fit": null,
            "object_position": null,
            "order": null,
            "overflow": null,
            "overflow_x": null,
            "overflow_y": null,
            "padding": null,
            "right": null,
            "top": null,
            "visibility": null,
            "width": null
          }
        },
        "de611fb81e03417886cd53299d17be82": {
          "model_module": "@jupyter-widgets/base",
          "model_name": "LayoutModel",
          "model_module_version": "1.2.0",
          "state": {
            "_model_module": "@jupyter-widgets/base",
            "_model_module_version": "1.2.0",
            "_model_name": "LayoutModel",
            "_view_count": null,
            "_view_module": "@jupyter-widgets/base",
            "_view_module_version": "1.2.0",
            "_view_name": "LayoutView",
            "align_content": null,
            "align_items": null,
            "align_self": null,
            "border": null,
            "bottom": null,
            "display": null,
            "flex": null,
            "flex_flow": null,
            "grid_area": null,
            "grid_auto_columns": null,
            "grid_auto_flow": null,
            "grid_auto_rows": null,
            "grid_column": null,
            "grid_gap": null,
            "grid_row": null,
            "grid_template_areas": null,
            "grid_template_columns": null,
            "grid_template_rows": null,
            "height": null,
            "justify_content": null,
            "justify_items": null,
            "left": null,
            "margin": null,
            "max_height": null,
            "max_width": null,
            "min_height": null,
            "min_width": null,
            "object_fit": null,
            "object_position": null,
            "order": null,
            "overflow": null,
            "overflow_x": null,
            "overflow_y": null,
            "padding": null,
            "right": null,
            "top": null,
            "visibility": null,
            "width": null
          }
        },
        "6c384e4e61214ceab4d3b6aace7823d0": {
          "model_module": "@jupyter-widgets/controls",
          "model_name": "DescriptionStyleModel",
          "model_module_version": "1.5.0",
          "state": {
            "_model_module": "@jupyter-widgets/controls",
            "_model_module_version": "1.5.0",
            "_model_name": "DescriptionStyleModel",
            "_view_count": null,
            "_view_module": "@jupyter-widgets/base",
            "_view_module_version": "1.2.0",
            "_view_name": "StyleView",
            "description_width": ""
          }
        },
        "bb3a3bfec7c04fe0a7b2da94c3a12847": {
          "model_module": "@jupyter-widgets/base",
          "model_name": "LayoutModel",
          "model_module_version": "1.2.0",
          "state": {
            "_model_module": "@jupyter-widgets/base",
            "_model_module_version": "1.2.0",
            "_model_name": "LayoutModel",
            "_view_count": null,
            "_view_module": "@jupyter-widgets/base",
            "_view_module_version": "1.2.0",
            "_view_name": "LayoutView",
            "align_content": null,
            "align_items": null,
            "align_self": null,
            "border": null,
            "bottom": null,
            "display": null,
            "flex": null,
            "flex_flow": null,
            "grid_area": null,
            "grid_auto_columns": null,
            "grid_auto_flow": null,
            "grid_auto_rows": null,
            "grid_column": null,
            "grid_gap": null,
            "grid_row": null,
            "grid_template_areas": null,
            "grid_template_columns": null,
            "grid_template_rows": null,
            "height": null,
            "justify_content": null,
            "justify_items": null,
            "left": null,
            "margin": null,
            "max_height": null,
            "max_width": null,
            "min_height": null,
            "min_width": null,
            "object_fit": null,
            "object_position": null,
            "order": null,
            "overflow": null,
            "overflow_x": null,
            "overflow_y": null,
            "padding": null,
            "right": null,
            "top": null,
            "visibility": null,
            "width": null
          }
        },
        "97a432d801b84c8d90a9fb84c1efbf95": {
          "model_module": "@jupyter-widgets/controls",
          "model_name": "ProgressStyleModel",
          "model_module_version": "1.5.0",
          "state": {
            "_model_module": "@jupyter-widgets/controls",
            "_model_module_version": "1.5.0",
            "_model_name": "ProgressStyleModel",
            "_view_count": null,
            "_view_module": "@jupyter-widgets/base",
            "_view_module_version": "1.2.0",
            "_view_name": "StyleView",
            "bar_color": null,
            "description_width": ""
          }
        },
        "bfc0ba5b139746bcb3fcb9643ae0fcd9": {
          "model_module": "@jupyter-widgets/base",
          "model_name": "LayoutModel",
          "model_module_version": "1.2.0",
          "state": {
            "_model_module": "@jupyter-widgets/base",
            "_model_module_version": "1.2.0",
            "_model_name": "LayoutModel",
            "_view_count": null,
            "_view_module": "@jupyter-widgets/base",
            "_view_module_version": "1.2.0",
            "_view_name": "LayoutView",
            "align_content": null,
            "align_items": null,
            "align_self": null,
            "border": null,
            "bottom": null,
            "display": null,
            "flex": null,
            "flex_flow": null,
            "grid_area": null,
            "grid_auto_columns": null,
            "grid_auto_flow": null,
            "grid_auto_rows": null,
            "grid_column": null,
            "grid_gap": null,
            "grid_row": null,
            "grid_template_areas": null,
            "grid_template_columns": null,
            "grid_template_rows": null,
            "height": null,
            "justify_content": null,
            "justify_items": null,
            "left": null,
            "margin": null,
            "max_height": null,
            "max_width": null,
            "min_height": null,
            "min_width": null,
            "object_fit": null,
            "object_position": null,
            "order": null,
            "overflow": null,
            "overflow_x": null,
            "overflow_y": null,
            "padding": null,
            "right": null,
            "top": null,
            "visibility": null,
            "width": null
          }
        },
        "a33752a1902d4810a3c87baf932b165a": {
          "model_module": "@jupyter-widgets/controls",
          "model_name": "DescriptionStyleModel",
          "model_module_version": "1.5.0",
          "state": {
            "_model_module": "@jupyter-widgets/controls",
            "_model_module_version": "1.5.0",
            "_model_name": "DescriptionStyleModel",
            "_view_count": null,
            "_view_module": "@jupyter-widgets/base",
            "_view_module_version": "1.2.0",
            "_view_name": "StyleView",
            "description_width": ""
          }
        },
        "ffabbe5a57bb4851994685a95e7524f0": {
          "model_module": "@jupyter-widgets/controls",
          "model_name": "HBoxModel",
          "model_module_version": "1.5.0",
          "state": {
            "_dom_classes": [],
            "_model_module": "@jupyter-widgets/controls",
            "_model_module_version": "1.5.0",
            "_model_name": "HBoxModel",
            "_view_count": null,
            "_view_module": "@jupyter-widgets/controls",
            "_view_module_version": "1.5.0",
            "_view_name": "HBoxView",
            "box_style": "",
            "children": [
              "IPY_MODEL_fc789e2911324e62b0c73fcd57d2dc63",
              "IPY_MODEL_c41630f962c14bde9c0b2f3e97b2f5ac",
              "IPY_MODEL_ee196246a770499a9770f691b0f5267f"
            ],
            "layout": "IPY_MODEL_f4a2588bbffe4ef2b78b3d225b9e2eff"
          }
        },
        "fc789e2911324e62b0c73fcd57d2dc63": {
          "model_module": "@jupyter-widgets/controls",
          "model_name": "HTMLModel",
          "model_module_version": "1.5.0",
          "state": {
            "_dom_classes": [],
            "_model_module": "@jupyter-widgets/controls",
            "_model_module_version": "1.5.0",
            "_model_name": "HTMLModel",
            "_view_count": null,
            "_view_module": "@jupyter-widgets/controls",
            "_view_module_version": "1.5.0",
            "_view_name": "HTMLView",
            "description": "",
            "description_tooltip": null,
            "layout": "IPY_MODEL_42967534ad01413db385b382a155d580",
            "placeholder": "​",
            "style": "IPY_MODEL_ddbfa9bd5241427fa97f15f6c8efdf1b",
            "value": "test-00000-of-00001.parquet: 100%"
          }
        },
        "c41630f962c14bde9c0b2f3e97b2f5ac": {
          "model_module": "@jupyter-widgets/controls",
          "model_name": "FloatProgressModel",
          "model_module_version": "1.5.0",
          "state": {
            "_dom_classes": [],
            "_model_module": "@jupyter-widgets/controls",
            "_model_module_version": "1.5.0",
            "_model_name": "FloatProgressModel",
            "_view_count": null,
            "_view_module": "@jupyter-widgets/controls",
            "_view_module_version": "1.5.0",
            "_view_name": "ProgressView",
            "bar_style": "success",
            "description": "",
            "description_tooltip": null,
            "layout": "IPY_MODEL_90e4ac816cf847168dde946c5493c7da",
            "max": 74766,
            "min": 0,
            "orientation": "horizontal",
            "style": "IPY_MODEL_0d03e2868aef4c5baeb67a616312d0db",
            "value": 74766
          }
        },
        "ee196246a770499a9770f691b0f5267f": {
          "model_module": "@jupyter-widgets/controls",
          "model_name": "HTMLModel",
          "model_module_version": "1.5.0",
          "state": {
            "_dom_classes": [],
            "_model_module": "@jupyter-widgets/controls",
            "_model_module_version": "1.5.0",
            "_model_name": "HTMLModel",
            "_view_count": null,
            "_view_module": "@jupyter-widgets/controls",
            "_view_module_version": "1.5.0",
            "_view_name": "HTMLView",
            "description": "",
            "description_tooltip": null,
            "layout": "IPY_MODEL_d9471d9e5d7a462ca7205bfed4a6399c",
            "placeholder": "​",
            "style": "IPY_MODEL_878439ecdb45487aa78810ef7853afcd",
            "value": " 74.8k/74.8k [00:00&lt;00:00, 1.09MB/s]"
          }
        },
        "f4a2588bbffe4ef2b78b3d225b9e2eff": {
          "model_module": "@jupyter-widgets/base",
          "model_name": "LayoutModel",
          "model_module_version": "1.2.0",
          "state": {
            "_model_module": "@jupyter-widgets/base",
            "_model_module_version": "1.2.0",
            "_model_name": "LayoutModel",
            "_view_count": null,
            "_view_module": "@jupyter-widgets/base",
            "_view_module_version": "1.2.0",
            "_view_name": "LayoutView",
            "align_content": null,
            "align_items": null,
            "align_self": null,
            "border": null,
            "bottom": null,
            "display": null,
            "flex": null,
            "flex_flow": null,
            "grid_area": null,
            "grid_auto_columns": null,
            "grid_auto_flow": null,
            "grid_auto_rows": null,
            "grid_column": null,
            "grid_gap": null,
            "grid_row": null,
            "grid_template_areas": null,
            "grid_template_columns": null,
            "grid_template_rows": null,
            "height": null,
            "justify_content": null,
            "justify_items": null,
            "left": null,
            "margin": null,
            "max_height": null,
            "max_width": null,
            "min_height": null,
            "min_width": null,
            "object_fit": null,
            "object_position": null,
            "order": null,
            "overflow": null,
            "overflow_x": null,
            "overflow_y": null,
            "padding": null,
            "right": null,
            "top": null,
            "visibility": null,
            "width": null
          }
        },
        "42967534ad01413db385b382a155d580": {
          "model_module": "@jupyter-widgets/base",
          "model_name": "LayoutModel",
          "model_module_version": "1.2.0",
          "state": {
            "_model_module": "@jupyter-widgets/base",
            "_model_module_version": "1.2.0",
            "_model_name": "LayoutModel",
            "_view_count": null,
            "_view_module": "@jupyter-widgets/base",
            "_view_module_version": "1.2.0",
            "_view_name": "LayoutView",
            "align_content": null,
            "align_items": null,
            "align_self": null,
            "border": null,
            "bottom": null,
            "display": null,
            "flex": null,
            "flex_flow": null,
            "grid_area": null,
            "grid_auto_columns": null,
            "grid_auto_flow": null,
            "grid_auto_rows": null,
            "grid_column": null,
            "grid_gap": null,
            "grid_row": null,
            "grid_template_areas": null,
            "grid_template_columns": null,
            "grid_template_rows": null,
            "height": null,
            "justify_content": null,
            "justify_items": null,
            "left": null,
            "margin": null,
            "max_height": null,
            "max_width": null,
            "min_height": null,
            "min_width": null,
            "object_fit": null,
            "object_position": null,
            "order": null,
            "overflow": null,
            "overflow_x": null,
            "overflow_y": null,
            "padding": null,
            "right": null,
            "top": null,
            "visibility": null,
            "width": null
          }
        },
        "ddbfa9bd5241427fa97f15f6c8efdf1b": {
          "model_module": "@jupyter-widgets/controls",
          "model_name": "DescriptionStyleModel",
          "model_module_version": "1.5.0",
          "state": {
            "_model_module": "@jupyter-widgets/controls",
            "_model_module_version": "1.5.0",
            "_model_name": "DescriptionStyleModel",
            "_view_count": null,
            "_view_module": "@jupyter-widgets/base",
            "_view_module_version": "1.2.0",
            "_view_name": "StyleView",
            "description_width": ""
          }
        },
        "90e4ac816cf847168dde946c5493c7da": {
          "model_module": "@jupyter-widgets/base",
          "model_name": "LayoutModel",
          "model_module_version": "1.2.0",
          "state": {
            "_model_module": "@jupyter-widgets/base",
            "_model_module_version": "1.2.0",
            "_model_name": "LayoutModel",
            "_view_count": null,
            "_view_module": "@jupyter-widgets/base",
            "_view_module_version": "1.2.0",
            "_view_name": "LayoutView",
            "align_content": null,
            "align_items": null,
            "align_self": null,
            "border": null,
            "bottom": null,
            "display": null,
            "flex": null,
            "flex_flow": null,
            "grid_area": null,
            "grid_auto_columns": null,
            "grid_auto_flow": null,
            "grid_auto_rows": null,
            "grid_column": null,
            "grid_gap": null,
            "grid_row": null,
            "grid_template_areas": null,
            "grid_template_columns": null,
            "grid_template_rows": null,
            "height": null,
            "justify_content": null,
            "justify_items": null,
            "left": null,
            "margin": null,
            "max_height": null,
            "max_width": null,
            "min_height": null,
            "min_width": null,
            "object_fit": null,
            "object_position": null,
            "order": null,
            "overflow": null,
            "overflow_x": null,
            "overflow_y": null,
            "padding": null,
            "right": null,
            "top": null,
            "visibility": null,
            "width": null
          }
        },
        "0d03e2868aef4c5baeb67a616312d0db": {
          "model_module": "@jupyter-widgets/controls",
          "model_name": "ProgressStyleModel",
          "model_module_version": "1.5.0",
          "state": {
            "_model_module": "@jupyter-widgets/controls",
            "_model_module_version": "1.5.0",
            "_model_name": "ProgressStyleModel",
            "_view_count": null,
            "_view_module": "@jupyter-widgets/base",
            "_view_module_version": "1.2.0",
            "_view_name": "StyleView",
            "bar_color": null,
            "description_width": ""
          }
        },
        "d9471d9e5d7a462ca7205bfed4a6399c": {
          "model_module": "@jupyter-widgets/base",
          "model_name": "LayoutModel",
          "model_module_version": "1.2.0",
          "state": {
            "_model_module": "@jupyter-widgets/base",
            "_model_module_version": "1.2.0",
            "_model_name": "LayoutModel",
            "_view_count": null,
            "_view_module": "@jupyter-widgets/base",
            "_view_module_version": "1.2.0",
            "_view_name": "LayoutView",
            "align_content": null,
            "align_items": null,
            "align_self": null,
            "border": null,
            "bottom": null,
            "display": null,
            "flex": null,
            "flex_flow": null,
            "grid_area": null,
            "grid_auto_columns": null,
            "grid_auto_flow": null,
            "grid_auto_rows": null,
            "grid_column": null,
            "grid_gap": null,
            "grid_row": null,
            "grid_template_areas": null,
            "grid_template_columns": null,
            "grid_template_rows": null,
            "height": null,
            "justify_content": null,
            "justify_items": null,
            "left": null,
            "margin": null,
            "max_height": null,
            "max_width": null,
            "min_height": null,
            "min_width": null,
            "object_fit": null,
            "object_position": null,
            "order": null,
            "overflow": null,
            "overflow_x": null,
            "overflow_y": null,
            "padding": null,
            "right": null,
            "top": null,
            "visibility": null,
            "width": null
          }
        },
        "878439ecdb45487aa78810ef7853afcd": {
          "model_module": "@jupyter-widgets/controls",
          "model_name": "DescriptionStyleModel",
          "model_module_version": "1.5.0",
          "state": {
            "_model_module": "@jupyter-widgets/controls",
            "_model_module_version": "1.5.0",
            "_model_name": "DescriptionStyleModel",
            "_view_count": null,
            "_view_module": "@jupyter-widgets/base",
            "_view_module_version": "1.2.0",
            "_view_name": "StyleView",
            "description_width": ""
          }
        },
        "55ae8576397b4f65a4c89a19bc0842a2": {
          "model_module": "@jupyter-widgets/controls",
          "model_name": "HBoxModel",
          "model_module_version": "1.5.0",
          "state": {
            "_dom_classes": [],
            "_model_module": "@jupyter-widgets/controls",
            "_model_module_version": "1.5.0",
            "_model_name": "HBoxModel",
            "_view_count": null,
            "_view_module": "@jupyter-widgets/controls",
            "_view_module_version": "1.5.0",
            "_view_name": "HBoxView",
            "box_style": "",
            "children": [
              "IPY_MODEL_1af39cf54b2b413c9d5a37f20488f14d",
              "IPY_MODEL_2287d470881f477091fff223061615bb",
              "IPY_MODEL_1fbd25caf0f549d1ae75227af1e79d81"
            ],
            "layout": "IPY_MODEL_26e1e8edf55a41379a1d436f3479ce08"
          }
        },
        "1af39cf54b2b413c9d5a37f20488f14d": {
          "model_module": "@jupyter-widgets/controls",
          "model_name": "HTMLModel",
          "model_module_version": "1.5.0",
          "state": {
            "_dom_classes": [],
            "_model_module": "@jupyter-widgets/controls",
            "_model_module_version": "1.5.0",
            "_model_name": "HTMLModel",
            "_view_count": null,
            "_view_module": "@jupyter-widgets/controls",
            "_view_module_version": "1.5.0",
            "_view_name": "HTMLView",
            "description": "",
            "description_tooltip": null,
            "layout": "IPY_MODEL_959ef7ba0ef54038bec51ee1f4389a74",
            "placeholder": "​",
            "style": "IPY_MODEL_467bd266c0674cffbca1a763061c68f1",
            "value": "Generating train split: 100%"
          }
        },
        "2287d470881f477091fff223061615bb": {
          "model_module": "@jupyter-widgets/controls",
          "model_name": "FloatProgressModel",
          "model_module_version": "1.5.0",
          "state": {
            "_dom_classes": [],
            "_model_module": "@jupyter-widgets/controls",
            "_model_module_version": "1.5.0",
            "_model_name": "FloatProgressModel",
            "_view_count": null,
            "_view_module": "@jupyter-widgets/controls",
            "_view_module_version": "1.5.0",
            "_view_name": "ProgressView",
            "bar_style": "success",
            "description": "",
            "description_tooltip": null,
            "layout": "IPY_MODEL_6125353bff7443b5bd3180d920696177",
            "max": 10833,
            "min": 0,
            "orientation": "horizontal",
            "style": "IPY_MODEL_68e21b3841884aa581e476799f81f0a4",
            "value": 10833
          }
        },
        "1fbd25caf0f549d1ae75227af1e79d81": {
          "model_module": "@jupyter-widgets/controls",
          "model_name": "HTMLModel",
          "model_module_version": "1.5.0",
          "state": {
            "_dom_classes": [],
            "_model_module": "@jupyter-widgets/controls",
            "_model_module_version": "1.5.0",
            "_model_name": "HTMLModel",
            "_view_count": null,
            "_view_module": "@jupyter-widgets/controls",
            "_view_module_version": "1.5.0",
            "_view_name": "HTMLView",
            "description": "",
            "description_tooltip": null,
            "layout": "IPY_MODEL_c20e51601f884625923e884b3500dbed",
            "placeholder": "​",
            "style": "IPY_MODEL_9607cc3fd6c644ffbe6cc41d41fc0e21",
            "value": " 10833/10833 [00:00&lt;00:00, 22131.23 examples/s]"
          }
        },
        "26e1e8edf55a41379a1d436f3479ce08": {
          "model_module": "@jupyter-widgets/base",
          "model_name": "LayoutModel",
          "model_module_version": "1.2.0",
          "state": {
            "_model_module": "@jupyter-widgets/base",
            "_model_module_version": "1.2.0",
            "_model_name": "LayoutModel",
            "_view_count": null,
            "_view_module": "@jupyter-widgets/base",
            "_view_module_version": "1.2.0",
            "_view_name": "LayoutView",
            "align_content": null,
            "align_items": null,
            "align_self": null,
            "border": null,
            "bottom": null,
            "display": null,
            "flex": null,
            "flex_flow": null,
            "grid_area": null,
            "grid_auto_columns": null,
            "grid_auto_flow": null,
            "grid_auto_rows": null,
            "grid_column": null,
            "grid_gap": null,
            "grid_row": null,
            "grid_template_areas": null,
            "grid_template_columns": null,
            "grid_template_rows": null,
            "height": null,
            "justify_content": null,
            "justify_items": null,
            "left": null,
            "margin": null,
            "max_height": null,
            "max_width": null,
            "min_height": null,
            "min_width": null,
            "object_fit": null,
            "object_position": null,
            "order": null,
            "overflow": null,
            "overflow_x": null,
            "overflow_y": null,
            "padding": null,
            "right": null,
            "top": null,
            "visibility": null,
            "width": null
          }
        },
        "959ef7ba0ef54038bec51ee1f4389a74": {
          "model_module": "@jupyter-widgets/base",
          "model_name": "LayoutModel",
          "model_module_version": "1.2.0",
          "state": {
            "_model_module": "@jupyter-widgets/base",
            "_model_module_version": "1.2.0",
            "_model_name": "LayoutModel",
            "_view_count": null,
            "_view_module": "@jupyter-widgets/base",
            "_view_module_version": "1.2.0",
            "_view_name": "LayoutView",
            "align_content": null,
            "align_items": null,
            "align_self": null,
            "border": null,
            "bottom": null,
            "display": null,
            "flex": null,
            "flex_flow": null,
            "grid_area": null,
            "grid_auto_columns": null,
            "grid_auto_flow": null,
            "grid_auto_rows": null,
            "grid_column": null,
            "grid_gap": null,
            "grid_row": null,
            "grid_template_areas": null,
            "grid_template_columns": null,
            "grid_template_rows": null,
            "height": null,
            "justify_content": null,
            "justify_items": null,
            "left": null,
            "margin": null,
            "max_height": null,
            "max_width": null,
            "min_height": null,
            "min_width": null,
            "object_fit": null,
            "object_position": null,
            "order": null,
            "overflow": null,
            "overflow_x": null,
            "overflow_y": null,
            "padding": null,
            "right": null,
            "top": null,
            "visibility": null,
            "width": null
          }
        },
        "467bd266c0674cffbca1a763061c68f1": {
          "model_module": "@jupyter-widgets/controls",
          "model_name": "DescriptionStyleModel",
          "model_module_version": "1.5.0",
          "state": {
            "_model_module": "@jupyter-widgets/controls",
            "_model_module_version": "1.5.0",
            "_model_name": "DescriptionStyleModel",
            "_view_count": null,
            "_view_module": "@jupyter-widgets/base",
            "_view_module_version": "1.2.0",
            "_view_name": "StyleView",
            "description_width": ""
          }
        },
        "6125353bff7443b5bd3180d920696177": {
          "model_module": "@jupyter-widgets/base",
          "model_name": "LayoutModel",
          "model_module_version": "1.2.0",
          "state": {
            "_model_module": "@jupyter-widgets/base",
            "_model_module_version": "1.2.0",
            "_model_name": "LayoutModel",
            "_view_count": null,
            "_view_module": "@jupyter-widgets/base",
            "_view_module_version": "1.2.0",
            "_view_name": "LayoutView",
            "align_content": null,
            "align_items": null,
            "align_self": null,
            "border": null,
            "bottom": null,
            "display": null,
            "flex": null,
            "flex_flow": null,
            "grid_area": null,
            "grid_auto_columns": null,
            "grid_auto_flow": null,
            "grid_auto_rows": null,
            "grid_column": null,
            "grid_gap": null,
            "grid_row": null,
            "grid_template_areas": null,
            "grid_template_columns": null,
            "grid_template_rows": null,
            "height": null,
            "justify_content": null,
            "justify_items": null,
            "left": null,
            "margin": null,
            "max_height": null,
            "max_width": null,
            "min_height": null,
            "min_width": null,
            "object_fit": null,
            "object_position": null,
            "order": null,
            "overflow": null,
            "overflow_x": null,
            "overflow_y": null,
            "padding": null,
            "right": null,
            "top": null,
            "visibility": null,
            "width": null
          }
        },
        "68e21b3841884aa581e476799f81f0a4": {
          "model_module": "@jupyter-widgets/controls",
          "model_name": "ProgressStyleModel",
          "model_module_version": "1.5.0",
          "state": {
            "_model_module": "@jupyter-widgets/controls",
            "_model_module_version": "1.5.0",
            "_model_name": "ProgressStyleModel",
            "_view_count": null,
            "_view_module": "@jupyter-widgets/base",
            "_view_module_version": "1.2.0",
            "_view_name": "StyleView",
            "bar_color": null,
            "description_width": ""
          }
        },
        "c20e51601f884625923e884b3500dbed": {
          "model_module": "@jupyter-widgets/base",
          "model_name": "LayoutModel",
          "model_module_version": "1.2.0",
          "state": {
            "_model_module": "@jupyter-widgets/base",
            "_model_module_version": "1.2.0",
            "_model_name": "LayoutModel",
            "_view_count": null,
            "_view_module": "@jupyter-widgets/base",
            "_view_module_version": "1.2.0",
            "_view_name": "LayoutView",
            "align_content": null,
            "align_items": null,
            "align_self": null,
            "border": null,
            "bottom": null,
            "display": null,
            "flex": null,
            "flex_flow": null,
            "grid_area": null,
            "grid_auto_columns": null,
            "grid_auto_flow": null,
            "grid_auto_rows": null,
            "grid_column": null,
            "grid_gap": null,
            "grid_row": null,
            "grid_template_areas": null,
            "grid_template_columns": null,
            "grid_template_rows": null,
            "height": null,
            "justify_content": null,
            "justify_items": null,
            "left": null,
            "margin": null,
            "max_height": null,
            "max_width": null,
            "min_height": null,
            "min_width": null,
            "object_fit": null,
            "object_position": null,
            "order": null,
            "overflow": null,
            "overflow_x": null,
            "overflow_y": null,
            "padding": null,
            "right": null,
            "top": null,
            "visibility": null,
            "width": null
          }
        },
        "9607cc3fd6c644ffbe6cc41d41fc0e21": {
          "model_module": "@jupyter-widgets/controls",
          "model_name": "DescriptionStyleModel",
          "model_module_version": "1.5.0",
          "state": {
            "_model_module": "@jupyter-widgets/controls",
            "_model_module_version": "1.5.0",
            "_model_name": "DescriptionStyleModel",
            "_view_count": null,
            "_view_module": "@jupyter-widgets/base",
            "_view_module_version": "1.2.0",
            "_view_name": "StyleView",
            "description_width": ""
          }
        },
        "72501bcf3ec44b7dad748a0f72672f66": {
          "model_module": "@jupyter-widgets/controls",
          "model_name": "HBoxModel",
          "model_module_version": "1.5.0",
          "state": {
            "_dom_classes": [],
            "_model_module": "@jupyter-widgets/controls",
            "_model_module_version": "1.5.0",
            "_model_name": "HBoxModel",
            "_view_count": null,
            "_view_module": "@jupyter-widgets/controls",
            "_view_module_version": "1.5.0",
            "_view_name": "HBoxView",
            "box_style": "",
            "children": [
              "IPY_MODEL_47c6f27061994615922c587459e02380",
              "IPY_MODEL_b3a8a893897a42678d8fd93f9928e281",
              "IPY_MODEL_1f9b144324e44983b59f1380f3b9d3a8"
            ],
            "layout": "IPY_MODEL_67aca6aa79184940aa886b4d5d23ea5f"
          }
        },
        "47c6f27061994615922c587459e02380": {
          "model_module": "@jupyter-widgets/controls",
          "model_name": "HTMLModel",
          "model_module_version": "1.5.0",
          "state": {
            "_dom_classes": [],
            "_model_module": "@jupyter-widgets/controls",
            "_model_module_version": "1.5.0",
            "_model_name": "HTMLModel",
            "_view_count": null,
            "_view_module": "@jupyter-widgets/controls",
            "_view_module_version": "1.5.0",
            "_view_name": "HTMLView",
            "description": "",
            "description_tooltip": null,
            "layout": "IPY_MODEL_ff3c027b3b8e4428b6df49a0cdeb5e7e",
            "placeholder": "​",
            "style": "IPY_MODEL_b64c9277d33f43f688dfe932f8f5e648",
            "value": "Generating validation split: 100%"
          }
        },
        "b3a8a893897a42678d8fd93f9928e281": {
          "model_module": "@jupyter-widgets/controls",
          "model_name": "FloatProgressModel",
          "model_module_version": "1.5.0",
          "state": {
            "_dom_classes": [],
            "_model_module": "@jupyter-widgets/controls",
            "_model_module_version": "1.5.0",
            "_model_name": "FloatProgressModel",
            "_view_count": null,
            "_view_module": "@jupyter-widgets/controls",
            "_view_module_version": "1.5.0",
            "_view_name": "ProgressView",
            "bar_style": "success",
            "description": "",
            "description_tooltip": null,
            "layout": "IPY_MODEL_872297529eb146fc81f57f89c87814d0",
            "max": 1307,
            "min": 0,
            "orientation": "horizontal",
            "style": "IPY_MODEL_74492ffd7d8245af9d942753baa56db3",
            "value": 1307
          }
        },
        "1f9b144324e44983b59f1380f3b9d3a8": {
          "model_module": "@jupyter-widgets/controls",
          "model_name": "HTMLModel",
          "model_module_version": "1.5.0",
          "state": {
            "_dom_classes": [],
            "_model_module": "@jupyter-widgets/controls",
            "_model_module_version": "1.5.0",
            "_model_name": "HTMLModel",
            "_view_count": null,
            "_view_module": "@jupyter-widgets/controls",
            "_view_module_version": "1.5.0",
            "_view_name": "HTMLView",
            "description": "",
            "description_tooltip": null,
            "layout": "IPY_MODEL_348a699515454f638b1f8726613967ea",
            "placeholder": "​",
            "style": "IPY_MODEL_b8ff96d5b6a849d89a7764227e53ead4",
            "value": " 1307/1307 [00:00&lt;00:00, 13071.91 examples/s]"
          }
        },
        "67aca6aa79184940aa886b4d5d23ea5f": {
          "model_module": "@jupyter-widgets/base",
          "model_name": "LayoutModel",
          "model_module_version": "1.2.0",
          "state": {
            "_model_module": "@jupyter-widgets/base",
            "_model_module_version": "1.2.0",
            "_model_name": "LayoutModel",
            "_view_count": null,
            "_view_module": "@jupyter-widgets/base",
            "_view_module_version": "1.2.0",
            "_view_name": "LayoutView",
            "align_content": null,
            "align_items": null,
            "align_self": null,
            "border": null,
            "bottom": null,
            "display": null,
            "flex": null,
            "flex_flow": null,
            "grid_area": null,
            "grid_auto_columns": null,
            "grid_auto_flow": null,
            "grid_auto_rows": null,
            "grid_column": null,
            "grid_gap": null,
            "grid_row": null,
            "grid_template_areas": null,
            "grid_template_columns": null,
            "grid_template_rows": null,
            "height": null,
            "justify_content": null,
            "justify_items": null,
            "left": null,
            "margin": null,
            "max_height": null,
            "max_width": null,
            "min_height": null,
            "min_width": null,
            "object_fit": null,
            "object_position": null,
            "order": null,
            "overflow": null,
            "overflow_x": null,
            "overflow_y": null,
            "padding": null,
            "right": null,
            "top": null,
            "visibility": null,
            "width": null
          }
        },
        "ff3c027b3b8e4428b6df49a0cdeb5e7e": {
          "model_module": "@jupyter-widgets/base",
          "model_name": "LayoutModel",
          "model_module_version": "1.2.0",
          "state": {
            "_model_module": "@jupyter-widgets/base",
            "_model_module_version": "1.2.0",
            "_model_name": "LayoutModel",
            "_view_count": null,
            "_view_module": "@jupyter-widgets/base",
            "_view_module_version": "1.2.0",
            "_view_name": "LayoutView",
            "align_content": null,
            "align_items": null,
            "align_self": null,
            "border": null,
            "bottom": null,
            "display": null,
            "flex": null,
            "flex_flow": null,
            "grid_area": null,
            "grid_auto_columns": null,
            "grid_auto_flow": null,
            "grid_auto_rows": null,
            "grid_column": null,
            "grid_gap": null,
            "grid_row": null,
            "grid_template_areas": null,
            "grid_template_columns": null,
            "grid_template_rows": null,
            "height": null,
            "justify_content": null,
            "justify_items": null,
            "left": null,
            "margin": null,
            "max_height": null,
            "max_width": null,
            "min_height": null,
            "min_width": null,
            "object_fit": null,
            "object_position": null,
            "order": null,
            "overflow": null,
            "overflow_x": null,
            "overflow_y": null,
            "padding": null,
            "right": null,
            "top": null,
            "visibility": null,
            "width": null
          }
        },
        "b64c9277d33f43f688dfe932f8f5e648": {
          "model_module": "@jupyter-widgets/controls",
          "model_name": "DescriptionStyleModel",
          "model_module_version": "1.5.0",
          "state": {
            "_model_module": "@jupyter-widgets/controls",
            "_model_module_version": "1.5.0",
            "_model_name": "DescriptionStyleModel",
            "_view_count": null,
            "_view_module": "@jupyter-widgets/base",
            "_view_module_version": "1.2.0",
            "_view_name": "StyleView",
            "description_width": ""
          }
        },
        "872297529eb146fc81f57f89c87814d0": {
          "model_module": "@jupyter-widgets/base",
          "model_name": "LayoutModel",
          "model_module_version": "1.2.0",
          "state": {
            "_model_module": "@jupyter-widgets/base",
            "_model_module_version": "1.2.0",
            "_model_name": "LayoutModel",
            "_view_count": null,
            "_view_module": "@jupyter-widgets/base",
            "_view_module_version": "1.2.0",
            "_view_name": "LayoutView",
            "align_content": null,
            "align_items": null,
            "align_self": null,
            "border": null,
            "bottom": null,
            "display": null,
            "flex": null,
            "flex_flow": null,
            "grid_area": null,
            "grid_auto_columns": null,
            "grid_auto_flow": null,
            "grid_auto_rows": null,
            "grid_column": null,
            "grid_gap": null,
            "grid_row": null,
            "grid_template_areas": null,
            "grid_template_columns": null,
            "grid_template_rows": null,
            "height": null,
            "justify_content": null,
            "justify_items": null,
            "left": null,
            "margin": null,
            "max_height": null,
            "max_width": null,
            "min_height": null,
            "min_width": null,
            "object_fit": null,
            "object_position": null,
            "order": null,
            "overflow": null,
            "overflow_x": null,
            "overflow_y": null,
            "padding": null,
            "right": null,
            "top": null,
            "visibility": null,
            "width": null
          }
        },
        "74492ffd7d8245af9d942753baa56db3": {
          "model_module": "@jupyter-widgets/controls",
          "model_name": "ProgressStyleModel",
          "model_module_version": "1.5.0",
          "state": {
            "_model_module": "@jupyter-widgets/controls",
            "_model_module_version": "1.5.0",
            "_model_name": "ProgressStyleModel",
            "_view_count": null,
            "_view_module": "@jupyter-widgets/base",
            "_view_module_version": "1.2.0",
            "_view_name": "StyleView",
            "bar_color": null,
            "description_width": ""
          }
        },
        "348a699515454f638b1f8726613967ea": {
          "model_module": "@jupyter-widgets/base",
          "model_name": "LayoutModel",
          "model_module_version": "1.2.0",
          "state": {
            "_model_module": "@jupyter-widgets/base",
            "_model_module_version": "1.2.0",
            "_model_name": "LayoutModel",
            "_view_count": null,
            "_view_module": "@jupyter-widgets/base",
            "_view_module_version": "1.2.0",
            "_view_name": "LayoutView",
            "align_content": null,
            "align_items": null,
            "align_self": null,
            "border": null,
            "bottom": null,
            "display": null,
            "flex": null,
            "flex_flow": null,
            "grid_area": null,
            "grid_auto_columns": null,
            "grid_auto_flow": null,
            "grid_auto_rows": null,
            "grid_column": null,
            "grid_gap": null,
            "grid_row": null,
            "grid_template_areas": null,
            "grid_template_columns": null,
            "grid_template_rows": null,
            "height": null,
            "justify_content": null,
            "justify_items": null,
            "left": null,
            "margin": null,
            "max_height": null,
            "max_width": null,
            "min_height": null,
            "min_width": null,
            "object_fit": null,
            "object_position": null,
            "order": null,
            "overflow": null,
            "overflow_x": null,
            "overflow_y": null,
            "padding": null,
            "right": null,
            "top": null,
            "visibility": null,
            "width": null
          }
        },
        "b8ff96d5b6a849d89a7764227e53ead4": {
          "model_module": "@jupyter-widgets/controls",
          "model_name": "DescriptionStyleModel",
          "model_module_version": "1.5.0",
          "state": {
            "_model_module": "@jupyter-widgets/controls",
            "_model_module_version": "1.5.0",
            "_model_name": "DescriptionStyleModel",
            "_view_count": null,
            "_view_module": "@jupyter-widgets/base",
            "_view_module_version": "1.2.0",
            "_view_name": "StyleView",
            "description_width": ""
          }
        },
        "2459938ece9349c6af3c6fe96af795be": {
          "model_module": "@jupyter-widgets/controls",
          "model_name": "HBoxModel",
          "model_module_version": "1.5.0",
          "state": {
            "_dom_classes": [],
            "_model_module": "@jupyter-widgets/controls",
            "_model_module_version": "1.5.0",
            "_model_name": "HBoxModel",
            "_view_count": null,
            "_view_module": "@jupyter-widgets/controls",
            "_view_module_version": "1.5.0",
            "_view_name": "HBoxView",
            "box_style": "",
            "children": [
              "IPY_MODEL_5df195ea8a95441f98ed003559d4a2ae",
              "IPY_MODEL_2feac193bfec4d1fbb1e85edac4e13ff",
              "IPY_MODEL_bb37caf36044410993be7a956c518c88"
            ],
            "layout": "IPY_MODEL_56d012f3fa7e45c3b0f955836366a6d9"
          }
        },
        "5df195ea8a95441f98ed003559d4a2ae": {
          "model_module": "@jupyter-widgets/controls",
          "model_name": "HTMLModel",
          "model_module_version": "1.5.0",
          "state": {
            "_dom_classes": [],
            "_model_module": "@jupyter-widgets/controls",
            "_model_module_version": "1.5.0",
            "_model_name": "HTMLModel",
            "_view_count": null,
            "_view_module": "@jupyter-widgets/controls",
            "_view_module_version": "1.5.0",
            "_view_name": "HTMLView",
            "description": "",
            "description_tooltip": null,
            "layout": "IPY_MODEL_60a50d54d8434e9183f0ac2634b7ea41",
            "placeholder": "​",
            "style": "IPY_MODEL_f040b67cbda74030afc1bafe9a0a7f18",
            "value": "Generating test split: 100%"
          }
        },
        "2feac193bfec4d1fbb1e85edac4e13ff": {
          "model_module": "@jupyter-widgets/controls",
          "model_name": "FloatProgressModel",
          "model_module_version": "1.5.0",
          "state": {
            "_dom_classes": [],
            "_model_module": "@jupyter-widgets/controls",
            "_model_module_version": "1.5.0",
            "_model_name": "FloatProgressModel",
            "_view_count": null,
            "_view_module": "@jupyter-widgets/controls",
            "_view_module_version": "1.5.0",
            "_view_name": "ProgressView",
            "bar_style": "success",
            "description": "",
            "description_tooltip": null,
            "layout": "IPY_MODEL_6325a8dc53944be0b2b045308875d6a1",
            "max": 668,
            "min": 0,
            "orientation": "horizontal",
            "style": "IPY_MODEL_b8c33152bd3749ccbfb995036c90440f",
            "value": 668
          }
        },
        "bb37caf36044410993be7a956c518c88": {
          "model_module": "@jupyter-widgets/controls",
          "model_name": "HTMLModel",
          "model_module_version": "1.5.0",
          "state": {
            "_dom_classes": [],
            "_model_module": "@jupyter-widgets/controls",
            "_model_module_version": "1.5.0",
            "_model_name": "HTMLModel",
            "_view_count": null,
            "_view_module": "@jupyter-widgets/controls",
            "_view_module_version": "1.5.0",
            "_view_name": "HTMLView",
            "description": "",
            "description_tooltip": null,
            "layout": "IPY_MODEL_d2cdfe44a87b4b9ea4c63d2733b76015",
            "placeholder": "​",
            "style": "IPY_MODEL_a7f5b2a12a2a4f6785f3a48dee0c48f2",
            "value": " 668/668 [00:00&lt;00:00, 9564.04 examples/s]"
          }
        },
        "56d012f3fa7e45c3b0f955836366a6d9": {
          "model_module": "@jupyter-widgets/base",
          "model_name": "LayoutModel",
          "model_module_version": "1.2.0",
          "state": {
            "_model_module": "@jupyter-widgets/base",
            "_model_module_version": "1.2.0",
            "_model_name": "LayoutModel",
            "_view_count": null,
            "_view_module": "@jupyter-widgets/base",
            "_view_module_version": "1.2.0",
            "_view_name": "LayoutView",
            "align_content": null,
            "align_items": null,
            "align_self": null,
            "border": null,
            "bottom": null,
            "display": null,
            "flex": null,
            "flex_flow": null,
            "grid_area": null,
            "grid_auto_columns": null,
            "grid_auto_flow": null,
            "grid_auto_rows": null,
            "grid_column": null,
            "grid_gap": null,
            "grid_row": null,
            "grid_template_areas": null,
            "grid_template_columns": null,
            "grid_template_rows": null,
            "height": null,
            "justify_content": null,
            "justify_items": null,
            "left": null,
            "margin": null,
            "max_height": null,
            "max_width": null,
            "min_height": null,
            "min_width": null,
            "object_fit": null,
            "object_position": null,
            "order": null,
            "overflow": null,
            "overflow_x": null,
            "overflow_y": null,
            "padding": null,
            "right": null,
            "top": null,
            "visibility": null,
            "width": null
          }
        },
        "60a50d54d8434e9183f0ac2634b7ea41": {
          "model_module": "@jupyter-widgets/base",
          "model_name": "LayoutModel",
          "model_module_version": "1.2.0",
          "state": {
            "_model_module": "@jupyter-widgets/base",
            "_model_module_version": "1.2.0",
            "_model_name": "LayoutModel",
            "_view_count": null,
            "_view_module": "@jupyter-widgets/base",
            "_view_module_version": "1.2.0",
            "_view_name": "LayoutView",
            "align_content": null,
            "align_items": null,
            "align_self": null,
            "border": null,
            "bottom": null,
            "display": null,
            "flex": null,
            "flex_flow": null,
            "grid_area": null,
            "grid_auto_columns": null,
            "grid_auto_flow": null,
            "grid_auto_rows": null,
            "grid_column": null,
            "grid_gap": null,
            "grid_row": null,
            "grid_template_areas": null,
            "grid_template_columns": null,
            "grid_template_rows": null,
            "height": null,
            "justify_content": null,
            "justify_items": null,
            "left": null,
            "margin": null,
            "max_height": null,
            "max_width": null,
            "min_height": null,
            "min_width": null,
            "object_fit": null,
            "object_position": null,
            "order": null,
            "overflow": null,
            "overflow_x": null,
            "overflow_y": null,
            "padding": null,
            "right": null,
            "top": null,
            "visibility": null,
            "width": null
          }
        },
        "f040b67cbda74030afc1bafe9a0a7f18": {
          "model_module": "@jupyter-widgets/controls",
          "model_name": "DescriptionStyleModel",
          "model_module_version": "1.5.0",
          "state": {
            "_model_module": "@jupyter-widgets/controls",
            "_model_module_version": "1.5.0",
            "_model_name": "DescriptionStyleModel",
            "_view_count": null,
            "_view_module": "@jupyter-widgets/base",
            "_view_module_version": "1.2.0",
            "_view_name": "StyleView",
            "description_width": ""
          }
        },
        "6325a8dc53944be0b2b045308875d6a1": {
          "model_module": "@jupyter-widgets/base",
          "model_name": "LayoutModel",
          "model_module_version": "1.2.0",
          "state": {
            "_model_module": "@jupyter-widgets/base",
            "_model_module_version": "1.2.0",
            "_model_name": "LayoutModel",
            "_view_count": null,
            "_view_module": "@jupyter-widgets/base",
            "_view_module_version": "1.2.0",
            "_view_name": "LayoutView",
            "align_content": null,
            "align_items": null,
            "align_self": null,
            "border": null,
            "bottom": null,
            "display": null,
            "flex": null,
            "flex_flow": null,
            "grid_area": null,
            "grid_auto_columns": null,
            "grid_auto_flow": null,
            "grid_auto_rows": null,
            "grid_column": null,
            "grid_gap": null,
            "grid_row": null,
            "grid_template_areas": null,
            "grid_template_columns": null,
            "grid_template_rows": null,
            "height": null,
            "justify_content": null,
            "justify_items": null,
            "left": null,
            "margin": null,
            "max_height": null,
            "max_width": null,
            "min_height": null,
            "min_width": null,
            "object_fit": null,
            "object_position": null,
            "order": null,
            "overflow": null,
            "overflow_x": null,
            "overflow_y": null,
            "padding": null,
            "right": null,
            "top": null,
            "visibility": null,
            "width": null
          }
        },
        "b8c33152bd3749ccbfb995036c90440f": {
          "model_module": "@jupyter-widgets/controls",
          "model_name": "ProgressStyleModel",
          "model_module_version": "1.5.0",
          "state": {
            "_model_module": "@jupyter-widgets/controls",
            "_model_module_version": "1.5.0",
            "_model_name": "ProgressStyleModel",
            "_view_count": null,
            "_view_module": "@jupyter-widgets/base",
            "_view_module_version": "1.2.0",
            "_view_name": "StyleView",
            "bar_color": null,
            "description_width": ""
          }
        },
        "d2cdfe44a87b4b9ea4c63d2733b76015": {
          "model_module": "@jupyter-widgets/base",
          "model_name": "LayoutModel",
          "model_module_version": "1.2.0",
          "state": {
            "_model_module": "@jupyter-widgets/base",
            "_model_module_version": "1.2.0",
            "_model_name": "LayoutModel",
            "_view_count": null,
            "_view_module": "@jupyter-widgets/base",
            "_view_module_version": "1.2.0",
            "_view_name": "LayoutView",
            "align_content": null,
            "align_items": null,
            "align_self": null,
            "border": null,
            "bottom": null,
            "display": null,
            "flex": null,
            "flex_flow": null,
            "grid_area": null,
            "grid_auto_columns": null,
            "grid_auto_flow": null,
            "grid_auto_rows": null,
            "grid_column": null,
            "grid_gap": null,
            "grid_row": null,
            "grid_template_areas": null,
            "grid_template_columns": null,
            "grid_template_rows": null,
            "height": null,
            "justify_content": null,
            "justify_items": null,
            "left": null,
            "margin": null,
            "max_height": null,
            "max_width": null,
            "min_height": null,
            "min_width": null,
            "object_fit": null,
            "object_position": null,
            "order": null,
            "overflow": null,
            "overflow_x": null,
            "overflow_y": null,
            "padding": null,
            "right": null,
            "top": null,
            "visibility": null,
            "width": null
          }
        },
        "a7f5b2a12a2a4f6785f3a48dee0c48f2": {
          "model_module": "@jupyter-widgets/controls",
          "model_name": "DescriptionStyleModel",
          "model_module_version": "1.5.0",
          "state": {
            "_model_module": "@jupyter-widgets/controls",
            "_model_module_version": "1.5.0",
            "_model_name": "DescriptionStyleModel",
            "_view_count": null,
            "_view_module": "@jupyter-widgets/base",
            "_view_module_version": "1.2.0",
            "_view_name": "StyleView",
            "description_width": ""
          }
        }
      }
    }
  },
  "nbformat": 4,
  "nbformat_minor": 5
}